{
 "cells": [
  {
   "cell_type": "markdown",
   "id": "37eb3907",
   "metadata": {},
   "source": [
    "### Cours sur les Fonctions en Python\n",
    "\n",
    "Les fonctions sont des blocs de code réutilisables qui effectuent une tâche spécifique. En Python, les fonctions permettent de structurer le code, d'améliorer sa lisibilité et de réduire la redondance.\n",
    "\n",
    "#### 1. Définition de Fonction\n",
    "\n",
    "Une fonction est définie en utilisant le mot-clé `def`, suivi du nom de la fonction, d'une paire de parenthèses (qui peut contenir des paramètres), et d'un deux-points. Le bloc de code à l'intérieur de la fonction est indenté.\n",
    "\n",
    "##### 1.1. Syntaxe de Base\n",
    "\n",
    "```python\n",
    "def nom_de_la_fonction(param1, param2):\n",
    "    # bloc de code\n",
    "    return resultat\n",
    "```"
   ]
  },
  {
   "cell_type": "code",
   "execution_count": 1,
   "id": "6dbef3f9",
   "metadata": {},
   "outputs": [
    {
     "name": "stdout",
     "output_type": "stream",
     "text": [
      "8\n"
     ]
    }
   ],
   "source": [
    "# Exemple :\n",
    "def addition(a, b):\n",
    "    return a + b\n",
    "\n",
    "resultat = addition(3, 5)\n",
    "print(resultat)  # Affiche 8"
   ]
  },
  {
   "cell_type": "code",
   "execution_count": 5,
   "id": "02feb4db",
   "metadata": {},
   "outputs": [],
   "source": [
    "def division(a, b=3):\n",
    "    if b == 0:\n",
    "        return -1\n",
    "    else:\n",
    "        return a/b"
   ]
  },
  {
   "cell_type": "code",
   "execution_count": 7,
   "id": "73e65853",
   "metadata": {},
   "outputs": [
    {
     "data": {
      "text/plain": [
       "5.0"
      ]
     },
     "execution_count": 7,
     "metadata": {},
     "output_type": "execute_result"
    }
   ],
   "source": [
    "division(10, 2)"
   ]
  },
  {
   "cell_type": "markdown",
   "id": "6b365b09",
   "metadata": {},
   "source": [
    "\n",
    "#### 2. Paramètres de Fonction\n",
    "\n",
    "Les fonctions peuvent accepter des paramètres pour recevoir des données d'entrée. Les paramètres sont spécifiés à l'intérieur des parenthèses lors de la définition de la fonction.\n",
    "\n",
    "##### 2.1. Paramètres par Défaut\n",
    "\n",
    "Les paramètres peuvent avoir des valeurs par défaut. Si un argument n'est pas fourni, la valeur par défaut est utilisée.\n",
    "\n",
    "```python\n",
    "def salutation(nom, message=\"Bonjour\"):\n",
    "    return f\"{message}, {nom}!\"\n",
    "\n",
    "print(salutation(\"Alice\"))          # Affiche \"Bonjour, Alice!\"\n",
    "print(salutation(\"Bob\", \"Salut\"))  # Affiche \"Salut, Bob!\"\n",
    "```"
   ]
  },
  {
   "cell_type": "markdown",
   "id": "7afb6837",
   "metadata": {},
   "source": [
    "##### 2.2. Arguments Positionnels et Nommes\n",
    "\n",
    "Les arguments peuvent être passés par position ou par nom.\n",
    "\n",
    "```python\n",
    "def volume(longueur, largeur, hauteur):\n",
    "    return longueur * largeur * hauteur\n",
    "\n",
    "print(volume(2, 3, 4))                # Arguments positionnels\n",
    "print(volume(largeur=3, longueur=2, hauteur=4))  # Arguments nommés\n",
    "```"
   ]
  },
  {
   "cell_type": "code",
   "execution_count": 8,
   "id": "f4f27bd0",
   "metadata": {},
   "outputs": [
    {
     "name": "stdout",
     "output_type": "stream",
     "text": [
      "24\n",
      "24\n"
     ]
    }
   ],
   "source": [
    "def volume(longueur, largeur, hauteur):\n",
    "    return longueur * largeur * hauteur\n",
    "\n",
    "print(volume(2, 3, 4))                # Arguments positionnels\n",
    "print(volume(largeur=3, longueur=2, hauteur=4))  # Arguments nommés"
   ]
  },
  {
   "cell_type": "markdown",
   "id": "0d6b2c6b",
   "metadata": {},
   "source": [
    "#### 3. Retour de Valeur\n",
    "\n",
    "Une fonction peut renvoyer une valeur en utilisant le mot-clé `return`. Si aucune valeur n'est renvoyée, la fonction retourne `None` par défaut.\n",
    "\n",
    "```python\n",
    "def carre(x):\n",
    "    return x * x\n",
    "\n",
    "print(carre(4))  # Affiche 16\n",
    "```"
   ]
  },
  {
   "cell_type": "code",
   "execution_count": 9,
   "id": "0ac40c7d",
   "metadata": {},
   "outputs": [
    {
     "name": "stdout",
     "output_type": "stream",
     "text": [
      "16\n"
     ]
    }
   ],
   "source": [
    "def carre(x):\n",
    "    return x * x\n",
    "\n",
    "print(carre(4))  # Affiche 16"
   ]
  },
  {
   "cell_type": "code",
   "execution_count": 10,
   "id": "8cccc215",
   "metadata": {},
   "outputs": [
    {
     "name": "stdout",
     "output_type": "stream",
     "text": [
      "16\n"
     ]
    }
   ],
   "source": [
    "resultat = carre(4)\n",
    "print(resultat)"
   ]
  },
  {
   "cell_type": "code",
   "execution_count": null,
   "id": "1264d2e5",
   "metadata": {},
   "outputs": [],
   "source": []
  },
  {
   "cell_type": "code",
   "execution_count": null,
   "id": "ae1aabc5",
   "metadata": {},
   "outputs": [],
   "source": []
  },
  {
   "cell_type": "markdown",
   "id": "2231f3e8",
   "metadata": {},
   "source": [
    "#### 4. Portée des Variables\n",
    "\n",
    "Les variables définies à l'intérieur d'une fonction sont locales à cette fonction. Les variables définies en dehors de la fonction sont globales.\n",
    "\n",
    "```python\n",
    "x = 10  # Variable globale\n",
    "\n",
    "def fonction():\n",
    "    x = 5  # Variable locale\n",
    "    print(x)\n",
    "\n",
    "fonction()  # Affiche 5\n",
    "print(x)    # Affiche 10\n",
    "```"
   ]
  },
  {
   "cell_type": "markdown",
   "id": "5c6bbfe4",
   "metadata": {},
   "source": [
    "#### 5. Fonctions Lambda\n",
    "\n",
    "Les fonctions lambda sont des fonctions anonymes définies à l'aide du mot-clé `lambda`. Elles sont souvent utilisées pour des opérations simples et rapides.\n",
    "\n",
    "```python\n",
    "carre = lambda x: x * x\n",
    "print(carre(5))  # Affiche 25\n",
    "\n",
    "somme = lambda a, b: a + b\n",
    "print(somme(3, 7))  # Affiche 10\n",
    "```"
   ]
  },
  {
   "cell_type": "code",
   "execution_count": 11,
   "id": "d6ddd4df",
   "metadata": {},
   "outputs": [
    {
     "name": "stdout",
     "output_type": "stream",
     "text": [
      "24\n"
     ]
    }
   ],
   "source": [
    "volume = lambda a,b,c: a*b*c\n",
    "print(volume(2,3,4))"
   ]
  },
  {
   "cell_type": "markdown",
   "id": "d7196996",
   "metadata": {},
   "source": [
    "\n",
    "#### 6. Fonctions Emboîtées\n",
    "\n",
    "Une fonction peut être définie à l'intérieur d'une autre fonction. Les fonctions emboîtées peuvent accéder aux variables locales de la fonction englobante.\n",
    "\n",
    "```python\n",
    "def exterieur(a, b):\n",
    "    def interieur(x):\n",
    "        return x * x\n",
    "    return interieur(a) + interieur(b)\n",
    "\n",
    "print(exterieur(2, 3))  # Affiche 13 (4 + 9)\n",
    "```"
   ]
  },
  {
   "cell_type": "markdown",
   "id": "ca41207e",
   "metadata": {},
   "source": [
    "#### 7. Fonctions Comme Objets de Première Classe\n",
    "\n",
    "En Python, les fonctions sont des objets de première classe. Cela signifie qu'elles peuvent être assignées à des variables, passées en arguments à d'autres fonctions, et retournées par des fonctions.\n",
    "\n",
    "```python\n",
    "def salutation(nom):\n",
    "    return f\"Bonjour, {nom}!\"\n",
    "\n",
    "dire_bonjour = salutation\n",
    "print(dire_bonjour(\"Alice\"))  # Affiche \"Bonjour, Alice!\"\n",
    "```"
   ]
  },
  {
   "cell_type": "markdown",
   "id": "c7b7ff92",
   "metadata": {},
   "source": [
    "\n",
    "#### 8. Fonctions d'Ordre Supérieur\n",
    "\n",
    "Les fonctions d'ordre supérieur sont des fonctions qui prennent d'autres fonctions comme arguments ou qui retournent des fonctions.\n",
    "\n",
    "##### 8.1. Exemple avec `map`\n",
    "\n",
    "```python\n",
    "def carre(x):\n",
    "    return x * x\n",
    "\n",
    "nombres = [1, 2, 3, 4]\n",
    "carres = list(map(carre, nombres))\n",
    "print(carres)  # Affiche [1, 4, 9, 16]\n",
    "```\n",
    "\n",
    "##### 8.2. Exemple avec `filter`\n",
    "\n",
    "```python\n",
    "def est_pair(x):\n",
    "    return x % 2 == 0\n",
    "\n",
    "nombres = [1, 2, 3, 4, 5, 6]\n",
    "pairs = list(filter(est_pair, nombres))\n",
    "print(pairs)  # Affiche [2, 4, 6]\n",
    "```"
   ]
  },
  {
   "cell_type": "markdown",
   "id": "886d144e",
   "metadata": {},
   "source": [
    "Voici un exercice avancé en Python qui inclut des chaînes de caractères et des structures de contrôle. Cet exercice demande de manipuler des chaînes de caractères, d'utiliser des boucles et des conditions pour résoudre un problème spécifique.\n",
    "\n",
    "### Exercice : Analyseur de texte\n",
    "\n",
    "#### Description\n",
    "\n",
    "Vous allez créer un analyseur de texte qui prend en entrée une chaîne de caractères et réalise plusieurs tâches :\n",
    "\n",
    "1. **Compter les voyelles et les consonnes** dans la chaîne.\n",
    "2. **Trouver la première et la dernière occurrence d'une lettre spécifique**.\n",
    "3. **Inverser les mots** dans la chaîne sans changer leur ordre.\n",
    "4. **Remplacer les espaces par des tirets** et convertir la chaîne en majuscules.\n",
    "5. **Vérifier si la chaîne est un palindrome**, en ignorant les espaces et la casse.\n",
    "\n",
    "#### Instructions\n",
    "\n",
    "1. **Compter les voyelles et les consonnes :**\n",
    "   - Écrire une fonction `count_vowels_consonants(text)` qui prend une chaîne de caractères `text` et retourne un tuple `(nombre_de_voyelles, nombre_de_consonnes)`.\n",
    "\n",
    "2. **Trouver les occurrences d'une lettre spécifique :**\n",
    "   - Écrire une fonction `find_occurrences(text, letter)` qui prend une chaîne de caractères `text` et une lettre `letter`, et retourne un tuple `(première_occurrence, dernière_occurrence)` représentant les indices de la première et de la dernière occurrence de la lettre. Si la lettre n'est pas trouvée, retourner `(-1, -1)`.\n",
    "\n",
    "3. **Inverser les mots :**\n",
    "   - Écrire une fonction `reverse_words(text)` qui prend une chaîne de caractères `text` et retourne une nouvelle chaîne avec les mots inversés mais dans le même ordre.\n",
    "\n",
    "4. **Remplacer les espaces par des tirets et convertir en majuscules :**\n",
    "   - Écrire une fonction `replace_spaces_and_uppercase(text)` qui prend une chaîne de caractères `text` et retourne une nouvelle chaîne où les espaces sont remplacés par des tirets et toutes les lettres sont en majuscules.\n",
    "\n",
    "5. **Vérifier si la chaîne est un palindrome :**\n",
    "   - Écrire une fonction `is_palindrome(text)` qui prend une chaîne de caractères `text` et retourne `True` si la chaîne est un palindrome (en ignorant les espaces et la casse), sinon `False`.\n",
    "\n",
    "#### Exemples\n",
    "\n",
    "```python\n",
    "text = \"A man a plan a canal Panama\"\n",
    "\n",
    "# Compter les voyelles et les consonnes\n",
    "print(count_vowels_consonants(text))  # (10, 11)\n",
    "\n",
    "# Trouver les occurrences de la lettre 'a'\n",
    "print(find_occurrences(text, 'a'))  # (1, 24)\n",
    "\n",
    "# Inverser les mots\n",
    "print(reverse_words(text))  # \"A nam a nalp a lanac amanaP\"\n",
    "\n",
    "# Remplacer les espaces par des tirets et convertir en majuscules\n",
    "print(replace_spaces_and_uppercase(text))  # \"A-MAN-A-PLAN-A-CANAL-PANAMA\"\n",
    "\n",
    "# Vérifier si la chaîne est un palindrome\n",
    "print(is_palindrome(text))  # True\n",
    "```\n"
   ]
  },
  {
   "cell_type": "code",
   "execution_count": 13,
   "id": "19f60a32",
   "metadata": {},
   "outputs": [],
   "source": [
    "def count_vowels_consonants(text):\n",
    "    vowels = \"aeiouy\"\n",
    "    text = text.lower()\n",
    "    index_vowels = 0\n",
    "    index_consonne = 0\n",
    "    \n",
    "    for lettre in text:\n",
    "        if lettre in vowels:\n",
    "            index_vowels += 1\n",
    "        if lettre.isalpha() and lettre not in vowels:\n",
    "            index_consonne += 1\n",
    "    \n",
    "    return index_vowels, index_consonne\n",
    "        "
   ]
  },
  {
   "cell_type": "code",
   "execution_count": 18,
   "id": "29649ba4",
   "metadata": {},
   "outputs": [
    {
     "data": {
      "text/plain": [
       "(10, 11)"
      ]
     },
     "execution_count": 18,
     "metadata": {},
     "output_type": "execute_result"
    }
   ],
   "source": [
    "text = \"A man a plan a canal Panama\"\n",
    "count_vowels_consonants(text)"
   ]
  },
  {
   "cell_type": "code",
   "execution_count": 19,
   "id": "9be605a5",
   "metadata": {},
   "outputs": [],
   "source": [
    "def find_occurrences(text, letter):\n",
    "    text = text.lower()\n",
    "    first_occurence = text.find(letter)\n",
    "    last_occurence = text.rfind(letter)\n",
    "    \n",
    "    return first_occurence, last_occurence"
   ]
  },
  {
   "cell_type": "code",
   "execution_count": 20,
   "id": "d568cb3a",
   "metadata": {},
   "outputs": [
    {
     "data": {
      "text/plain": [
       "(0, 26)"
      ]
     },
     "execution_count": 20,
     "metadata": {},
     "output_type": "execute_result"
    }
   ],
   "source": [
    "find_occurrences(text, \"a\")"
   ]
  },
  {
   "cell_type": "code",
   "execution_count": 21,
   "id": "bdb8180f",
   "metadata": {},
   "outputs": [
    {
     "data": {
      "text/plain": [
       "27"
      ]
     },
     "execution_count": 21,
     "metadata": {},
     "output_type": "execute_result"
    }
   ],
   "source": [
    "len(text)"
   ]
  },
  {
   "cell_type": "code",
   "execution_count": 22,
   "id": "88a75aad",
   "metadata": {},
   "outputs": [],
   "source": [
    "def reverse_words(text):\n",
    "    words = text.split(\" \")\n",
    "    reverse = [word[::-1] for word in words]\n",
    "    return \" \".join(reverse)"
   ]
  },
  {
   "cell_type": "code",
   "execution_count": 23,
   "id": "78f16936",
   "metadata": {},
   "outputs": [
    {
     "data": {
      "text/plain": [
       "'A nam a nalp a lanac amanaP'"
      ]
     },
     "execution_count": 23,
     "metadata": {},
     "output_type": "execute_result"
    }
   ],
   "source": [
    "reverse_words(text)"
   ]
  },
  {
   "cell_type": "code",
   "execution_count": null,
   "id": "6f3bcff8",
   "metadata": {},
   "outputs": [],
   "source": []
  },
  {
   "cell_type": "markdown",
   "id": "5ee98d3f",
   "metadata": {},
   "source": [
    "Voici un autre exercice avancé en Python qui inclut des chaînes de caractères et des structures de contrôle.\n",
    "\n",
    "### Exercice : Analyseur de Paroles de Chanson\n",
    "\n",
    "#### Description\n",
    "\n",
    "Vous allez créer un analyseur de paroles de chanson qui prend en entrée les paroles d'une chanson sous forme de chaîne de caractères et réalise plusieurs tâches :\n",
    "\n",
    "1. **Compter le nombre de mots** dans les paroles.\n",
    "2. **Trouver les mots les plus fréquents** et afficher les `n` mots les plus fréquents avec leur fréquence.\n",
    "3. **Identifier et afficher toutes les phrases qui contiennent un mot spécifique**.\n",
    "4. **Créer un acronyme** basé sur les premières lettres de chaque mot.\n",
    "5. **Remplacer certains mots par leurs synonymes** (dictionnaire de synonymes fourni).\n",
    "\n",
    "#### Instructions\n",
    "\n",
    "1. **Compter le nombre de mots :**\n",
    "   - Écrire une fonction `count_words(lyrics)` qui prend une chaîne de caractères `lyrics` et retourne le nombre de mots dans les paroles.\n",
    "\n",
    "2. **Trouver les mots les plus fréquents :**\n",
    "   - Écrire une fonction `most_frequent_words(lyrics, n)` qui prend une chaîne de caractères `lyrics` et un entier `n`, et retourne une liste des `n` mots les plus fréquents avec leur fréquence.\n",
    "\n",
    "3. **Identifier et afficher les phrases contenant un mot spécifique :**\n",
    "   - Écrire une fonction `find_sentences_with_word(lyrics, word)` qui prend une chaîne de caractères `lyrics` et un mot `word`, et retourne une liste de phrases contenant ce mot.\n",
    "\n",
    "4. **Créer un acronyme :**\n",
    "   - Écrire une fonction `create_acronym(lyrics)` qui prend une chaîne de caractères `lyrics` et retourne un acronyme basé sur les premières lettres de chaque mot.\n",
    "\n",
    "5. **Remplacer certains mots par leurs synonymes :**\n",
    "   - Écrire une fonction `replace_words_with_synonyms(lyrics, synonyms)` qui prend une chaîne de caractères `lyrics` et un dictionnaire `synonyms` où les clés sont des mots et les valeurs sont leurs synonymes, et retourne une nouvelle chaîne avec les mots remplacés par leurs synonymes.\n",
    "\n",
    "#### Exemple\n",
    "\n",
    "```python\n",
    "lyrics = \"\"\"\n",
    "We will, we will rock you\n",
    "We will, we will rock you\n",
    "Buddy, you're a boy, make a big noise\n",
    "Playing in the street, gonna be a big man someday\n",
    "You got mud on your face, you big disgrace\n",
    "Kicking your can all over the place, singing\n",
    "\"\"\"\n",
    "\n",
    "# Compter le nombre de mots\n",
    "print(count_words(lyrics))  # Par exemple, 40\n",
    "\n",
    "# Trouver les 3 mots les plus fréquents\n",
    "print(most_frequent_words(lyrics, 3))  # Par exemple, [('we', 4), ('will', 4), ('big', 3)]\n",
    "\n",
    "# Trouver les phrases contenant le mot 'big'\n",
    "print(find_sentences_with_word(lyrics, 'big'))  # Par exemple, [\"Buddy, you're a boy, make a big noise\", \"gonna be a big man someday\", \"you big disgrace\"]\n",
    "\n",
    "# Créer un acronyme\n",
    "print(create_acronym(lyrics))  # Par exemple, \"WWWWBYABMABNPISTGBABMSYGMOYFYBDKYCAOTPSS\"\n",
    "\n",
    "# Remplacer certains mots par leurs synonymes\n",
    "synonyms = {\n",
    "    \"rock\": \"shake\",\n",
    "    \"boy\": \"lad\",\n",
    "    \"street\": \"road\"\n",
    "}\n",
    "print(replace_words_with_synonyms(lyrics, synonyms))  # Par exemple, \"...we will shake you...lad...road...\"\n",
    "```\n"
   ]
  },
  {
   "cell_type": "code",
   "execution_count": 34,
   "id": "77a58b84",
   "metadata": {},
   "outputs": [
    {
     "data": {
      "text/plain": [
       "'A nam a nalp a lanac amanaP'"
      ]
     },
     "execution_count": 34,
     "metadata": {},
     "output_type": "execute_result"
    }
   ],
   "source": [
    "reverse_words(text)"
   ]
  },
  {
   "cell_type": "code",
   "execution_count": 35,
   "id": "840e02e9",
   "metadata": {},
   "outputs": [],
   "source": [
    "def replace_spaces_and_uppercase(text):\n",
    "    return text.replace(\" \", \"-\").upper()"
   ]
  },
  {
   "cell_type": "code",
   "execution_count": 36,
   "id": "509f100c",
   "metadata": {},
   "outputs": [
    {
     "data": {
      "text/plain": [
       "'A-MAN-A-PLAN-A-CANAL-PANAMA'"
      ]
     },
     "execution_count": 36,
     "metadata": {},
     "output_type": "execute_result"
    }
   ],
   "source": [
    "replace_spaces_and_uppercase(text)"
   ]
  },
  {
   "cell_type": "code",
   "execution_count": 48,
   "id": "61dc2570",
   "metadata": {},
   "outputs": [],
   "source": [
    "def palindrome(text):\n",
    "    clean = ''.join(char.lower() for char in text if char.isalnum())\n",
    "    print(f\"clean = {clean}\")\n",
    "    print(f\"text = {clean[::-1]}\")\n",
    "    return clean == clean[::-1]"
   ]
  },
  {
   "cell_type": "code",
   "execution_count": 49,
   "id": "e5bf1658",
   "metadata": {},
   "outputs": [
    {
     "name": "stdout",
     "output_type": "stream",
     "text": [
      "clean = amanaplanacanalpanama\n",
      "text = amanaplanacanalpanama\n"
     ]
    },
    {
     "data": {
      "text/plain": [
       "True"
      ]
     },
     "execution_count": 49,
     "metadata": {},
     "output_type": "execute_result"
    }
   ],
   "source": [
    "palindrome(text)"
   ]
  },
  {
   "cell_type": "markdown",
   "id": "212de057",
   "metadata": {},
   "source": [
    "#### Exercice Pratique\n",
    "\n",
    "**Exercice :** Écrivez une fonction appelée `analyze_text` qui prend une chaîne de caractères en entrée et retourne un dictionnaire contenant les statistiques suivantes :\n",
    "- Le nombre de mots\n",
    "- Le nombre de caractères\n",
    "- Le nombre de phrases (considérant que les phrases se terminent par un point, un point d'exclamation ou un point d'interrogation)\n",
    "\n",
    "**Solution :**\n",
    "\n",
    "```python\n",
    "import re\n",
    "\n",
    "def analyze_text(texte):\n",
    "    # Compter les mots\n",
    "    mots = re.findall(r'\\b\\w+\\b', texte)\n",
    "    nombre_de_mots = len(mots)\n",
    "    \n",
    "    # Compter les caractères\n",
    "    nombre_de_caracteres = len(texte)\n",
    "    \n",
    "    # Compter les phrases\n",
    "    phrases = re.findall(r'[^.!?]*[.!?]', texte)\n",
    "    nombre_de_phrases = len(phrases)\n",
    "    \n",
    "    return {\n",
    "        \"nombre_de_mots\": nombre_de_mots,\n",
    "        \"nombre_de_caracteres\": nombre_de_caracteres,\n",
    "        \"nombre_de_phrases\": nombre_de_phrases\n",
    "    }\n",
    "\n",
    "texte = \"Bonjour! Comment ça va? J'espère que vous passez une bonne journée.\"\n",
    "stats = analyze_text(texte)\n",
    "print(stats)\n",
    "```\n",
    "\n",
    "Ce cours couvre les concepts fondamentaux et avancés des fonctions en Python, y compris leur définition, l'utilisation des paramètres, les fonctions lambda, et les fonctions d'ordre supérieur. En pratiquant ces concepts, vous serez en mesure d'écrire des programmes plus structurés et réutilisables."
   ]
  },
  {
   "cell_type": "markdown",
   "id": "12da221f",
   "metadata": {},
   "source": []
  },
  {
   "cell_type": "code",
   "execution_count": null,
   "id": "fd531946",
   "metadata": {},
   "outputs": [],
   "source": []
  },
  {
   "cell_type": "code",
   "execution_count": null,
   "id": "cea7a4c2",
   "metadata": {},
   "outputs": [],
   "source": []
  },
  {
   "cell_type": "markdown",
   "id": "7be72a14",
   "metadata": {},
   "source": [
    "\n",
    "\n",
    "\n",
    "\n",
    "\n",
    "\n"
   ]
  }
 ],
 "metadata": {
  "kernelspec": {
   "display_name": "Python 3 (ipykernel)",
   "language": "python",
   "name": "python3"
  },
  "language_info": {
   "codemirror_mode": {
    "name": "ipython",
    "version": 3
   },
   "file_extension": ".py",
   "mimetype": "text/x-python",
   "name": "python",
   "nbconvert_exporter": "python",
   "pygments_lexer": "ipython3",
   "version": "3.10.9"
  }
 },
 "nbformat": 4,
 "nbformat_minor": 5
}
