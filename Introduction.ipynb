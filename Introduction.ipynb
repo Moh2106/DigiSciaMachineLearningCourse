{
 "cells": [
  {
   "cell_type": "markdown",
   "id": "199c9d13",
   "metadata": {},
   "source": [
    "## Présentation"
   ]
  },
  {
   "cell_type": "markdown",
   "id": "93229509",
   "metadata": {},
   "source": [
    "## Sondage sur le langage Python\n",
    "<img src=\"image/sondage1.jpeg\" alt=\"Sondage sur le langage Python\" />"
   ]
  },
  {
   "cell_type": "markdown",
   "id": "7950f22f",
   "metadata": {},
   "source": [
    "## Machine Learning Course Program\n",
    "- ### 1- Python pour le machine learning\n",
    "  - Les variables en python (String, Number, Boolean)\n",
    "  - Les opérations de base sur les variables\n",
    "  - Les structures de contrôles\n",
    "    - Les conditins (if, elif, else)\n",
    "    - Les boucles (for, while)\n",
    "  - Les fonctions\n",
    "  - Les structures de données\n",
    "    - Les tuples\n",
    "    - Les listes\n",
    "    - Les ensembles (set)\n",
    "    - Les dictionnaires\n",
    "   - Manipulation de Données avec NumPy\n",
    "     - Lab sur Numpy\n",
    "        - Tableaux NumPy : Création, manipulation, accès aux éléments.\n",
    "        - Opérations sur les tableaux : Opérations arithmétiques, fonctions universelles (ufuncs).\n",
    "        - Manipulation des formes : Reshape, flatten, ravel.\n",
    "        - Indexation avancée : Slicing, boolean indexing, fancy indexing.\n",
    "        - Broadcasting : Principe et utilisation.\n",
    "   - Analyse et Manipulation de Données avec Pandas\n",
    "     - Lab sur Pandas\n",
    "         - Structures de données : Series et DataFrame.\n",
    "        - Opérations de base : Sélection, ajout, suppression de données.\n",
    "        - Manipulation de données : Filtrage, tri, regroupement (groupby), agrégation.\n",
    "        - Traitement des données manquantes : Détection, suppression, imputation.\n",
    "        - Lecture et écriture de données : Fichiers CSV.\n",
    "   \n",
    "   \n",
    "- ### 2- Machine Learning supervisé\n",
    "    - Introduction au machine learning\n",
    "        - Définition et concepts de base : Qu'est-ce que le machine learning supervisé ?\n",
    "        - Types de problèmes supervisés : Régression vs Classification.\n",
    "        - Exemples d'applications : Prédiction des prix, classification d'images, détection de fraude.\n",
    "     - Régression\n",
    "         - Régression Linéaire\n",
    "            - Principe et mathématiques de base.\n",
    "            - Implémentation avec Scikit-learn.\n",
    "            - Evaluation des performances : MSE, RMSE, R².\n",
    "        - Régression Polynomiale :\n",
    "            - Extension de la régression linéaire.\n",
    "            - Risque de sur-ajustement (overfitting).\n",
    "            \n",
    "     - Classification\n",
    "        - Régression Logistique :\n",
    "            - Principe et mathématiques de base.\n",
    "            - Implémentation avec Scikit-learn.\n",
    "            - Evaluation des performances : accuracy, précision, rappel, F1-score.\n",
    "         - k-Nearest Neighbors (k-NN) :\n",
    "            - Principe de base et algorithme.\n",
    "            - Choix du nombre de voisins (k).\n",
    "        - Arbres de Décision :\n",
    "            - Principe et construction des arbres.\n",
    "            - Critères de division : Gini, entropie.\n",
    "         - Forêts Aléatoires (Random Forests) :\n",
    "             - Agrégation d'arbres de décision pour améliorer la robustesse.\n",
    "            - Importance des caractéristiques.\n",
    "        - Support Vector Machines (SVM) :\n",
    "            - Principe et marges maximales.\n",
    "            - Utilisation de noyaux (kernel trick).\n",
    "            \n",
    "            \n",
    "- ### 3- Machine learning non supervisé\n",
    "    - Introduction au Machine Learning Non Supervisé\n",
    "        - Définition et concepts de base : Qu'est-ce que le machine learning non supervisé ?\n",
    "        - Différences avec le machine learning supervisé.\n",
    "        - Exemples d'applications : Segmentation de clients, réduction de dimensionnalité, détection d'anomalies.\n",
    "        \n",
    "     - k-Means Clustering :\n",
    "        - Principe et algorithme.\n",
    "        - Choix du nombre de clusters (méthode du coude, silhouette score).\n",
    "        - Implémentation avec Scikit-learn.\n",
    "        \n",
    "- ### 4- Réseaux de neurones avec tensorflow\n",
    "    - Introduction sur les réSeaux de neuronnes\n"
   ]
  },
  {
   "cell_type": "markdown",
   "id": "19b45547",
   "metadata": {},
   "source": [
    "## Environnement de travail\n",
    "\n",
    "<img src=\"image/sondage2.jpeg\" alt=\"Sondage sur le langage Python\" />"
   ]
  },
  {
   "cell_type": "markdown",
   "id": "e445b4f8",
   "metadata": {},
   "source": [
    "## Les variables en Python\n",
    "- Variables et types de données :\n",
    "\n",
    "    - Types de base : int, float, str, bool"
   ]
  },
  {
   "cell_type": "code",
   "execution_count": 1,
   "id": "492c85f1",
   "metadata": {},
   "outputs": [],
   "source": [
    "a = 10       # entier\n",
    "b = 3.14     # flottant\n",
    "c = \"Hello\"  # chaîne de caractères\n",
    "d = True     # booléen"
   ]
  },
  {
   "cell_type": "code",
   "execution_count": 3,
   "id": "8116ece9",
   "metadata": {},
   "outputs": [
    {
     "data": {
      "text/plain": [
       "bool"
      ]
     },
     "execution_count": 3,
     "metadata": {},
     "output_type": "execute_result"
    }
   ],
   "source": [
    "type(d)"
   ]
  },
  {
   "cell_type": "markdown",
   "id": "f44493bf",
   "metadata": {},
   "source": [
    "- Opérations arithmétiques : +, -, *, /, //, %, **"
   ]
  },
  {
   "cell_type": "code",
   "execution_count": 19,
   "id": "28714459",
   "metadata": {},
   "outputs": [
    {
     "name": "stdout",
     "output_type": "stream",
     "text": [
      "13.14\n",
      "31.400000000000002\n",
      "3.3333333333333335\n",
      "3\n",
      "1\n",
      "100\n"
     ]
    }
   ],
   "source": [
    "print(a + b)  # addition\n",
    "print(a * b)  # multiplication\n",
    "print(a / 3)  # division\n",
    "print(a // 3) # division entière\n",
    "print(a % 3)  # modulo\n",
    "print(a ** 2) # puissance"
   ]
  },
  {
   "cell_type": "code",
   "execution_count": 4,
   "id": "9b6d09fe",
   "metadata": {},
   "outputs": [
    {
     "name": "stdout",
     "output_type": "stream",
     "text": [
      "addition de (a + b) = 13.14\n"
     ]
    }
   ],
   "source": [
    "print(f\"addition de (a + b) = {a+b}\")"
   ]
  },
  {
   "cell_type": "markdown",
   "id": "93cee9c5",
   "metadata": {},
   "source": [
    "### String"
   ]
  },
  {
   "cell_type": "markdown",
   "id": "16c2aefd",
   "metadata": {},
   "source": [
    "#### Indexing\n",
    "\n",
    "Il est utile de penser à une chaîne comme une séquence ordonnée. Chaque élément de la séquence est accessible à l’aide d’un index représenté par le tableau de nombres.\n",
    "\n",
    "<img src=\"image/string_indexing.png\" alt=\"Description de l'image\" style=\"width:800px;\"/>"
   ]
  },
  {
   "cell_type": "code",
   "execution_count": 5,
   "id": "f3891971",
   "metadata": {},
   "outputs": [],
   "source": [
    "name = \"Michael Jackson\""
   ]
  },
  {
   "cell_type": "code",
   "execution_count": 6,
   "id": "6a05f75c",
   "metadata": {},
   "outputs": [
    {
     "data": {
      "text/plain": [
       "'c'"
      ]
     },
     "execution_count": 6,
     "metadata": {},
     "output_type": "execute_result"
    }
   ],
   "source": [
    "name[2]"
   ]
  },
  {
   "cell_type": "markdown",
   "id": "b3b1f95d",
   "metadata": {},
   "source": [
    "#### Negative Indexing\n",
    "<img src=\"image/negative_indexing.png\" alt=\"Description de l'image\" style=\"width:800px;\"/>"
   ]
  },
  {
   "cell_type": "code",
   "execution_count": 7,
   "id": "e322879d",
   "metadata": {},
   "outputs": [
    {
     "data": {
      "text/plain": [
       "'e'"
      ]
     },
     "execution_count": 7,
     "metadata": {},
     "output_type": "execute_result"
    }
   ],
   "source": [
    "name[-10]"
   ]
  },
  {
   "cell_type": "markdown",
   "id": "7f8066ac",
   "metadata": {},
   "source": [
    "#### Slicing\n",
    "On peut obtenir plusieurs caractères à partir d’une chaîne en utilisant le découpage, on peut obtenir les éléments 0 à 4 et 8 à 12.\n",
    "\n",
    "<img src=\"image/slicing.png\" alt=\"Description de l'image\" style=\"width:800px;\"/>"
   ]
  },
  {
   "cell_type": "code",
   "execution_count": 8,
   "id": "a4ae5ac5",
   "metadata": {},
   "outputs": [
    {
     "data": {
      "text/plain": [
       "'son'"
      ]
     },
     "execution_count": 8,
     "metadata": {},
     "output_type": "execute_result"
    }
   ],
   "source": [
    "name[12:]"
   ]
  },
  {
   "cell_type": "markdown",
   "id": "42927c3a",
   "metadata": {},
   "source": [
    "#### Stride\n",
    "Nous pouvons également entrer une valeur de foulée comme suit, avec le '2' indiquant que nous sélectionnons chaque seconde variable.\n",
    "\n",
    "<img src=\"image/stride.png\" alt=\"Description de l'image\" style=\"width:800px;\"/>"
   ]
  },
  {
   "cell_type": "code",
   "execution_count": 10,
   "id": "057a45b1",
   "metadata": {},
   "outputs": [
    {
     "data": {
      "text/plain": [
       "'McalJcsn'"
      ]
     },
     "execution_count": 10,
     "metadata": {},
     "output_type": "execute_result"
    }
   ],
   "source": [
    "name[::2]"
   ]
  },
  {
   "cell_type": "markdown",
   "id": "abd417a3",
   "metadata": {},
   "source": [
    "#### Concatenate Strings\n",
    "Nous pouvons concaténer ou combiner des chaînes en utilisant les symboles d’ajout, et le résultat est une nouvelle chaîne qui est une combinaison des deux."
   ]
  },
  {
   "cell_type": "code",
   "execution_count": 11,
   "id": "cd182e4b",
   "metadata": {},
   "outputs": [
    {
     "name": "stdout",
     "output_type": "stream",
     "text": [
      "Nous sommes dans le cours Python\n"
     ]
    }
   ],
   "source": [
    "b = \"Nous sommes dans le cours \"\n",
    "c = \"Python\"\n",
    "\n",
    "d = b + c\n",
    "print(d)"
   ]
  },
  {
   "cell_type": "code",
   "execution_count": 12,
   "id": "96736990",
   "metadata": {},
   "outputs": [
    {
     "name": "stdout",
     "output_type": "stream",
     "text": [
      "type de ab = <class 'str'>\n",
      "type de ac = <class 'int'>\n"
     ]
    }
   ],
   "source": [
    "ab = \"1\"\n",
    "ac = 1\n",
    "\n",
    "print(f\"type de ab = {type(ab)}\")\n",
    "print(f\"type de ac = {type(ac)}\")\n"
   ]
  },
  {
   "cell_type": "markdown",
   "id": "38f44d42",
   "metadata": {},
   "source": [
    "Pour répliquer les valeurs d’une chaîne, nous multiplions simplement la chaîne par le nombre de fois que nous aimerions la répliquer. Le résultat est une nouvelle chaîne, et cette nouvelle chaîne se compose de trois copies de la chaîne originale :"
   ]
  },
  {
   "cell_type": "code",
   "execution_count": 13,
   "id": "2fcd2a43",
   "metadata": {},
   "outputs": [],
   "source": [
    "pyth = 3 * c"
   ]
  },
  {
   "cell_type": "code",
   "execution_count": 14,
   "id": "49bb63c9",
   "metadata": {},
   "outputs": [
    {
     "name": "stdout",
     "output_type": "stream",
     "text": [
      "PythonPythonPython\n"
     ]
    }
   ],
   "source": [
    "print(pyth)"
   ]
  },
  {
   "cell_type": "markdown",
   "id": "1f8b9fb1",
   "metadata": {},
   "source": [
    "#### String opération\n",
    "\n",
    "Il existe de nombreuses méthodes d’opération de chaîne en Python qui peuvent être utilisées pour manipuler les données. Nous allons utiliser quelques opérations de chaîne de base sur les données.\n",
    "\n",
    "Essayons avec la méthode upper; cette méthode convertit les caractères minuscules en caractères majuscules."
   ]
  },
  {
   "cell_type": "code",
   "execution_count": 11,
   "id": "cd85178d",
   "metadata": {},
   "outputs": [
    {
     "name": "stdout",
     "output_type": "stream",
     "text": [
      "before upper: Thriller is the sixth studio album\n",
      "After upper: THRILLER IS THE SIXTH STUDIO ALBUM\n"
     ]
    }
   ],
   "source": [
    "# Convert all the characters in string to upper case\n",
    "\n",
    "a = \"Thriller is the sixth studio album\"\n",
    "print(\"before upper:\", a)\n",
    "b = a.upper()\n",
    "print(\"After upper:\", b)"
   ]
  },
  {
   "cell_type": "markdown",
   "id": "19eb1273",
   "metadata": {},
   "source": [
    "La méthode replace un segment de la chaîne, c.-à-d. une sous-chaîne avec une nouvelle chaîne. Nous saisissons la partie de la chaîne que nous aimerions changer. Le deuxième argument est ce avec quoi nous aimerions échanger le segment, et le résultat est une nouvelle chaîne avec le segment changé."
   ]
  },
  {
   "cell_type": "code",
   "execution_count": 15,
   "id": "3cf8c442",
   "metadata": {},
   "outputs": [
    {
     "data": {
      "text/plain": [
       "'Java is the best programming language'"
      ]
     },
     "execution_count": 15,
     "metadata": {},
     "output_type": "execute_result"
    }
   ],
   "source": [
    "# Replace the old substring with the new target substring is the segment has been found in the string\n",
    "\n",
    "a = \"Python is the best programming language\"\n",
    "b = a.replace('Python', 'Java')\n",
    "b"
   ]
  },
  {
   "cell_type": "markdown",
   "id": "fcd4a15c",
   "metadata": {},
   "source": [
    "La méthode find trouve une sous-chaîne. L’argument est la sous-chaîne que vous souhaitez trouver, et la sortie est le premier index de la séquence. On peut trouver le sous-chaîne jack ou el."
   ]
  },
  {
   "cell_type": "code",
   "execution_count": 19,
   "id": "31ed9cf5",
   "metadata": {},
   "outputs": [
    {
     "data": {
      "text/plain": [
       "8"
      ]
     },
     "execution_count": 19,
     "metadata": {},
     "output_type": "execute_result"
    }
   ],
   "source": [
    "# Find the substring in the string. Only the index of the first elment of substring in string will be the output\n",
    "\n",
    "name = \"Michael Jackson\"\n",
    "name.find('Jac')"
   ]
  },
  {
   "cell_type": "code",
   "execution_count": 18,
   "id": "393625a2",
   "metadata": {},
   "outputs": [
    {
     "data": {
      "text/plain": [
       "-1"
      ]
     },
     "execution_count": 18,
     "metadata": {},
     "output_type": "execute_result"
    }
   ],
   "source": [
    "# If cannot find the substring in the string\n",
    "name.find('Jasdfasdasdf')"
   ]
  },
  {
   "cell_type": "code",
   "execution_count": null,
   "id": "df68e517",
   "metadata": {},
   "outputs": [],
   "source": []
  }
 ],
 "metadata": {
  "kernelspec": {
   "display_name": "Python 3 (ipykernel)",
   "language": "python",
   "name": "python3"
  },
  "language_info": {
   "codemirror_mode": {
    "name": "ipython",
    "version": 3
   },
   "file_extension": ".py",
   "mimetype": "text/x-python",
   "name": "python",
   "nbconvert_exporter": "python",
   "pygments_lexer": "ipython3",
   "version": "3.10.9"
  }
 },
 "nbformat": 4,
 "nbformat_minor": 5
}
