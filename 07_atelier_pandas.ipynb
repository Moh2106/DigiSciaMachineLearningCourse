{
 "cells": [
  {
   "cell_type": "markdown",
   "id": "6321e9c4",
   "metadata": {},
   "source": [
    "\n",
    "## Atelier : Introduction à Pandas\n",
    "\n",
    "1. Introduction\n",
    "Pandas est une bibliothèque open-source pour l'analyse de données en Python.\n",
    "Elle fournit des structures de données et des outils de manipulation de données simples et puissants.\n",
    "\n",
    "Installation de pandas (à exécuter si pandas n'est pas installé)\n",
    "\n",
    "---\n",
    "\n",
    "```python\n",
    " !pip install pandas\n"
   ]
  },
  {
   "cell_type": "markdown",
   "id": "a9f24c0e",
   "metadata": {},
   "source": [
    "```python\n",
    "# Importation de la bibliothèque pandas\n",
    "import pandas as pd\n"
   ]
  },
  {
   "cell_type": "markdown",
   "id": "39544ed8",
   "metadata": {},
   "source": [
    "2. Premiers pas avec Pandas\n",
    "\n",
    "### Création d'une Series (tableau à une dimension)\n",
    "```python\n",
    "s = pd.Series([1, 3, 5, 7, 9])\n",
    "print(s)\n",
    "```"
   ]
  },
  {
   "cell_type": "code",
   "execution_count": 1,
   "id": "35611f8b",
   "metadata": {},
   "outputs": [],
   "source": [
    "import pandas as pd"
   ]
  },
  {
   "cell_type": "code",
   "execution_count": 3,
   "id": "f3e2f5ec",
   "metadata": {},
   "outputs": [
    {
     "data": {
      "text/plain": [
       "0    1.0\n",
       "1    2.0\n",
       "2    3.0\n",
       "3    4.5\n",
       "4    5.0\n",
       "dtype: float64"
      ]
     },
     "execution_count": 3,
     "metadata": {},
     "output_type": "execute_result"
    }
   ],
   "source": [
    "serie = pd.Series([1,2,3,4.5,5])\n",
    "serie"
   ]
  },
  {
   "cell_type": "markdown",
   "id": "9f2b5cc0",
   "metadata": {},
   "source": [
    "### Création d'un DataFrame (tableau à deux dimensions)\n",
    "```python\n",
    "data = {\n",
    "    'Nom': ['Alice', 'Bob', 'Charlie', 'David'],\n",
    "    'Âge': [25, 30, 35, 40],\n",
    "    'Ville': ['Paris', 'Lyon', 'Marseille', 'Toulouse']\n",
    "}\n",
    "df = pd.DataFrame(data)\n",
    "print(df)\n",
    "```"
   ]
  },
  {
   "cell_type": "code",
   "execution_count": 4,
   "id": "0b831034",
   "metadata": {},
   "outputs": [
    {
     "data": {
      "text/html": [
       "<div>\n",
       "<style scoped>\n",
       "    .dataframe tbody tr th:only-of-type {\n",
       "        vertical-align: middle;\n",
       "    }\n",
       "\n",
       "    .dataframe tbody tr th {\n",
       "        vertical-align: top;\n",
       "    }\n",
       "\n",
       "    .dataframe thead th {\n",
       "        text-align: right;\n",
       "    }\n",
       "</style>\n",
       "<table border=\"1\" class=\"dataframe\">\n",
       "  <thead>\n",
       "    <tr style=\"text-align: right;\">\n",
       "      <th></th>\n",
       "      <th>Nom</th>\n",
       "      <th>Âge</th>\n",
       "      <th>Ville</th>\n",
       "    </tr>\n",
       "  </thead>\n",
       "  <tbody>\n",
       "    <tr>\n",
       "      <th>0</th>\n",
       "      <td>Alice</td>\n",
       "      <td>25</td>\n",
       "      <td>Paris</td>\n",
       "    </tr>\n",
       "    <tr>\n",
       "      <th>1</th>\n",
       "      <td>Bob</td>\n",
       "      <td>30</td>\n",
       "      <td>Lyon</td>\n",
       "    </tr>\n",
       "    <tr>\n",
       "      <th>2</th>\n",
       "      <td>Charlie</td>\n",
       "      <td>35</td>\n",
       "      <td>Marseille</td>\n",
       "    </tr>\n",
       "    <tr>\n",
       "      <th>3</th>\n",
       "      <td>David</td>\n",
       "      <td>40</td>\n",
       "      <td>Toulouse</td>\n",
       "    </tr>\n",
       "  </tbody>\n",
       "</table>\n",
       "</div>"
      ],
      "text/plain": [
       "       Nom  Âge      Ville\n",
       "0    Alice   25      Paris\n",
       "1      Bob   30       Lyon\n",
       "2  Charlie   35  Marseille\n",
       "3    David   40   Toulouse"
      ]
     },
     "execution_count": 4,
     "metadata": {},
     "output_type": "execute_result"
    }
   ],
   "source": [
    "data = {\n",
    "    'Nom': ['Alice', 'Bob', 'Charlie', 'David'],\n",
    "    'Âge': [25, 30, 35, 40],\n",
    "    'Ville': ['Paris', 'Lyon', 'Marseille', 'Toulouse']\n",
    "}\n",
    "\n",
    "df = pd.DataFrame(data)\n",
    "df"
   ]
  },
  {
   "cell_type": "markdown",
   "id": "41d57f1b",
   "metadata": {},
   "source": [
    "```python\n",
    "dates = pd.date_range(\"20130101\", periods=6)\n",
    "\n",
    "dates\n",
    "\n",
    "DatetimeIndex(['2013-01-01', '2013-01-02', '2013-01-03', '2013-01-04',\n",
    "               '2013-01-05', '2013-01-06'],\n",
    "              dtype='datetime64[ns]', freq='D')\n",
    "\n",
    "df = pd.DataFrame(np.random.randn(6, 4), index=dates, columns=list(\"ABCD\"))\n",
    "\n",
    "df\n",
    "\n",
    "                   A         B         C         D\n",
    "2013-01-01  0.469112 -0.282863 -1.509059 -1.135632\n",
    "2013-01-02  1.212112 -0.173215  0.119209 -1.044236\n",
    "2013-01-03 -0.861849 -2.104569 -0.494929  1.071804\n",
    "2013-01-04  0.721555 -0.706771 -1.039575  0.271860\n",
    "2013-01-05 -0.424972  0.567020  0.276232 -1.087401\n",
    "2013-01-06 -0.673690  0.113648 -1.478427  0.524988\n",
    "```"
   ]
  },
  {
   "cell_type": "code",
   "execution_count": 5,
   "id": "fdede38a",
   "metadata": {},
   "outputs": [
    {
     "data": {
      "text/plain": [
       "DatetimeIndex(['2024-07-01', '2024-07-02', '2024-07-03', '2024-07-04',\n",
       "               '2024-07-05', '2024-07-06'],\n",
       "              dtype='datetime64[ns]', freq='D')"
      ]
     },
     "execution_count": 5,
     "metadata": {},
     "output_type": "execute_result"
    }
   ],
   "source": [
    "dates = pd.date_range(\"20240701\", periods=6)\n",
    "dates"
   ]
  },
  {
   "cell_type": "code",
   "execution_count": 7,
   "id": "d328c243",
   "metadata": {},
   "outputs": [],
   "source": [
    "# import de numpy\n",
    "import numpy as np"
   ]
  },
  {
   "cell_type": "code",
   "execution_count": 9,
   "id": "48751f74",
   "metadata": {},
   "outputs": [
    {
     "data": {
      "text/html": [
       "<div>\n",
       "<style scoped>\n",
       "    .dataframe tbody tr th:only-of-type {\n",
       "        vertical-align: middle;\n",
       "    }\n",
       "\n",
       "    .dataframe tbody tr th {\n",
       "        vertical-align: top;\n",
       "    }\n",
       "\n",
       "    .dataframe thead th {\n",
       "        text-align: right;\n",
       "    }\n",
       "</style>\n",
       "<table border=\"1\" class=\"dataframe\">\n",
       "  <thead>\n",
       "    <tr style=\"text-align: right;\">\n",
       "      <th></th>\n",
       "      <th>A</th>\n",
       "      <th>B</th>\n",
       "      <th>C</th>\n",
       "      <th>D</th>\n",
       "    </tr>\n",
       "  </thead>\n",
       "  <tbody>\n",
       "    <tr>\n",
       "      <th>2024-07-01</th>\n",
       "      <td>-0.142650</td>\n",
       "      <td>1.886698</td>\n",
       "      <td>-0.136227</td>\n",
       "      <td>-0.574382</td>\n",
       "    </tr>\n",
       "    <tr>\n",
       "      <th>2024-07-02</th>\n",
       "      <td>-0.703991</td>\n",
       "      <td>-1.374827</td>\n",
       "      <td>1.135306</td>\n",
       "      <td>-0.963215</td>\n",
       "    </tr>\n",
       "    <tr>\n",
       "      <th>2024-07-03</th>\n",
       "      <td>0.393368</td>\n",
       "      <td>0.617033</td>\n",
       "      <td>-0.076336</td>\n",
       "      <td>2.333053</td>\n",
       "    </tr>\n",
       "    <tr>\n",
       "      <th>2024-07-04</th>\n",
       "      <td>2.789227</td>\n",
       "      <td>-0.411480</td>\n",
       "      <td>0.385045</td>\n",
       "      <td>-0.269252</td>\n",
       "    </tr>\n",
       "    <tr>\n",
       "      <th>2024-07-05</th>\n",
       "      <td>1.168652</td>\n",
       "      <td>0.147398</td>\n",
       "      <td>0.646844</td>\n",
       "      <td>-0.392141</td>\n",
       "    </tr>\n",
       "    <tr>\n",
       "      <th>2024-07-06</th>\n",
       "      <td>-2.092260</td>\n",
       "      <td>-0.803235</td>\n",
       "      <td>-1.221998</td>\n",
       "      <td>-0.123048</td>\n",
       "    </tr>\n",
       "  </tbody>\n",
       "</table>\n",
       "</div>"
      ],
      "text/plain": [
       "                   A         B         C         D\n",
       "2024-07-01 -0.142650  1.886698 -0.136227 -0.574382\n",
       "2024-07-02 -0.703991 -1.374827  1.135306 -0.963215\n",
       "2024-07-03  0.393368  0.617033 -0.076336  2.333053\n",
       "2024-07-04  2.789227 -0.411480  0.385045 -0.269252\n",
       "2024-07-05  1.168652  0.147398  0.646844 -0.392141\n",
       "2024-07-06 -2.092260 -0.803235 -1.221998 -0.123048"
      ]
     },
     "execution_count": 9,
     "metadata": {},
     "output_type": "execute_result"
    }
   ],
   "source": [
    "df = pd.DataFrame(np.random.randn(6,4), index=dates, columns=list(\"ABCD\"))\n",
    "df"
   ]
  },
  {
   "cell_type": "code",
   "execution_count": null,
   "id": "16839778",
   "metadata": {},
   "outputs": [],
   "source": []
  },
  {
   "cell_type": "markdown",
   "id": "5fa01690",
   "metadata": {},
   "source": [
    "### Creation d'un dataframe à partir d'un dictionnaire\n",
    "\n",
    "```python\n",
    "df2 = pd.DataFrame(\n",
    " {\n",
    "    \"A\": 1.0,\n",
    "   \"B\": pd.Timestamp(\"20130102\"),\n",
    "   \"C\": pd.Series(1, index=list(range(4)), dtype=\"float32\"),\n",
    "   \"D\": np.array([3] * 4, dtype=\"int32\"),\n",
    "   \"E\": pd.Categorical([\"test\", \"train\", \"test\", \"train\"]),\n",
    "   \"F\": \"foo\",\n",
    "       }\n",
    "    )\n",
    "    \n",
    "\n",
    "In [10]: df2\n",
    "Out[10]: \n",
    "     A          B    C  D      E    F\n",
    "0  1.0 2013-01-02  1.0  3   test  foo\n",
    "1  1.0 2013-01-02  1.0  3  train  foo\n",
    "2  1.0 2013-01-02  1.0  3   test  foo\n",
    "3  1.0 2013-01-02  1.0  3  train  foo\n",
    "\n",
    "```"
   ]
  },
  {
   "cell_type": "markdown",
   "id": "e613dfde",
   "metadata": {},
   "source": [
    "### Types des données de la dataframe\n",
    "```python\n",
    "df2.dtypes\n",
    "```"
   ]
  },
  {
   "cell_type": "markdown",
   "id": "512fc397",
   "metadata": {},
   "source": [
    "Utiliser DataFrame.head() and DataFrame.tail() pour voir to view the top and bottom des ligne dans le frame. \n",
    "\n",
    "```python\n",
    "In [13]: df.head()\n",
    "Out[13]: \n",
    "                   A         B         C         D\n",
    "2013-01-01  0.469112 -0.282863 -1.509059 -1.135632\n",
    "2013-01-02  1.212112 -0.173215  0.119209 -1.044236\n",
    "2013-01-03 -0.861849 -2.104569 -0.494929  1.071804\n",
    "2013-01-04  0.721555 -0.706771 -1.039575  0.271860\n",
    "2013-01-05 -0.424972  0.567020  0.276232 -1.087401\n",
    "\n",
    "In [14]: df.tail(3)\n",
    "Out[14]: \n",
    "                   A         B         C         D\n",
    "2013-01-04  0.721555 -0.706771 -1.039575  0.271860\n",
    "2013-01-05 -0.424972  0.567020  0.276232 -1.087401\n",
    "2013-01-06 -0.673690  0.113648 -1.478427  0.524988\n",
    "```"
   ]
  },
  {
   "cell_type": "code",
   "execution_count": 13,
   "id": "29bc38c8",
   "metadata": {},
   "outputs": [
    {
     "data": {
      "text/html": [
       "<div>\n",
       "<style scoped>\n",
       "    .dataframe tbody tr th:only-of-type {\n",
       "        vertical-align: middle;\n",
       "    }\n",
       "\n",
       "    .dataframe tbody tr th {\n",
       "        vertical-align: top;\n",
       "    }\n",
       "\n",
       "    .dataframe thead th {\n",
       "        text-align: right;\n",
       "    }\n",
       "</style>\n",
       "<table border=\"1\" class=\"dataframe\">\n",
       "  <thead>\n",
       "    <tr style=\"text-align: right;\">\n",
       "      <th></th>\n",
       "      <th>A</th>\n",
       "      <th>B</th>\n",
       "      <th>C</th>\n",
       "      <th>D</th>\n",
       "    </tr>\n",
       "  </thead>\n",
       "  <tbody>\n",
       "    <tr>\n",
       "      <th>2024-07-01</th>\n",
       "      <td>-0.142650</td>\n",
       "      <td>1.886698</td>\n",
       "      <td>-0.136227</td>\n",
       "      <td>-0.574382</td>\n",
       "    </tr>\n",
       "    <tr>\n",
       "      <th>2024-07-02</th>\n",
       "      <td>-0.703991</td>\n",
       "      <td>-1.374827</td>\n",
       "      <td>1.135306</td>\n",
       "      <td>-0.963215</td>\n",
       "    </tr>\n",
       "  </tbody>\n",
       "</table>\n",
       "</div>"
      ],
      "text/plain": [
       "                   A         B         C         D\n",
       "2024-07-01 -0.142650  1.886698 -0.136227 -0.574382\n",
       "2024-07-02 -0.703991 -1.374827  1.135306 -0.963215"
      ]
     },
     "execution_count": 13,
     "metadata": {},
     "output_type": "execute_result"
    }
   ],
   "source": [
    "df_head = df.head(2) # 2 pour indiquer le nombre de lignes qu'on aimerais retourner\n",
    "df_head"
   ]
  },
  {
   "cell_type": "code",
   "execution_count": 14,
   "id": "1c5e3b1d",
   "metadata": {},
   "outputs": [
    {
     "data": {
      "text/html": [
       "<div>\n",
       "<style scoped>\n",
       "    .dataframe tbody tr th:only-of-type {\n",
       "        vertical-align: middle;\n",
       "    }\n",
       "\n",
       "    .dataframe tbody tr th {\n",
       "        vertical-align: top;\n",
       "    }\n",
       "\n",
       "    .dataframe thead th {\n",
       "        text-align: right;\n",
       "    }\n",
       "</style>\n",
       "<table border=\"1\" class=\"dataframe\">\n",
       "  <thead>\n",
       "    <tr style=\"text-align: right;\">\n",
       "      <th></th>\n",
       "      <th>A</th>\n",
       "      <th>B</th>\n",
       "      <th>C</th>\n",
       "      <th>D</th>\n",
       "    </tr>\n",
       "  </thead>\n",
       "  <tbody>\n",
       "    <tr>\n",
       "      <th>2024-07-05</th>\n",
       "      <td>1.168652</td>\n",
       "      <td>0.147398</td>\n",
       "      <td>0.646844</td>\n",
       "      <td>-0.392141</td>\n",
       "    </tr>\n",
       "    <tr>\n",
       "      <th>2024-07-06</th>\n",
       "      <td>-2.092260</td>\n",
       "      <td>-0.803235</td>\n",
       "      <td>-1.221998</td>\n",
       "      <td>-0.123048</td>\n",
       "    </tr>\n",
       "  </tbody>\n",
       "</table>\n",
       "</div>"
      ],
      "text/plain": [
       "                   A         B         C         D\n",
       "2024-07-05  1.168652  0.147398  0.646844 -0.392141\n",
       "2024-07-06 -2.092260 -0.803235 -1.221998 -0.123048"
      ]
     },
     "execution_count": 14,
     "metadata": {},
     "output_type": "execute_result"
    }
   ],
   "source": [
    "df_tail = df.tail(2)\n",
    "df_tail"
   ]
  },
  {
   "cell_type": "markdown",
   "id": "01535bd9",
   "metadata": {},
   "source": [
    "### Afficher les index et les colonnes d'un dataframe\n",
    "```python\n",
    "In [15]: df.index\n",
    "Out[15]: \n",
    "DatetimeIndex(['2013-01-01', '2013-01-02', '2013-01-03', '2013-01-04',\n",
    "               '2013-01-05', '2013-01-06'],\n",
    "              dtype='datetime64[ns]', freq='D')\n",
    "\n",
    "In [16]: df.columns\n",
    "Out[16]: Index(['A', 'B', 'C', 'D'], dtype='object')\n",
    "```"
   ]
  },
  {
   "cell_type": "code",
   "execution_count": 15,
   "id": "bb23544c",
   "metadata": {},
   "outputs": [
    {
     "data": {
      "text/plain": [
       "Index(['A', 'B', 'C', 'D'], dtype='object')"
      ]
     },
     "execution_count": 15,
     "metadata": {},
     "output_type": "execute_result"
    }
   ],
   "source": [
    "df.columns"
   ]
  },
  {
   "cell_type": "code",
   "execution_count": 16,
   "id": "3e34e1ce",
   "metadata": {},
   "outputs": [
    {
     "data": {
      "text/plain": [
       "DatetimeIndex(['2024-07-01', '2024-07-02', '2024-07-03', '2024-07-04',\n",
       "               '2024-07-05', '2024-07-06'],\n",
       "              dtype='datetime64[ns]', freq='D')"
      ]
     },
     "execution_count": 16,
     "metadata": {},
     "output_type": "execute_result"
    }
   ],
   "source": [
    "df.index"
   ]
  },
  {
   "cell_type": "markdown",
   "id": "ccf382df",
   "metadata": {},
   "source": [
    "### Convertir un dataframe en representation numpy\n",
    "\n",
    "```python\n",
    "In [17]: df.to_numpy()\n",
    "Out[17]: \n",
    "array([[ 0.4691, -0.2829, -1.5091, -1.1356],\n",
    "       [ 1.2121, -0.1732,  0.1192, -1.0442],\n",
    "       [-0.8618, -2.1046, -0.4949,  1.0718],\n",
    "       [ 0.7216, -0.7068, -1.0396,  0.2719],\n",
    "       [-0.425 ,  0.567 ,  0.2762, -1.0874],\n",
    "       [-0.6737,  0.1136, -1.4784,  0.525 ]])\n",
    "```"
   ]
  },
  {
   "cell_type": "code",
   "execution_count": 19,
   "id": "f2376a37",
   "metadata": {},
   "outputs": [
    {
     "data": {
      "text/plain": [
       "array([[-0.14265008,  1.88669755, -0.13622682, -0.57438206],\n",
       "       [-0.70399135, -1.37482663,  1.13530625, -0.96321482],\n",
       "       [ 0.39336779,  0.61703322, -0.07633563,  2.33305264],\n",
       "       [ 2.78922686, -0.41148026,  0.38504507, -0.26925195],\n",
       "       [ 1.1686523 ,  0.14739811,  0.64684398, -0.39214077],\n",
       "       [-2.09226013, -0.80323545, -1.22199819, -0.12304793]])"
      ]
     },
     "execution_count": 19,
     "metadata": {},
     "output_type": "execute_result"
    }
   ],
   "source": [
    "df_to_numpy = df.to_numpy()\n",
    "df_to_numpy"
   ]
  },
  {
   "cell_type": "code",
   "execution_count": 20,
   "id": "c13494b1",
   "metadata": {},
   "outputs": [
    {
     "data": {
      "text/plain": [
       "(6, 4)"
      ]
     },
     "execution_count": 20,
     "metadata": {},
     "output_type": "execute_result"
    }
   ],
   "source": [
    "df_to_numpy.shape"
   ]
  },
  {
   "cell_type": "markdown",
   "id": "e78d9d9e",
   "metadata": {},
   "source": [
    "### La méthode describe\n",
    "\n",
    "```python\n",
    "In [20]: df.describe()\n",
    "Out[20]: \n",
    "              A         B         C         D\n",
    "count  6.000000  6.000000  6.000000  6.000000\n",
    "mean   0.073711 -0.431125 -0.687758 -0.233103\n",
    "std    0.843157  0.922818  0.779887  0.973118\n",
    "min   -0.861849 -2.104569 -1.509059 -1.135632\n",
    "25%   -0.611510 -0.600794 -1.368714 -1.076610\n",
    "50%    0.022070 -0.228039 -0.767252 -0.386188\n",
    "75%    0.658444  0.041933 -0.034326  0.461706\n",
    "max    1.212112  0.567020  0.276232  1.071804\n",
    "```"
   ]
  },
  {
   "cell_type": "code",
   "execution_count": 21,
   "id": "e799896a",
   "metadata": {},
   "outputs": [
    {
     "data": {
      "text/html": [
       "<div>\n",
       "<style scoped>\n",
       "    .dataframe tbody tr th:only-of-type {\n",
       "        vertical-align: middle;\n",
       "    }\n",
       "\n",
       "    .dataframe tbody tr th {\n",
       "        vertical-align: top;\n",
       "    }\n",
       "\n",
       "    .dataframe thead th {\n",
       "        text-align: right;\n",
       "    }\n",
       "</style>\n",
       "<table border=\"1\" class=\"dataframe\">\n",
       "  <thead>\n",
       "    <tr style=\"text-align: right;\">\n",
       "      <th></th>\n",
       "      <th>A</th>\n",
       "      <th>B</th>\n",
       "      <th>C</th>\n",
       "      <th>D</th>\n",
       "    </tr>\n",
       "  </thead>\n",
       "  <tbody>\n",
       "    <tr>\n",
       "      <th>count</th>\n",
       "      <td>6.000000</td>\n",
       "      <td>6.000000</td>\n",
       "      <td>6.000000</td>\n",
       "      <td>6.000000</td>\n",
       "    </tr>\n",
       "    <tr>\n",
       "      <th>mean</th>\n",
       "      <td>0.235391</td>\n",
       "      <td>0.010264</td>\n",
       "      <td>0.122106</td>\n",
       "      <td>0.001836</td>\n",
       "    </tr>\n",
       "    <tr>\n",
       "      <th>std</th>\n",
       "      <td>1.665012</td>\n",
       "      <td>1.154652</td>\n",
       "      <td>0.810406</td>\n",
       "      <td>1.178323</td>\n",
       "    </tr>\n",
       "    <tr>\n",
       "      <th>min</th>\n",
       "      <td>-2.092260</td>\n",
       "      <td>-1.374827</td>\n",
       "      <td>-1.221998</td>\n",
       "      <td>-0.963215</td>\n",
       "    </tr>\n",
       "    <tr>\n",
       "      <th>25%</th>\n",
       "      <td>-0.563656</td>\n",
       "      <td>-0.705297</td>\n",
       "      <td>-0.121254</td>\n",
       "      <td>-0.528822</td>\n",
       "    </tr>\n",
       "    <tr>\n",
       "      <th>50%</th>\n",
       "      <td>0.125359</td>\n",
       "      <td>-0.132041</td>\n",
       "      <td>0.154355</td>\n",
       "      <td>-0.330696</td>\n",
       "    </tr>\n",
       "    <tr>\n",
       "      <th>75%</th>\n",
       "      <td>0.974831</td>\n",
       "      <td>0.499624</td>\n",
       "      <td>0.581394</td>\n",
       "      <td>-0.159599</td>\n",
       "    </tr>\n",
       "    <tr>\n",
       "      <th>max</th>\n",
       "      <td>2.789227</td>\n",
       "      <td>1.886698</td>\n",
       "      <td>1.135306</td>\n",
       "      <td>2.333053</td>\n",
       "    </tr>\n",
       "  </tbody>\n",
       "</table>\n",
       "</div>"
      ],
      "text/plain": [
       "              A         B         C         D\n",
       "count  6.000000  6.000000  6.000000  6.000000\n",
       "mean   0.235391  0.010264  0.122106  0.001836\n",
       "std    1.665012  1.154652  0.810406  1.178323\n",
       "min   -2.092260 -1.374827 -1.221998 -0.963215\n",
       "25%   -0.563656 -0.705297 -0.121254 -0.528822\n",
       "50%    0.125359 -0.132041  0.154355 -0.330696\n",
       "75%    0.974831  0.499624  0.581394 -0.159599\n",
       "max    2.789227  1.886698  1.135306  2.333053"
      ]
     },
     "execution_count": 21,
     "metadata": {},
     "output_type": "execute_result"
    }
   ],
   "source": [
    "df.describe()"
   ]
  },
  {
   "cell_type": "markdown",
   "id": "796f3f47",
   "metadata": {},
   "source": [
    "### Recherche\n",
    "- Faire des recherches sur l'ecart type, la médiane, le quartile etc "
   ]
  },
  {
   "cell_type": "markdown",
   "id": "4e5114c9",
   "metadata": {},
   "source": [
    "### La transposition\n",
    "\n",
    "```python\n",
    "In [21]: df.T\n",
    "Out[21]: \n",
    "   2013-01-01  2013-01-02  2013-01-03  2013-01-04  2013-01-05  2013-01-06\n",
    "A    0.469112    1.212112   -0.861849    0.721555   -0.424972   -0.673690\n",
    "B   -0.282863   -0.173215   -2.104569   -0.706771    0.567020    0.113648\n",
    "C   -1.509059    0.119209   -0.494929   -1.039575    0.276232   -1.478427\n",
    "D   -1.135632   -1.044236    1.071804    0.271860   -1.087401    0.524988\n",
    "```"
   ]
  },
  {
   "cell_type": "code",
   "execution_count": 22,
   "id": "c102a48e",
   "metadata": {},
   "outputs": [
    {
     "data": {
      "text/html": [
       "<div>\n",
       "<style scoped>\n",
       "    .dataframe tbody tr th:only-of-type {\n",
       "        vertical-align: middle;\n",
       "    }\n",
       "\n",
       "    .dataframe tbody tr th {\n",
       "        vertical-align: top;\n",
       "    }\n",
       "\n",
       "    .dataframe thead th {\n",
       "        text-align: right;\n",
       "    }\n",
       "</style>\n",
       "<table border=\"1\" class=\"dataframe\">\n",
       "  <thead>\n",
       "    <tr style=\"text-align: right;\">\n",
       "      <th></th>\n",
       "      <th>2024-07-01</th>\n",
       "      <th>2024-07-02</th>\n",
       "      <th>2024-07-03</th>\n",
       "      <th>2024-07-04</th>\n",
       "      <th>2024-07-05</th>\n",
       "      <th>2024-07-06</th>\n",
       "    </tr>\n",
       "  </thead>\n",
       "  <tbody>\n",
       "    <tr>\n",
       "      <th>A</th>\n",
       "      <td>-0.142650</td>\n",
       "      <td>-0.703991</td>\n",
       "      <td>0.393368</td>\n",
       "      <td>2.789227</td>\n",
       "      <td>1.168652</td>\n",
       "      <td>-2.092260</td>\n",
       "    </tr>\n",
       "    <tr>\n",
       "      <th>B</th>\n",
       "      <td>1.886698</td>\n",
       "      <td>-1.374827</td>\n",
       "      <td>0.617033</td>\n",
       "      <td>-0.411480</td>\n",
       "      <td>0.147398</td>\n",
       "      <td>-0.803235</td>\n",
       "    </tr>\n",
       "    <tr>\n",
       "      <th>C</th>\n",
       "      <td>-0.136227</td>\n",
       "      <td>1.135306</td>\n",
       "      <td>-0.076336</td>\n",
       "      <td>0.385045</td>\n",
       "      <td>0.646844</td>\n",
       "      <td>-1.221998</td>\n",
       "    </tr>\n",
       "    <tr>\n",
       "      <th>D</th>\n",
       "      <td>-0.574382</td>\n",
       "      <td>-0.963215</td>\n",
       "      <td>2.333053</td>\n",
       "      <td>-0.269252</td>\n",
       "      <td>-0.392141</td>\n",
       "      <td>-0.123048</td>\n",
       "    </tr>\n",
       "  </tbody>\n",
       "</table>\n",
       "</div>"
      ],
      "text/plain": [
       "   2024-07-01  2024-07-02  2024-07-03  2024-07-04  2024-07-05  2024-07-06\n",
       "A   -0.142650   -0.703991    0.393368    2.789227    1.168652   -2.092260\n",
       "B    1.886698   -1.374827    0.617033   -0.411480    0.147398   -0.803235\n",
       "C   -0.136227    1.135306   -0.076336    0.385045    0.646844   -1.221998\n",
       "D   -0.574382   -0.963215    2.333053   -0.269252   -0.392141   -0.123048"
      ]
     },
     "execution_count": 22,
     "metadata": {},
     "output_type": "execute_result"
    }
   ],
   "source": [
    "df_transpose = df.T\n",
    "df_transpose"
   ]
  },
  {
   "cell_type": "markdown",
   "id": "dafb992c",
   "metadata": {},
   "source": [
    "- Selection de ligne `loc`\n",
    "- Selection de par position `iloc`"
   ]
  },
  {
   "cell_type": "code",
   "execution_count": 25,
   "id": "ea3463df",
   "metadata": {},
   "outputs": [
    {
     "data": {
      "text/plain": [
       "2024-07-01    1.886698\n",
       "2024-07-02   -1.374827\n",
       "2024-07-03    0.617033\n",
       "2024-07-04   -0.411480\n",
       "2024-07-05    0.147398\n",
       "2024-07-06   -0.803235\n",
       "Freq: D, Name: B, dtype: float64"
      ]
     },
     "execution_count": 25,
     "metadata": {},
     "output_type": "execute_result"
    }
   ],
   "source": [
    "df_b = df[\"B\"]\n",
    "df_b"
   ]
  },
  {
   "cell_type": "markdown",
   "id": "57f0fd52",
   "metadata": {},
   "source": [
    "### Se référer à la documentation\n",
    "\n",
    ">>> df = pd.DataFrame([[1, 2], [4, 5], [7, 8]],\n",
    "...                   index=['cobra', 'viper', 'sidewinder'],\n",
    "...                   columns=['max_speed', 'shield'])\n",
    ">>> df\n",
    "            max_speed  shield\n",
    "cobra               1       2\n",
    "viper               4       5\n",
    "sidewinder          7       8\n",
    "\n",
    ">>> df.loc['viper']\n",
    "max_speed    4\n",
    "shield       5\n",
    "Name: viper, dtype: int64"
   ]
  },
  {
   "cell_type": "code",
   "execution_count": 31,
   "id": "f18ffeff",
   "metadata": {},
   "outputs": [
    {
     "data": {
      "text/plain": [
       "A   -0.142650\n",
       "B    1.886698\n",
       "C   -0.136227\n",
       "D   -0.574382\n",
       "Name: 2024-07-01 00:00:00, dtype: float64"
      ]
     },
     "execution_count": 31,
     "metadata": {},
     "output_type": "execute_result"
    }
   ],
   "source": [
    "df_loc = df.loc[\"2024-07-01\"]\n",
    "df_loc"
   ]
  },
  {
   "cell_type": "code",
   "execution_count": null,
   "id": "b4607da9",
   "metadata": {},
   "outputs": [],
   "source": []
  },
  {
   "cell_type": "markdown",
   "id": "d3631362",
   "metadata": {},
   "source": [
    "### Lecture d'un fichier CSV\n",
    "\n",
    "```python\n",
    "df_csv = pd.read_csv('titanic.csv')\n",
    "print(df_csv.head())\n",
    "```"
   ]
  },
  {
   "cell_type": "code",
   "execution_count": 34,
   "id": "3823918a",
   "metadata": {},
   "outputs": [],
   "source": [
    "# Lire le fichier csv de la dataset Iris\n",
    "df_iris_csv = pd.read_csv('datasets/Iris.csv')"
   ]
  },
  {
   "cell_type": "code",
   "execution_count": 35,
   "id": "f40ac027",
   "metadata": {},
   "outputs": [
    {
     "data": {
      "text/html": [
       "<div>\n",
       "<style scoped>\n",
       "    .dataframe tbody tr th:only-of-type {\n",
       "        vertical-align: middle;\n",
       "    }\n",
       "\n",
       "    .dataframe tbody tr th {\n",
       "        vertical-align: top;\n",
       "    }\n",
       "\n",
       "    .dataframe thead th {\n",
       "        text-align: right;\n",
       "    }\n",
       "</style>\n",
       "<table border=\"1\" class=\"dataframe\">\n",
       "  <thead>\n",
       "    <tr style=\"text-align: right;\">\n",
       "      <th></th>\n",
       "      <th>sepal_length</th>\n",
       "      <th>sepal_width</th>\n",
       "      <th>petal_length</th>\n",
       "      <th>petal_width</th>\n",
       "      <th>class</th>\n",
       "    </tr>\n",
       "  </thead>\n",
       "  <tbody>\n",
       "    <tr>\n",
       "      <th>0</th>\n",
       "      <td>5.1</td>\n",
       "      <td>3.5</td>\n",
       "      <td>1.4</td>\n",
       "      <td>0.2</td>\n",
       "      <td>Iris-setosa</td>\n",
       "    </tr>\n",
       "    <tr>\n",
       "      <th>1</th>\n",
       "      <td>4.9</td>\n",
       "      <td>3.0</td>\n",
       "      <td>1.4</td>\n",
       "      <td>0.2</td>\n",
       "      <td>Iris-setosa</td>\n",
       "    </tr>\n",
       "    <tr>\n",
       "      <th>2</th>\n",
       "      <td>4.7</td>\n",
       "      <td>3.2</td>\n",
       "      <td>1.3</td>\n",
       "      <td>0.2</td>\n",
       "      <td>Iris-setosa</td>\n",
       "    </tr>\n",
       "    <tr>\n",
       "      <th>3</th>\n",
       "      <td>4.6</td>\n",
       "      <td>3.1</td>\n",
       "      <td>1.5</td>\n",
       "      <td>0.2</td>\n",
       "      <td>Iris-setosa</td>\n",
       "    </tr>\n",
       "    <tr>\n",
       "      <th>4</th>\n",
       "      <td>5.0</td>\n",
       "      <td>3.6</td>\n",
       "      <td>1.4</td>\n",
       "      <td>0.2</td>\n",
       "      <td>Iris-setosa</td>\n",
       "    </tr>\n",
       "    <tr>\n",
       "      <th>...</th>\n",
       "      <td>...</td>\n",
       "      <td>...</td>\n",
       "      <td>...</td>\n",
       "      <td>...</td>\n",
       "      <td>...</td>\n",
       "    </tr>\n",
       "    <tr>\n",
       "      <th>145</th>\n",
       "      <td>6.7</td>\n",
       "      <td>3.0</td>\n",
       "      <td>5.2</td>\n",
       "      <td>2.3</td>\n",
       "      <td>Iris-virginica</td>\n",
       "    </tr>\n",
       "    <tr>\n",
       "      <th>146</th>\n",
       "      <td>6.3</td>\n",
       "      <td>2.5</td>\n",
       "      <td>5.0</td>\n",
       "      <td>1.9</td>\n",
       "      <td>Iris-virginica</td>\n",
       "    </tr>\n",
       "    <tr>\n",
       "      <th>147</th>\n",
       "      <td>6.5</td>\n",
       "      <td>3.0</td>\n",
       "      <td>5.2</td>\n",
       "      <td>2.0</td>\n",
       "      <td>Iris-virginica</td>\n",
       "    </tr>\n",
       "    <tr>\n",
       "      <th>148</th>\n",
       "      <td>6.2</td>\n",
       "      <td>3.4</td>\n",
       "      <td>5.4</td>\n",
       "      <td>2.3</td>\n",
       "      <td>Iris-virginica</td>\n",
       "    </tr>\n",
       "    <tr>\n",
       "      <th>149</th>\n",
       "      <td>5.9</td>\n",
       "      <td>3.0</td>\n",
       "      <td>5.1</td>\n",
       "      <td>1.8</td>\n",
       "      <td>Iris-virginica</td>\n",
       "    </tr>\n",
       "  </tbody>\n",
       "</table>\n",
       "<p>150 rows × 5 columns</p>\n",
       "</div>"
      ],
      "text/plain": [
       "     sepal_length  sepal_width  petal_length  petal_width           class\n",
       "0             5.1          3.5           1.4          0.2     Iris-setosa\n",
       "1             4.9          3.0           1.4          0.2     Iris-setosa\n",
       "2             4.7          3.2           1.3          0.2     Iris-setosa\n",
       "3             4.6          3.1           1.5          0.2     Iris-setosa\n",
       "4             5.0          3.6           1.4          0.2     Iris-setosa\n",
       "..            ...          ...           ...          ...             ...\n",
       "145           6.7          3.0           5.2          2.3  Iris-virginica\n",
       "146           6.3          2.5           5.0          1.9  Iris-virginica\n",
       "147           6.5          3.0           5.2          2.0  Iris-virginica\n",
       "148           6.2          3.4           5.4          2.3  Iris-virginica\n",
       "149           5.9          3.0           5.1          1.8  Iris-virginica\n",
       "\n",
       "[150 rows x 5 columns]"
      ]
     },
     "execution_count": 35,
     "metadata": {},
     "output_type": "execute_result"
    }
   ],
   "source": [
    "df_iris_csv"
   ]
  },
  {
   "cell_type": "code",
   "execution_count": 36,
   "id": "ed765bb7",
   "metadata": {},
   "outputs": [
    {
     "data": {
      "text/html": [
       "<div>\n",
       "<style scoped>\n",
       "    .dataframe tbody tr th:only-of-type {\n",
       "        vertical-align: middle;\n",
       "    }\n",
       "\n",
       "    .dataframe tbody tr th {\n",
       "        vertical-align: top;\n",
       "    }\n",
       "\n",
       "    .dataframe thead th {\n",
       "        text-align: right;\n",
       "    }\n",
       "</style>\n",
       "<table border=\"1\" class=\"dataframe\">\n",
       "  <thead>\n",
       "    <tr style=\"text-align: right;\">\n",
       "      <th></th>\n",
       "      <th>sepal_length</th>\n",
       "      <th>sepal_width</th>\n",
       "      <th>petal_length</th>\n",
       "      <th>petal_width</th>\n",
       "      <th>class</th>\n",
       "    </tr>\n",
       "  </thead>\n",
       "  <tbody>\n",
       "    <tr>\n",
       "      <th>0</th>\n",
       "      <td>5.1</td>\n",
       "      <td>3.5</td>\n",
       "      <td>1.4</td>\n",
       "      <td>0.2</td>\n",
       "      <td>Iris-setosa</td>\n",
       "    </tr>\n",
       "    <tr>\n",
       "      <th>1</th>\n",
       "      <td>4.9</td>\n",
       "      <td>3.0</td>\n",
       "      <td>1.4</td>\n",
       "      <td>0.2</td>\n",
       "      <td>Iris-setosa</td>\n",
       "    </tr>\n",
       "    <tr>\n",
       "      <th>2</th>\n",
       "      <td>4.7</td>\n",
       "      <td>3.2</td>\n",
       "      <td>1.3</td>\n",
       "      <td>0.2</td>\n",
       "      <td>Iris-setosa</td>\n",
       "    </tr>\n",
       "    <tr>\n",
       "      <th>3</th>\n",
       "      <td>4.6</td>\n",
       "      <td>3.1</td>\n",
       "      <td>1.5</td>\n",
       "      <td>0.2</td>\n",
       "      <td>Iris-setosa</td>\n",
       "    </tr>\n",
       "    <tr>\n",
       "      <th>4</th>\n",
       "      <td>5.0</td>\n",
       "      <td>3.6</td>\n",
       "      <td>1.4</td>\n",
       "      <td>0.2</td>\n",
       "      <td>Iris-setosa</td>\n",
       "    </tr>\n",
       "  </tbody>\n",
       "</table>\n",
       "</div>"
      ],
      "text/plain": [
       "   sepal_length  sepal_width  petal_length  petal_width        class\n",
       "0           5.1          3.5           1.4          0.2  Iris-setosa\n",
       "1           4.9          3.0           1.4          0.2  Iris-setosa\n",
       "2           4.7          3.2           1.3          0.2  Iris-setosa\n",
       "3           4.6          3.1           1.5          0.2  Iris-setosa\n",
       "4           5.0          3.6           1.4          0.2  Iris-setosa"
      ]
     },
     "execution_count": 36,
     "metadata": {},
     "output_type": "execute_result"
    }
   ],
   "source": [
    "# Récupérer les 5 premiers valeurs\n",
    "df_iris_csv.head()"
   ]
  },
  {
   "cell_type": "code",
   "execution_count": 37,
   "id": "eb572ebb",
   "metadata": {},
   "outputs": [
    {
     "data": {
      "text/html": [
       "<div>\n",
       "<style scoped>\n",
       "    .dataframe tbody tr th:only-of-type {\n",
       "        vertical-align: middle;\n",
       "    }\n",
       "\n",
       "    .dataframe tbody tr th {\n",
       "        vertical-align: top;\n",
       "    }\n",
       "\n",
       "    .dataframe thead th {\n",
       "        text-align: right;\n",
       "    }\n",
       "</style>\n",
       "<table border=\"1\" class=\"dataframe\">\n",
       "  <thead>\n",
       "    <tr style=\"text-align: right;\">\n",
       "      <th></th>\n",
       "      <th>sepal_length</th>\n",
       "      <th>sepal_width</th>\n",
       "      <th>petal_length</th>\n",
       "      <th>petal_width</th>\n",
       "      <th>class</th>\n",
       "    </tr>\n",
       "  </thead>\n",
       "  <tbody>\n",
       "    <tr>\n",
       "      <th>145</th>\n",
       "      <td>6.7</td>\n",
       "      <td>3.0</td>\n",
       "      <td>5.2</td>\n",
       "      <td>2.3</td>\n",
       "      <td>Iris-virginica</td>\n",
       "    </tr>\n",
       "    <tr>\n",
       "      <th>146</th>\n",
       "      <td>6.3</td>\n",
       "      <td>2.5</td>\n",
       "      <td>5.0</td>\n",
       "      <td>1.9</td>\n",
       "      <td>Iris-virginica</td>\n",
       "    </tr>\n",
       "    <tr>\n",
       "      <th>147</th>\n",
       "      <td>6.5</td>\n",
       "      <td>3.0</td>\n",
       "      <td>5.2</td>\n",
       "      <td>2.0</td>\n",
       "      <td>Iris-virginica</td>\n",
       "    </tr>\n",
       "    <tr>\n",
       "      <th>148</th>\n",
       "      <td>6.2</td>\n",
       "      <td>3.4</td>\n",
       "      <td>5.4</td>\n",
       "      <td>2.3</td>\n",
       "      <td>Iris-virginica</td>\n",
       "    </tr>\n",
       "    <tr>\n",
       "      <th>149</th>\n",
       "      <td>5.9</td>\n",
       "      <td>3.0</td>\n",
       "      <td>5.1</td>\n",
       "      <td>1.8</td>\n",
       "      <td>Iris-virginica</td>\n",
       "    </tr>\n",
       "  </tbody>\n",
       "</table>\n",
       "</div>"
      ],
      "text/plain": [
       "     sepal_length  sepal_width  petal_length  petal_width           class\n",
       "145           6.7          3.0           5.2          2.3  Iris-virginica\n",
       "146           6.3          2.5           5.0          1.9  Iris-virginica\n",
       "147           6.5          3.0           5.2          2.0  Iris-virginica\n",
       "148           6.2          3.4           5.4          2.3  Iris-virginica\n",
       "149           5.9          3.0           5.1          1.8  Iris-virginica"
      ]
     },
     "execution_count": 37,
     "metadata": {},
     "output_type": "execute_result"
    }
   ],
   "source": [
    "# Récupérer les 5 derniers valeurs\n",
    "df_iris_csv.tail()"
   ]
  },
  {
   "cell_type": "code",
   "execution_count": 38,
   "id": "0402c391",
   "metadata": {},
   "outputs": [],
   "source": [
    "# Récupérer la valeur de sepal length\n",
    "sepal_length = df_iris_csv[\"sepal_length\"]"
   ]
  },
  {
   "cell_type": "code",
   "execution_count": 39,
   "id": "11a9c961",
   "metadata": {},
   "outputs": [
    {
     "data": {
      "text/plain": [
       "0      5.1\n",
       "1      4.9\n",
       "2      4.7\n",
       "3      4.6\n",
       "4      5.0\n",
       "      ... \n",
       "145    6.7\n",
       "146    6.3\n",
       "147    6.5\n",
       "148    6.2\n",
       "149    5.9\n",
       "Name: sepal_length, Length: 150, dtype: float64"
      ]
     },
     "execution_count": 39,
     "metadata": {},
     "output_type": "execute_result"
    }
   ],
   "source": [
    "sepal_length"
   ]
  },
  {
   "cell_type": "code",
   "execution_count": 40,
   "id": "14395d5d",
   "metadata": {},
   "outputs": [
    {
     "name": "stdout",
     "output_type": "stream",
     "text": [
      "<class 'pandas.core.frame.DataFrame'>\n",
      "RangeIndex: 150 entries, 0 to 149\n",
      "Data columns (total 5 columns):\n",
      " #   Column        Non-Null Count  Dtype  \n",
      "---  ------        --------------  -----  \n",
      " 0   sepal_length  150 non-null    float64\n",
      " 1   sepal_width   150 non-null    float64\n",
      " 2   petal_length  150 non-null    float64\n",
      " 3   petal_width   150 non-null    float64\n",
      " 4   class         150 non-null    object \n",
      "dtypes: float64(4), object(1)\n",
      "memory usage: 6.0+ KB\n"
     ]
    }
   ],
   "source": [
    "df_iris_csv.info()"
   ]
  },
  {
   "cell_type": "code",
   "execution_count": 41,
   "id": "5e6994d9",
   "metadata": {},
   "outputs": [
    {
     "data": {
      "text/plain": [
       "sepal_length            5.0\n",
       "sepal_width             3.3\n",
       "petal_length            1.4\n",
       "petal_width             0.2\n",
       "class           Iris-setosa\n",
       "Name: 49, dtype: object"
      ]
     },
     "execution_count": 41,
     "metadata": {},
     "output_type": "execute_result"
    }
   ],
   "source": [
    "# Récupérer la 50ème valeur \n",
    "df_iris_csv.loc[49]"
   ]
  },
  {
   "cell_type": "code",
   "execution_count": 43,
   "id": "4c63898e",
   "metadata": {},
   "outputs": [
    {
     "data": {
      "text/html": [
       "<div>\n",
       "<style scoped>\n",
       "    .dataframe tbody tr th:only-of-type {\n",
       "        vertical-align: middle;\n",
       "    }\n",
       "\n",
       "    .dataframe tbody tr th {\n",
       "        vertical-align: top;\n",
       "    }\n",
       "\n",
       "    .dataframe thead th {\n",
       "        text-align: right;\n",
       "    }\n",
       "</style>\n",
       "<table border=\"1\" class=\"dataframe\">\n",
       "  <thead>\n",
       "    <tr style=\"text-align: right;\">\n",
       "      <th></th>\n",
       "      <th>sepal_length</th>\n",
       "      <th>sepal_width</th>\n",
       "      <th>petal_length</th>\n",
       "      <th>petal_width</th>\n",
       "      <th>class</th>\n",
       "    </tr>\n",
       "  </thead>\n",
       "  <tbody>\n",
       "    <tr>\n",
       "      <th>49</th>\n",
       "      <td>5.0</td>\n",
       "      <td>3.3</td>\n",
       "      <td>1.4</td>\n",
       "      <td>0.2</td>\n",
       "      <td>Iris-setosa</td>\n",
       "    </tr>\n",
       "    <tr>\n",
       "      <th>50</th>\n",
       "      <td>7.0</td>\n",
       "      <td>3.2</td>\n",
       "      <td>4.7</td>\n",
       "      <td>1.4</td>\n",
       "      <td>Iris-versicolor</td>\n",
       "    </tr>\n",
       "    <tr>\n",
       "      <th>51</th>\n",
       "      <td>6.4</td>\n",
       "      <td>3.2</td>\n",
       "      <td>4.5</td>\n",
       "      <td>1.5</td>\n",
       "      <td>Iris-versicolor</td>\n",
       "    </tr>\n",
       "    <tr>\n",
       "      <th>52</th>\n",
       "      <td>6.9</td>\n",
       "      <td>3.1</td>\n",
       "      <td>4.9</td>\n",
       "      <td>1.5</td>\n",
       "      <td>Iris-versicolor</td>\n",
       "    </tr>\n",
       "    <tr>\n",
       "      <th>53</th>\n",
       "      <td>5.5</td>\n",
       "      <td>2.3</td>\n",
       "      <td>4.0</td>\n",
       "      <td>1.3</td>\n",
       "      <td>Iris-versicolor</td>\n",
       "    </tr>\n",
       "    <tr>\n",
       "      <th>54</th>\n",
       "      <td>6.5</td>\n",
       "      <td>2.8</td>\n",
       "      <td>4.6</td>\n",
       "      <td>1.5</td>\n",
       "      <td>Iris-versicolor</td>\n",
       "    </tr>\n",
       "    <tr>\n",
       "      <th>55</th>\n",
       "      <td>5.7</td>\n",
       "      <td>2.8</td>\n",
       "      <td>4.5</td>\n",
       "      <td>1.3</td>\n",
       "      <td>Iris-versicolor</td>\n",
       "    </tr>\n",
       "    <tr>\n",
       "      <th>56</th>\n",
       "      <td>6.3</td>\n",
       "      <td>3.3</td>\n",
       "      <td>4.7</td>\n",
       "      <td>1.6</td>\n",
       "      <td>Iris-versicolor</td>\n",
       "    </tr>\n",
       "    <tr>\n",
       "      <th>57</th>\n",
       "      <td>4.9</td>\n",
       "      <td>2.4</td>\n",
       "      <td>3.3</td>\n",
       "      <td>1.0</td>\n",
       "      <td>Iris-versicolor</td>\n",
       "    </tr>\n",
       "    <tr>\n",
       "      <th>58</th>\n",
       "      <td>6.6</td>\n",
       "      <td>2.9</td>\n",
       "      <td>4.6</td>\n",
       "      <td>1.3</td>\n",
       "      <td>Iris-versicolor</td>\n",
       "    </tr>\n",
       "    <tr>\n",
       "      <th>59</th>\n",
       "      <td>5.2</td>\n",
       "      <td>2.7</td>\n",
       "      <td>3.9</td>\n",
       "      <td>1.4</td>\n",
       "      <td>Iris-versicolor</td>\n",
       "    </tr>\n",
       "  </tbody>\n",
       "</table>\n",
       "</div>"
      ],
      "text/plain": [
       "    sepal_length  sepal_width  petal_length  petal_width            class\n",
       "49           5.0          3.3           1.4          0.2      Iris-setosa\n",
       "50           7.0          3.2           4.7          1.4  Iris-versicolor\n",
       "51           6.4          3.2           4.5          1.5  Iris-versicolor\n",
       "52           6.9          3.1           4.9          1.5  Iris-versicolor\n",
       "53           5.5          2.3           4.0          1.3  Iris-versicolor\n",
       "54           6.5          2.8           4.6          1.5  Iris-versicolor\n",
       "55           5.7          2.8           4.5          1.3  Iris-versicolor\n",
       "56           6.3          3.3           4.7          1.6  Iris-versicolor\n",
       "57           4.9          2.4           3.3          1.0  Iris-versicolor\n",
       "58           6.6          2.9           4.6          1.3  Iris-versicolor\n",
       "59           5.2          2.7           3.9          1.4  Iris-versicolor"
      ]
     },
     "execution_count": 43,
     "metadata": {},
     "output_type": "execute_result"
    }
   ],
   "source": [
    "# Récupérer la 50ème et la 60ème valeur\n",
    "df_iris_csv.loc[49:59]"
   ]
  },
  {
   "cell_type": "markdown",
   "id": "b2844e7d",
   "metadata": {},
   "source": [
    "### Exercice\n",
    "- 1. Dessiner un graphique de sepal_length en fonction de sepal_width\n",
    "- 2. Dessiner un graphique de petal_length en fonction de petal_width"
   ]
  },
  {
   "cell_type": "markdown",
   "id": "d70175b7",
   "metadata": {},
   "source": [
    "3. Manipulation de DataFrames\n",
    "\n",
    "```python\n",
    "### Sélection de colonnes\n",
    "print(df['Nom'])\n",
    "\n",
    "### Sélection de lignes par index\n",
    "print(df.iloc[0])\n",
    "\n",
    "### Sélection de lignes par condition\n",
    "print(df[df['Âge'] > 30])\n",
    "```"
   ]
  },
  {
   "cell_type": "markdown",
   "id": "1f10bf05",
   "metadata": {},
   "source": [
    "### Manipulation de chaînes de caractères\n",
    "\n",
    "```python\n",
    "df['Ville'] = df['Ville'].str.upper()\n",
    "print(df)\n",
    "```"
   ]
  },
  {
   "cell_type": "markdown",
   "id": "d2c57c25",
   "metadata": {},
   "source": [
    "### Description des données\n",
    "\n",
    "```python\n",
    "print(df_csv.describe())\n",
    "print(df_csv.info())\n",
    "```"
   ]
  },
  {
   "cell_type": "markdown",
   "id": "4fc231d4",
   "metadata": {},
   "source": [
    "### 4. Opérations de transformation\n",
    "\n",
    "```python\n",
    "# Ajout d'une nouvelle colonne\n",
    "df['Pays'] = 'France'\n",
    "print(df)\n",
    "\n",
    "# Suppression d'une colonne\n",
    "df = df.drop('Pays', axis=1)\n",
    "print(df)\n",
    "```"
   ]
  },
  {
   "cell_type": "markdown",
   "id": "8b40ae45",
   "metadata": {},
   "source": [
    "### Tri des données\n",
    "\n",
    "```python\n",
    "df_sorted = df.sort_values(by='Âge', ascending=False)\n",
    "print(df_sorted)\n",
    "```"
   ]
  },
  {
   "cell_type": "code",
   "execution_count": null,
   "id": "6d521d2d",
   "metadata": {},
   "outputs": [],
   "source": [
    "### Groupement des données\n",
    "\n",
    "```python\n",
    "df_grouped = df_csv.groupby('Sex').mean()\n",
    "print(df_grouped)\n",
    "```\n"
   ]
  },
  {
   "cell_type": "markdown",
   "id": "99bcdae3",
   "metadata": {},
   "source": [
    "### Fusion de DataFrames\n",
    "\n",
    "```python\n",
    "df1 = pd.DataFrame({'id': [1, 2, 3], 'valeur': ['A', 'B', 'C']})\n",
    "df2 = pd.DataFrame({'id': [1, 2, 4], 'valeur': ['D', 'E', 'F']})\n",
    "df_merged = pd.merge(df1, df2, on='id', how='inner')\n",
    "print(df_merged)\n",
    "```"
   ]
  },
  {
   "cell_type": "markdown",
   "id": "9268be55",
   "metadata": {},
   "source": [
    "5. Visualisation des données\n",
    "\n",
    "### Importation des bibliothèques de visualisation\n",
    "\n",
    "```python\n",
    "import matplotlib.pyplot as plt\n",
    "import seaborn as sns\n",
    "```"
   ]
  },
  {
   "cell_type": "markdown",
   "id": "d038de00",
   "metadata": {},
   "source": [
    "### Histogramme\n",
    "```python\n",
    "df_csv['Age'].plot(kind='hist', bins=20)\n",
    "plt.xlabel('Âge')\n",
    "plt.title('Distribution des âges')\n",
    "plt.show()\n",
    "```"
   ]
  },
  {
   "cell_type": "markdown",
   "id": "c4e45fe6",
   "metadata": {},
   "source": [
    "### Scatter plot\n",
    "\n",
    "```python\n",
    "df_csv.plot(kind='scatter', x='Age', y='Fare')\n",
    "plt.xlabel('Âge')\n",
    "plt.ylabel('Tarif')\n",
    "plt.title('Âge vs Tarif')\n",
    "plt.show()\n",
    "```"
   ]
  },
  {
   "cell_type": "markdown",
   "id": "7e32444c",
   "metadata": {},
   "source": [
    "6. Étude de cas pratique\n",
    "\n",
    "```python\n",
    "# Analyse du jeu de données Iris\n",
    "# Affichage des informations de base\n",
    "print(df_csv.info())\n",
    "```"
   ]
  },
  {
   "cell_type": "markdown",
   "id": "efb36101",
   "metadata": {},
   "source": [
    "```python\n",
    "# Calcul du taux de survie par sexe\n",
    "survival_rate = df_csv.groupby('Sex')['Survived'].mean()\n",
    "print(survival_rate)\n",
    "```"
   ]
  },
  {
   "cell_type": "markdown",
   "id": "627cec5b",
   "metadata": {},
   "source": [
    "```python\n",
    "# Création d'un nouveau DataFrame avec les informations pertinentes\n",
    "df_summary = df_csv[['Age', 'Fare', 'Survived']]\n",
    "print(df_summary.head())\n",
    "```"
   ]
  },
  {
   "cell_type": "markdown",
   "id": "25e8f99d",
   "metadata": {},
   "source": [
    "```python\n",
    "# Présentation des résultats\n",
    "plt.figure(figsize=(10, 6))\n",
    "sns.boxplot(x='Survived', y='Age', data=df_csv)\n",
    "plt.title('Âge des passagers en fonction de leur survie')\n",
    "plt.show()\n",
    "```"
   ]
  }
 ],
 "metadata": {
  "kernelspec": {
   "display_name": "Python 3 (ipykernel)",
   "language": "python",
   "name": "python3"
  },
  "language_info": {
   "codemirror_mode": {
    "name": "ipython",
    "version": 3
   },
   "file_extension": ".py",
   "mimetype": "text/x-python",
   "name": "python",
   "nbconvert_exporter": "python",
   "pygments_lexer": "ipython3",
   "version": "3.10.9"
  }
 },
 "nbformat": 4,
 "nbformat_minor": 5
}
