{
 "cells": [
  {
   "cell_type": "markdown",
   "id": "4b7164af",
   "metadata": {},
   "source": [
    "### Tuples\n",
    "Les tuples en Python sont des structures de données immuables, c'est-à-dire qu'une fois créés, leurs éléments ne peuvent pas être modifiés. Ils sont utilisés pour plusieurs raisons :\n",
    "- Stockage de données constantes : Lorsque vous avez des données qui ne doivent pas être modifiées, un tuple est une bonne solution. Par exemple, des coordonnées géographiques (latitude, longitude) ou des valeurs de configuration constantes.\n",
    "- Retourner plusieurs valeurs : Les tuples sont souvent utilisés pour retourner plusieurs valeurs d'une fonction.\n",
    "- Utilisation comme clés dans des dictionnaires : Les tuples peuvent être utilisés comme clés dans les dictionnaires, car ils sont immuables et donc hashables.\n",
    "- Structuration de données hétérogènes : Les tuples peuvent contenir des éléments de différents types et sont souvent utilisés pour regrouper des données hétérogènes."
   ]
  },
  {
   "cell_type": "markdown",
   "id": "b9f45222",
   "metadata": {},
   "source": [
    "#### Déclaration d'un tuple\n",
    "\n",
    "En Python, il existe différents types de données : string, integer et float. Ces types de données peuvent tous être contenus dans un tuple comme suit.\n",
    "\n",
    "<img src=\"image/tuple.png\" alt=\"Tuple illustration\" />"
   ]
  },
  {
   "cell_type": "code",
   "execution_count": 1,
   "id": "39fc0088",
   "metadata": {},
   "outputs": [],
   "source": [
    "tuple = ('Python', 64, 8.7)"
   ]
  },
  {
   "cell_type": "code",
   "execution_count": 2,
   "id": "891d3b2a",
   "metadata": {},
   "outputs": [
    {
     "name": "stdout",
     "output_type": "stream",
     "text": [
      "('Python', 64, 8.7)\n"
     ]
    }
   ],
   "source": [
    "print(tuple)"
   ]
  },
  {
   "cell_type": "code",
   "execution_count": 3,
   "id": "0f0a3749",
   "metadata": {},
   "outputs": [
    {
     "data": {
      "text/plain": [
       "tuple"
      ]
     },
     "execution_count": 3,
     "metadata": {},
     "output_type": "execute_result"
    }
   ],
   "source": [
    "type(tuple)"
   ]
  },
  {
   "cell_type": "markdown",
   "id": "c65dac00",
   "metadata": {},
   "source": [
    "#### Indexation\n",
    "- On peut indexer chaque élément de notre tuple pour avoir accès à sa valeur : Par exemple\n",
    "\n",
    "<img src=\"image/tuple_indexation.gif\" alt=\"Tuple indexation\" />"
   ]
  },
  {
   "cell_type": "code",
   "execution_count": 4,
   "id": "07ad92d2",
   "metadata": {},
   "outputs": [
    {
     "data": {
      "text/plain": [
       "'Python'"
      ]
     },
     "execution_count": 4,
     "metadata": {},
     "output_type": "execute_result"
    }
   ],
   "source": [
    "tuple[0]"
   ]
  },
  {
   "cell_type": "code",
   "execution_count": 5,
   "id": "db6eaab8",
   "metadata": {},
   "outputs": [
    {
     "data": {
      "text/plain": [
       "64"
      ]
     },
     "execution_count": 5,
     "metadata": {},
     "output_type": "execute_result"
    }
   ],
   "source": [
    "tuple[1]"
   ]
  },
  {
   "cell_type": "code",
   "execution_count": 6,
   "id": "bd464a88",
   "metadata": {},
   "outputs": [
    {
     "data": {
      "text/plain": [
       "8.7"
      ]
     },
     "execution_count": 6,
     "metadata": {},
     "output_type": "execute_result"
    }
   ],
   "source": [
    "tuple[2]"
   ]
  },
  {
   "cell_type": "markdown",
   "id": "672a7449",
   "metadata": {},
   "source": [
    "##### Indexation en arrière\n",
    "\n",
    "<img src=\"image/tuple_negative_indexing.png\" alt=\"Tuple illustration\" />"
   ]
  },
  {
   "cell_type": "code",
   "execution_count": 8,
   "id": "c3326355",
   "metadata": {},
   "outputs": [
    {
     "data": {
      "text/plain": [
       "8.7"
      ]
     },
     "execution_count": 8,
     "metadata": {},
     "output_type": "execute_result"
    }
   ],
   "source": [
    "tuple[-1]"
   ]
  },
  {
   "cell_type": "code",
   "execution_count": 9,
   "id": "586bdc67",
   "metadata": {},
   "outputs": [
    {
     "data": {
      "text/plain": [
       "64"
      ]
     },
     "execution_count": 9,
     "metadata": {},
     "output_type": "execute_result"
    }
   ],
   "source": [
    "tuple[-2]"
   ]
  },
  {
   "cell_type": "markdown",
   "id": "11f0eaf1",
   "metadata": {},
   "source": [
    "#### Les différentes opérations sur les tuples"
   ]
  },
  {
   "cell_type": "markdown",
   "id": "becf0f6a",
   "metadata": {},
   "source": [
    "1- La concaténation (+)"
   ]
  },
  {
   "cell_type": "code",
   "execution_count": 11,
   "id": "cd82822f",
   "metadata": {},
   "outputs": [],
   "source": [
    "tuple2 = (\"Java\", \"Language\", 17, 8.3)"
   ]
  },
  {
   "cell_type": "code",
   "execution_count": 12,
   "id": "f875be1c",
   "metadata": {},
   "outputs": [],
   "source": [
    "tuple_concat = tuple + tuple2"
   ]
  },
  {
   "cell_type": "code",
   "execution_count": 13,
   "id": "9b308133",
   "metadata": {},
   "outputs": [
    {
     "data": {
      "text/plain": [
       "('Python', 64, 8.7, 'Java', 'Language', 17, 8.3)"
      ]
     },
     "execution_count": 13,
     "metadata": {},
     "output_type": "execute_result"
    }
   ],
   "source": [
    "tuple_concat"
   ]
  },
  {
   "cell_type": "markdown",
   "id": "19060a9c",
   "metadata": {},
   "source": [
    "2- Slicing"
   ]
  },
  {
   "cell_type": "code",
   "execution_count": 14,
   "id": "490410ff",
   "metadata": {},
   "outputs": [
    {
     "data": {
      "text/plain": [
       "(8.7, 'Java')"
      ]
     },
     "execution_count": 14,
     "metadata": {},
     "output_type": "execute_result"
    }
   ],
   "source": [
    "tuple_concat[2:4]"
   ]
  },
  {
   "cell_type": "markdown",
   "id": "2be497bb",
   "metadata": {},
   "source": [
    "3- Nested Tuple (Embrication de tuple)"
   ]
  },
  {
   "cell_type": "code",
   "execution_count": 15,
   "id": "546ea148",
   "metadata": {},
   "outputs": [],
   "source": [
    "nested_tuple = ((1,2), \"Hello\", tuple)"
   ]
  },
  {
   "cell_type": "code",
   "execution_count": 16,
   "id": "cda850a3",
   "metadata": {},
   "outputs": [
    {
     "data": {
      "text/plain": [
       "((1, 2), 'Hello', ('Python', 64, 8.7))"
      ]
     },
     "execution_count": 16,
     "metadata": {},
     "output_type": "execute_result"
    }
   ],
   "source": [
    "nested_tuple"
   ]
  },
  {
   "cell_type": "markdown",
   "id": "df2ac77d",
   "metadata": {},
   "source": [
    "### Les listes en Python\n",
    "\n",
    "Les listes sont l'une des structures de données les plus fondamentales et polyvalentes en Python. Elles permettent de stocker des collections d'éléments dans un ordre spécifique et offrent de nombreuses méthodes pour manipuler ces collections.\n",
    "\n",
    "#### 1. Définition et Création de Listes\n",
    "\n",
    "Une liste en Python est définie en plaçant une séquence d'éléments entre crochets `[]`, séparés par des virgules.\n",
    "\n",
    "##### 1.1. Création de Listes\n",
    "\n",
    "```python\n",
    "# Liste vide\n",
    "ma_liste = []\n",
    "\n",
    "# Liste avec des éléments\n",
    "ma_liste = [1, 2, 3, 4, 5]\n",
    "\n",
    "# Liste avec des types de données différents\n",
    "ma_liste = [1, \"deux\", 3.0, True]\n",
    "```\n",
    "\n"
   ]
  },
  {
   "cell_type": "code",
   "execution_count": 4,
   "id": "0f45f0dc",
   "metadata": {},
   "outputs": [
    {
     "data": {
      "text/plain": [
       "list"
      ]
     },
     "execution_count": 4,
     "metadata": {},
     "output_type": "execute_result"
    }
   ],
   "source": [
    "ma_liste = []\n",
    "type(ma_liste)"
   ]
  },
  {
   "cell_type": "markdown",
   "id": "0c647cdc",
   "metadata": {},
   "source": [
    "##### 1.2. Accès aux Éléments d'une Liste\n",
    "\n",
    "Les éléments d'une liste sont accessibles par leur index, qui commence à 0.\n",
    "\n",
    "```python\n",
    "ma_liste = [1, 2, 3, 4, 5]\n",
    "print(ma_liste[0])  # Affiche 1\n",
    "print(ma_liste[2])  # Affiche 3\n",
    "```"
   ]
  },
  {
   "cell_type": "markdown",
   "id": "2a7109db",
   "metadata": {},
   "source": [
    "##### 1.3. Indexation Négative\n",
    "\n",
    "Python permet également d'utiliser des index négatifs pour accéder aux éléments en partant de la fin de la liste.\n",
    "\n",
    "```python\n",
    "ma_liste = [1, 2, 3, 4, 5]\n",
    "print(ma_liste[-1])  # Affiche 5\n",
    "print(ma_liste[-3])  # Affiche 3\n",
    "```"
   ]
  },
  {
   "cell_type": "markdown",
   "id": "a5cae5f7",
   "metadata": {},
   "source": [
    "#### 2. Manipulation des Listes\n",
    "\n",
    "##### 2.1. Modification des Éléments\n",
    "\n",
    "Vous pouvez modifier les éléments d'une liste en accédant directement à leur index.\n",
    "\n",
    "```python\n",
    "ma_liste = [1, 2, 3, 4, 5]\n",
    "ma_liste[2] = 10\n",
    "print(ma_liste)  # Affiche [1, 2, 10, 4, 5]\n",
    "```"
   ]
  },
  {
   "cell_type": "code",
   "execution_count": 5,
   "id": "68202e2f",
   "metadata": {},
   "outputs": [],
   "source": [
    "ma_liste = [1, 2, 3, 4, 5]\n",
    "ma_liste[4] = 7"
   ]
  },
  {
   "cell_type": "code",
   "execution_count": 6,
   "id": "6ae4b8c5",
   "metadata": {},
   "outputs": [
    {
     "data": {
      "text/plain": [
       "[1, 2, 3, 4, 7]"
      ]
     },
     "execution_count": 6,
     "metadata": {},
     "output_type": "execute_result"
    }
   ],
   "source": [
    "ma_liste"
   ]
  },
  {
   "cell_type": "markdown",
   "id": "28a9c1bc",
   "metadata": {},
   "source": [
    "##### 2.2. Ajout d'Éléments\n",
    "\n",
    "Les listes offrent plusieurs méthodes pour ajouter des éléments.\n",
    "\n",
    "###### 2.2.1. `append`\n",
    "\n",
    "Ajoute un élément à la fin de la liste.\n",
    "\n",
    "```python\n",
    "ma_liste = [1, 2, 3]\n",
    "ma_liste.append(4)\n",
    "print(ma_liste)  # Affiche [1, 2, 3, 4]\n",
    "```"
   ]
  },
  {
   "cell_type": "code",
   "execution_count": 7,
   "id": "89819838",
   "metadata": {},
   "outputs": [
    {
     "data": {
      "text/plain": [
       "[1, 2, 3, 4, 7, 9]"
      ]
     },
     "execution_count": 7,
     "metadata": {},
     "output_type": "execute_result"
    }
   ],
   "source": [
    "ma_liste.append(9)\n",
    "ma_liste"
   ]
  },
  {
   "cell_type": "markdown",
   "id": "041a0a43",
   "metadata": {},
   "source": [
    "###### 2.2.2. `insert`\n",
    "\n",
    "Ajoute un élément à une position spécifique.\n",
    "\n",
    "```python\n",
    "ma_liste = [1, 2, 3]\n",
    "ma_liste.insert(1, 1.5)\n",
    "print(ma_liste)  # Affiche [1, 1.5, 2, 3]\n",
    "```"
   ]
  },
  {
   "cell_type": "code",
   "execution_count": 8,
   "id": "f520d894",
   "metadata": {},
   "outputs": [
    {
     "data": {
      "text/plain": [
       "[1, 6, 2, 3, 4, 7, 9]"
      ]
     },
     "execution_count": 8,
     "metadata": {},
     "output_type": "execute_result"
    }
   ],
   "source": [
    "ma_liste.insert(1, 6)\n",
    "ma_liste"
   ]
  },
  {
   "cell_type": "markdown",
   "id": "fc5485c4",
   "metadata": {},
   "source": [
    "###### 2.2.3. `extend`\n",
    "\n",
    "Ajoute les éléments d'une autre liste à la fin de la liste courante.\n",
    "\n",
    "```python\n",
    "ma_liste = [1, 2, 3]\n",
    "ma_liste.extend([4, 5])\n",
    "print(ma_liste)  # Affiche [1, 2, 3, 4, 5]\n",
    "```"
   ]
  },
  {
   "cell_type": "code",
   "execution_count": 9,
   "id": "59de0243",
   "metadata": {},
   "outputs": [
    {
     "data": {
      "text/plain": [
       "[1, 6, 2, 3, 4, 7, 9, 'Python', 'Java']"
      ]
     },
     "execution_count": 9,
     "metadata": {},
     "output_type": "execute_result"
    }
   ],
   "source": [
    "ma_liste.extend([\"Python\", \"Java\"])\n",
    "ma_liste"
   ]
  },
  {
   "cell_type": "markdown",
   "id": "ddd679f1",
   "metadata": {},
   "source": [
    "##### 2.3. Suppression d'Éléments\n",
    "\n",
    "Les listes offrent plusieurs méthodes pour supprimer des éléments.\n",
    "\n",
    "###### 2.3.1. `remove`\n",
    "\n",
    "Supprime la première occurrence d'un élément.\n",
    "\n",
    "```python\n",
    "ma_liste = [1, 2, 3, 2, 4]\n",
    "ma_liste.remove(2)\n",
    "print(ma_liste)  # Affiche [1, 3, 2, 4]\n",
    "```"
   ]
  },
  {
   "cell_type": "code",
   "execution_count": 10,
   "id": "22073d41",
   "metadata": {},
   "outputs": [],
   "source": [
    "ma_liste = [1, 2, 3, 2, 4]\n",
    "ma_liste.remove(2)"
   ]
  },
  {
   "cell_type": "code",
   "execution_count": 11,
   "id": "d6153509",
   "metadata": {},
   "outputs": [
    {
     "data": {
      "text/plain": [
       "[1, 3, 2, 4]"
      ]
     },
     "execution_count": 11,
     "metadata": {},
     "output_type": "execute_result"
    }
   ],
   "source": [
    "ma_liste"
   ]
  },
  {
   "cell_type": "markdown",
   "id": "9535b7a3",
   "metadata": {},
   "source": [
    "###### 2.3.2. `pop`\n",
    "\n",
    "Supprime et retourne l'élément à la position spécifiée. Si aucun index n'est spécifié, il supprime et retourne le dernier élément.\n",
    "\n",
    "```python\n",
    "ma_liste = [1, 2, 3]\n",
    "dernier_element = ma_liste.pop()\n",
    "print(dernier_element)  # Affiche 3\n",
    "print(ma_liste)         # Affiche [1, 2]\n",
    "```"
   ]
  },
  {
   "cell_type": "markdown",
   "id": "2144ced8",
   "metadata": {},
   "source": [
    "##### 2.4. Listes et Boucles\n",
    "\n",
    "Les listes peuvent être facilement parcourues avec des boucles.\n",
    "\n",
    "###### 2.4.1. `for` Loop\n",
    "\n",
    "```python\n",
    "ma_liste = [1, 2, 3, 4, 5]\n",
    "for element in ma_liste:\n",
    "    print(element)\n",
    "```"
   ]
  },
  {
   "cell_type": "markdown",
   "id": "9d8f650b",
   "metadata": {},
   "source": [
    "###### 2.4.2. `while` Loop\n",
    "\n",
    "```python\n",
    "ma_liste = [1, 2, 3, 4, 5]\n",
    "i = 0\n",
    "while i < len(ma_liste):\n",
    "    print(ma_liste[i])\n",
    "    i += 1\n",
    "```\n"
   ]
  },
  {
   "cell_type": "markdown",
   "id": "e764add7",
   "metadata": {},
   "source": [
    "#### 3. Slicing des Listes\n",
    "\n",
    "Le slicing permet de créer des sous-listes en spécifiant des indices de début et de fin.\n",
    "\n",
    "```python\n",
    "ma_liste = [1, 2, 3, 4, 5]\n",
    "sous_liste = ma_liste[1:4]\n",
    "print(sous_liste)  # Affiche [2, 3, 4]\n",
    "```\n",
    "\n",
    "Vous pouvez également utiliser un pas (step) pour sauter des éléments.\n",
    "\n",
    "```python\n",
    "ma_liste = [1, 2, 3, 4, 5]\n",
    "sous_liste = ma_liste[0:5:2]\n",
    "print(sous_liste)  # Affiche [1, 3, 5]\n",
    "```"
   ]
  },
  {
   "cell_type": "markdown",
   "id": "9e6bb6a3",
   "metadata": {},
   "source": [
    "#### 4. Méthodes Utiles des Listes\n",
    "\n",
    "Python propose de nombreuses méthodes intégrées pour manipuler les listes.\n",
    "\n",
    "##### 4.1. `sort`\n",
    "\n",
    "Trie la liste en place.\n",
    "\n",
    "```python\n",
    "ma_liste = [3, 1, 4, 2, 5]\n",
    "ma_liste.sort()\n",
    "print(ma_liste)  # Affiche [1, 2, 3, 4, 5]\n",
    "```"
   ]
  },
  {
   "cell_type": "markdown",
   "id": "9e3a84f2",
   "metadata": {},
   "source": [
    "##### 4.2. `reverse`\n",
    "\n",
    "Inverse l'ordre des éléments de la liste.\n",
    "\n",
    "```python\n",
    "ma_liste = [1, 2, 3, 4, 5]\n",
    "ma_liste.reverse()\n",
    "print(ma_liste)  # Affiche [5, 4, 3, 2, 1]\n",
    "```"
   ]
  },
  {
   "cell_type": "markdown",
   "id": "ade4ab6e",
   "metadata": {},
   "source": [
    "##### 4.3. `index`\n",
    "\n",
    "Retourne l'index de la première occurrence d'un élément.\n",
    "\n",
    "```python\n",
    "ma_liste = [1, 2, 3, 4, 5]\n",
    "index = ma_liste.index(3)\n",
    "print(index)  # Affiche 2\n",
    "```"
   ]
  },
  {
   "cell_type": "markdown",
   "id": "4a231aa4",
   "metadata": {},
   "source": [
    "##### 4.4. `count`\n",
    "\n",
    "Compte le nombre de fois qu'un élément apparaît dans la liste.\n",
    "\n",
    "```python\n",
    "ma_liste = [1, 2, 2, 3, 4, 2]\n",
    "compte = ma_liste.count(2)\n",
    "print(compte)  # Affiche 3\n",
    "```"
   ]
  },
  {
   "cell_type": "markdown",
   "id": "1477f461",
   "metadata": {},
   "source": [
    "##### 4.5. `copy`\n",
    "\n",
    "Retourne une copie superficielle de la liste.\n",
    "\n",
    "```python\n",
    "ma_liste = [1, 2, 3]\n",
    "copie_liste = ma_liste.copy()\n",
    "print(copie_liste)  # Affiche [1, 2, 3]\n",
    "```"
   ]
  },
  {
   "cell_type": "markdown",
   "id": "df1761ae",
   "metadata": {},
   "source": [
    "#### Exercice Pratique"
   ]
  },
  {
   "cell_type": "markdown",
   "id": "3f2395c6",
   "metadata": {},
   "source": [
    "**Exercice 1 :** Gestion des coordonnées géographiques\n",
    "Vous allez écrire un programme qui gère des coordonnées géographiques. Le programme doit :\n",
    "\n",
    "- Créer une liste de tuples représentant des coordonnées géographiques (latitude, longitude).\n",
    "- Calculer la distance entre deux points en utilisant la formule de distance Euclidienne.\n",
    "- Trouver le point le plus proche d'un point de référence donné."
   ]
  },
  {
   "cell_type": "code",
   "execution_count": 12,
   "id": "84cca0d3",
   "metadata": {},
   "outputs": [],
   "source": [
    "coordonne = [\n",
    "    (36, 48),\n",
    "    (97, 54),\n",
    "    (27, 65),\n",
    "    (36, 85)\n",
    "]"
   ]
  },
  {
   "cell_type": "code",
   "execution_count": 13,
   "id": "d2031007",
   "metadata": {},
   "outputs": [],
   "source": [
    "import math\n",
    "\n",
    "def distance_euclidienne(point1 : tuple, point2 : tuple):\n",
    "    return math.sqrt((point2[0] - point1[0])**2 + (point2[1] - point1[1])**2)\n",
    "    "
   ]
  },
  {
   "cell_type": "code",
   "execution_count": 15,
   "id": "19386108",
   "metadata": {},
   "outputs": [
    {
     "data": {
      "text/plain": [
       "19.235384061671343"
      ]
     },
     "execution_count": 15,
     "metadata": {},
     "output_type": "execute_result"
    }
   ],
   "source": [
    "distance_euclidienne(coordonne[0], coordonne[2])"
   ]
  },
  {
   "cell_type": "code",
   "execution_count": 18,
   "id": "035ca0e6",
   "metadata": {},
   "outputs": [],
   "source": [
    "def near(point: tuple, liste_coord):\n",
    "    distance = [] # permet de stocker la distance entre le point et les éléments de la liste\n",
    "    \n",
    "    for coord in liste_coord:\n",
    "        dist = distance_euclidienne(point, coord)\n",
    "        distance.append(dist)\n",
    "    \n",
    "    min_value = min(distance)\n",
    "    index = distance.index(min_value)\n",
    "    \n",
    "    return liste_coord[index]"
   ]
  },
  {
   "cell_type": "code",
   "execution_count": 21,
   "id": "ee006368",
   "metadata": {},
   "outputs": [
    {
     "data": {
      "text/plain": [
       "(36, 85)"
      ]
     },
     "execution_count": 21,
     "metadata": {},
     "output_type": "execute_result"
    }
   ],
   "source": [
    "near((27, 85), coordonne)"
   ]
  },
  {
   "cell_type": "code",
   "execution_count": null,
   "id": "8fc1a9ac",
   "metadata": {},
   "outputs": [],
   "source": []
  },
  {
   "cell_type": "markdown",
   "id": "99868683",
   "metadata": {},
   "source": [
    "\n",
    "\n",
    "**Exercice 2:** Écrire une fonction appelée `list_operations` qui prend une liste de nombres en entrée et effectue les opérations suivantes :\n",
    "1. Ajoute le nombre 10 à la fin de la liste.\n",
    "2. Insère le nombre 5 à la position 2.\n",
    "3. Supprime la première occurrence du nombre 3.\n",
    "4. Trie la liste.\n",
    "5. Inverse l'ordre des éléments de la liste.\n",
    "6. Retourne la liste modifiée."
   ]
  },
  {
   "cell_type": "markdown",
   "id": "6588c55c",
   "metadata": {},
   "source": [
    "**Exercice 3:** Vous êtes en charge de créer un programme qui gère les données des étudiants dans une classe. Chaque étudiant a un nom, un âge, et une liste de notes. Le programme doit permettre les opérations suivantes :\n",
    "\n",
    "1. Ajouter un nouvel étudiant.\n",
    "2. Afficher les informations de tous les étudiants.\n",
    "3. Calculer la moyenne des notes de chaque étudiant.\n",
    "4. Trouver l'étudiant avec la meilleure moyenne.\n",
    "5. Afficher les informations de tous les étudiants triés par leur moyenne.\n",
    "\n",
    "**Étapes à Suivre :**\n",
    "\n",
    "1. Créez une liste vide pour stocker les étudiants. Chaque étudiant sera représenté par un tuple contenant son nom, son âge, et une liste de notes.\n",
    "2. Implémentez une fonction `ajouter_etudiant` qui prend le nom, l'âge, et une liste de notes en paramètres et ajoute un nouvel étudiant à la liste.\n",
    "3. Implémentez une fonction `afficher_etudiants` qui affiche les informations de tous les étudiants.\n",
    "4. Implémentez une fonction `calculer_moyenne` qui prend une liste de notes et retourne la moyenne.\n",
    "5. Implémentez une fonction `meilleure_moyenne` qui trouve et retourne l'étudiant avec la meilleure moyenne.\n",
    "6. Implémentez une fonction `trier_etudiants_par_moyenne` qui affiche les informations de tous les étudiants triés par leur moyenne.\n",
    "\n"
   ]
  },
  {
   "cell_type": "markdown",
   "id": "4caa0301",
   "metadata": {},
   "source": [
    "**Exercice 4:** Vous allez développer un système de gestion d'une bibliothèque qui permet les opérations suivantes :\n",
    "\n",
    "1. Ajouter un livre à la bibliothèque.\n",
    "2. Supprimer un livre de la bibliothèque.\n",
    "3. Rechercher des livres par titre.\n",
    "4. Emprunter un livre.\n",
    "5. Retourner un livre.\n",
    "6. Afficher tous les livres disponibles.\n",
    "7. Afficher tous les livres empruntés.\n",
    "\n",
    "Chaque livre sera représenté par un tuple contenant les informations suivantes : \n",
    "- Titre\n",
    "- Auteur\n",
    "- Année de publication\n",
    "- Identifiant unique\n",
    "- État (disponible ou emprunté)\n",
    "\n",
    "**Étapes à Suivre :**\n",
    "\n",
    "1. Créez une liste vide pour stocker les livres.\n",
    "2. Implémentez une fonction `ajouter_livre` qui prend le titre, l'auteur, l'année de publication, et l'identifiant unique et ajoute un livre à la bibliothèque.\n",
    "3. Implémentez une fonction `supprimer_livre` qui prend l'identifiant unique d'un livre et le supprime de la bibliothèque.\n",
    "4. Implémentez une fonction `rechercher_livre` qui prend un titre de livre et retourne tous les livres correspondants.\n",
    "5. Implémentez une fonction `emprunter_livre` qui prend l'identifiant unique d'un livre et change son état à \"emprunté\".\n",
    "6. Implémentez une fonction `retourner_livre` qui prend l'identifiant unique d'un livre et change son état à \"disponible\".\n",
    "7. Implémentez une fonction `afficher_livres_disponibles` qui affiche tous les livres disponibles.\n",
    "8. Implémentez une fonction `afficher_livres_empruntes` qui affiche tous les livres empruntés.\n",
    "\n"
   ]
  }
 ],
 "metadata": {
  "kernelspec": {
   "display_name": "Python 3 (ipykernel)",
   "language": "python",
   "name": "python3"
  },
  "language_info": {
   "codemirror_mode": {
    "name": "ipython",
    "version": 3
   },
   "file_extension": ".py",
   "mimetype": "text/x-python",
   "name": "python",
   "nbconvert_exporter": "python",
   "pygments_lexer": "ipython3",
   "version": "3.10.9"
  }
 },
 "nbformat": 4,
 "nbformat_minor": 5
}
