{
 "cells": [
  {
   "cell_type": "markdown",
   "id": "2bc8c4cc",
   "metadata": {},
   "source": [
    "### Cours sur les Ensembles (Sets) en Python\n",
    "\n",
    "#### Introduction aux Ensembles\n",
    "\n",
    "En Python, un ensemble (set) est une collection non ordonnée et sans doublons d'éléments. Les ensembles sont utilisés pour stocker des éléments uniques et permettent des opérations mathématiques telles que l'union, l'intersection, la différence, et la différence symétrique.\n",
    "\n",
    "#### Visualisation d'un ensemble\n",
    "<img src=\"image/set.png\" alt=\"Exemple d'ensemble\"  />\n",
    "\n",
    "#### Création d'un Ensemble\n",
    "\n",
    "Il existe deux façons principales de créer un ensemble en Python :\n",
    "\n",
    "1. Utiliser des accolades `{}` :\n",
    "\n",
    "```python\n",
    "# Création d'un ensemble avec des accolades\n",
    "mon_ensemble = {1, 2, 3, 4, 5}\n",
    "print(mon_ensemble)  # Output: {1, 2, 3, 4, 5}\n",
    "```\n",
    "\n",
    "2. Utiliser la fonction `set()` :\n",
    "\n",
    "```python\n",
    "# Création d'un ensemble avec la fonction set()\n",
    "mon_ensemble = set([1, 2, 3, 4, 5])\n",
    "print(mon_ensemble)  # Output: {1, 2, 3, 4, 5}\n",
    "```\n",
    "\n",
    "> Notez que les éléments d'un ensemble doivent être immuables. Vous ne pouvez pas avoir des listes ou d'autres ensembles comme éléments d'un ensemble."
   ]
  },
  {
   "cell_type": "code",
   "execution_count": 4,
   "id": "dfee2e10",
   "metadata": {},
   "outputs": [
    {
     "data": {
      "text/plain": [
       "set"
      ]
     },
     "execution_count": 4,
     "metadata": {},
     "output_type": "execute_result"
    }
   ],
   "source": [
    "mon_ensemble = {\"Thriller\", \"Back in Black\", \"AC/CD\", \"AC/CD\"}\n",
    "type(mon_ensemble)"
   ]
  },
  {
   "cell_type": "code",
   "execution_count": 5,
   "id": "d56dbad3",
   "metadata": {},
   "outputs": [
    {
     "data": {
      "text/plain": [
       "{'AC/CD', 'Back in Black', 'Thriller'}"
      ]
     },
     "execution_count": 5,
     "metadata": {},
     "output_type": "execute_result"
    }
   ],
   "source": [
    "mon_ensemble"
   ]
  },
  {
   "cell_type": "code",
   "execution_count": 6,
   "id": "1eab2fdb",
   "metadata": {},
   "outputs": [
    {
     "name": "stdout",
     "output_type": "stream",
     "text": [
      "liste de notes : [14, 15, 18, 10, 17, 14]\n",
      "ensemble de notes : {10, 14, 15, 17, 18}\n"
     ]
    }
   ],
   "source": [
    "liste_de_notes = [14, 15, 18, 10, 17, 14]\n",
    "\n",
    "ensemble_notes = set(liste_de_notes)\n",
    "\n",
    "print(f\"liste de notes : {liste_de_notes}\")\n",
    "print(f\"ensemble de notes : {ensemble_notes}\")"
   ]
  },
  {
   "cell_type": "markdown",
   "id": "27ab55ea",
   "metadata": {},
   "source": [
    "#### Opérations de Base sur les Ensembles\n",
    "\n",
    "##### Ajouter des Éléments\n",
    "\n",
    "Pour ajouter un élément à un ensemble, vous pouvez utiliser la méthode `add()` :\n",
    "\n",
    "```python\n",
    "mon_ensemble = {1, 2, 3}\n",
    "mon_ensemble.add(4)\n",
    "print(mon_ensemble)  # Output: {1, 2, 3, 4}\n",
    "```"
   ]
  },
  {
   "cell_type": "code",
   "execution_count": 7,
   "id": "acd34576",
   "metadata": {},
   "outputs": [
    {
     "data": {
      "text/plain": [
       "{'AC/CD', 'Back in Black', 'Burkina', 'Thriller'}"
      ]
     },
     "execution_count": 7,
     "metadata": {},
     "output_type": "execute_result"
    }
   ],
   "source": [
    "mon_ensemble.add(\"Burkina\")\n",
    "mon_ensemble"
   ]
  },
  {
   "cell_type": "markdown",
   "id": "81453dac",
   "metadata": {},
   "source": [
    "##### Supprimer des Éléments\n",
    "\n",
    "Vous pouvez supprimer un élément d'un ensemble en utilisant `remove()` ou `discard()` :\n",
    "\n",
    "```python\n",
    "mon_ensemble.remove(2)  # Si l'élément n'existe pas, une erreur sera levée\n",
    "mon_ensemble.discard(3)  # Si l'élément n'existe pas, aucune erreur ne sera levée\n",
    "print(mon_ensemble)  # Output: {1, 4}\n",
    "```"
   ]
  },
  {
   "cell_type": "code",
   "execution_count": 8,
   "id": "56dfc0f5",
   "metadata": {},
   "outputs": [
    {
     "data": {
      "text/plain": [
       "{'Back in Black', 'Burkina', 'Thriller'}"
      ]
     },
     "execution_count": 8,
     "metadata": {},
     "output_type": "execute_result"
    }
   ],
   "source": [
    "mon_ensemble.remove(\"AC/CD\")\n",
    "mon_ensemble"
   ]
  },
  {
   "cell_type": "code",
   "execution_count": 9,
   "id": "738db3d1",
   "metadata": {},
   "outputs": [
    {
     "ename": "KeyError",
     "evalue": "'Floby'",
     "output_type": "error",
     "traceback": [
      "\u001b[1;31m---------------------------------------------------------------------------\u001b[0m",
      "\u001b[1;31mKeyError\u001b[0m                                  Traceback (most recent call last)",
      "Cell \u001b[1;32mIn[9], line 1\u001b[0m\n\u001b[1;32m----> 1\u001b[0m \u001b[43mmon_ensemble\u001b[49m\u001b[38;5;241;43m.\u001b[39;49m\u001b[43mremove\u001b[49m\u001b[43m(\u001b[49m\u001b[38;5;124;43m\"\u001b[39;49m\u001b[38;5;124;43mFloby\u001b[39;49m\u001b[38;5;124;43m\"\u001b[39;49m\u001b[43m)\u001b[49m\n",
      "\u001b[1;31mKeyError\u001b[0m: 'Floby'"
     ]
    }
   ],
   "source": [
    "mon_ensemble.remove(\"Floby\")"
   ]
  },
  {
   "cell_type": "code",
   "execution_count": 10,
   "id": "d86b1931",
   "metadata": {},
   "outputs": [],
   "source": [
    "mon_ensemble.discard(\"Floby\")"
   ]
  },
  {
   "cell_type": "code",
   "execution_count": null,
   "id": "562d8ab7",
   "metadata": {},
   "outputs": [],
   "source": [
    "##### Vérifier la Présence d'un Élément\n",
    "\n",
    "Pour vérifier si un élément est présent dans un ensemble, vous pouvez utiliser l'opérateur `in` :\n",
    "\n",
    "```python\n",
    "print(1 in mon_ensemble)  # Output: True\n",
    "print(2 in mon_ensemble)  # Output: False\n",
    "```"
   ]
  },
  {
   "cell_type": "code",
   "execution_count": 12,
   "id": "e94b6e85",
   "metadata": {},
   "outputs": [
    {
     "name": "stdout",
     "output_type": "stream",
     "text": [
      "False\n"
     ]
    }
   ],
   "source": [
    "print(\"Burkin\" in mon_ensemble)"
   ]
  },
  {
   "cell_type": "markdown",
   "id": "f4b75140",
   "metadata": {},
   "source": [
    "#### Opérations Avancées sur les Ensembles\n",
    "\n",
    "##### Union\n",
    "\n",
    "<img src=\"image/set_union.png\" alt=\"Exemple d'union d'ensemble\"  />\n",
    "\n",
    "\n",
    "L'union de deux ensembles est un ensemble contenant tous les éléments des deux ensembles. Vous pouvez utiliser l'opérateur `|` ou la méthode `union()` :\n",
    "\n",
    "```python\n",
    "ensemble_a = {1, 2, 3}\n",
    "ensemble_b = {3, 4, 5}\n",
    "union = ensemble_a | ensemble_b\n",
    "print(union)  # Output: {1, 2, 3, 4, 5}\n",
    "\n",
    "union = ensemble_a.union(ensemble_b)\n",
    "print(union)  # Output: {1, 2, 3, 4, 5}\n",
    "```"
   ]
  },
  {
   "cell_type": "markdown",
   "id": "46674981",
   "metadata": {},
   "source": [
    "##### Intersection\n",
    "\n",
    "<img src=\"image/set_intersection.png\" alt=\"Exemple d'intersection d'ensemble\"  />\n",
    "\n",
    "L'intersection de deux ensembles est un ensemble contenant uniquement les éléments présents dans les deux ensembles. Vous pouvez utiliser l'opérateur `&` ou la méthode `intersection()` :\n",
    "\n",
    "```python\n",
    "intersection = ensemble_a & ensemble_b\n",
    "print(intersection)  # Output: {3}\n",
    "\n",
    "intersection = ensemble_a.intersection(ensemble_b)\n",
    "print(intersection)  # Output: {3}\n",
    "```"
   ]
  },
  {
   "cell_type": "markdown",
   "id": "5cc07fbb",
   "metadata": {},
   "source": [
    "##### Différence\n",
    "\n",
    "<img src=\"image/set_difference.png\" alt=\"Exemple de différence d'ensemble\"  />\n",
    "La différence de deux ensembles est un ensemble contenant les éléments du premier ensemble qui ne sont pas dans le second. Vous pouvez utiliser l'opérateur `-` ou la méthode `difference()` :\n",
    "\n",
    "```python\n",
    "difference = ensemble_a - ensemble_b\n",
    "print(difference)  # Output: {1, 2}\n",
    "\n",
    "difference = ensemble_a.difference(ensemble_b)\n",
    "print(difference)  # Output: {1, 2}\n",
    "```"
   ]
  },
  {
   "cell_type": "markdown",
   "id": "99977e24",
   "metadata": {},
   "source": [
    "##### Différence Symétrique\n",
    "\n",
    "La différence symétrique de deux ensembles est un ensemble contenant les éléments qui sont dans l'un ou l'autre des ensembles, mais pas dans les deux. Vous pouvez utiliser l'opérateur `^` ou la méthode `symmetric_difference()` :\n",
    "\n",
    "```python\n",
    "difference_symetrique = ensemble_a ^ ensemble_b\n",
    "print(difference_symetrique)  # Output: {1, 2, 4, 5}\n",
    "\n",
    "difference_symetrique = ensemble_a.symmetric_difference(ensemble_b)\n",
    "print(difference_symetrique)  # Output: {1, 2, 4, 5}\n",
    "```"
   ]
  },
  {
   "cell_type": "markdown",
   "id": "598a88db",
   "metadata": {},
   "source": [
    "#### Fonctions Utiles pour les Ensembles\n",
    "\n",
    "- `len(set)`: Retourne le nombre d'éléments dans l'ensemble.\n",
    "- `set.clear()`: Supprime tous les éléments de l'ensemble.\n",
    "- `set.copy()`: Retourne une copie de l'ensemble.\n",
    "- `set.issubset(other_set)`: Vérifie si l'ensemble est un sous-ensemble d'un autre ensemble.\n",
    "- `set.issuperset(other_set)`: Vérifie si l'ensemble est un sur-ensemble d'un autre ensemble."
   ]
  },
  {
   "cell_type": "markdown",
   "id": "833b524f",
   "metadata": {},
   "source": [
    "#### Exemples d'Utilisation des Ensembles\n",
    "\n",
    "##### Exemple 1 : Filtrage des Duplicatas\n",
    "\n",
    "```python\n",
    "liste_avec_duplicatas = [1, 2, 2, 3, 4, 4, 5]\n",
    "ensemble_sans_duplicatas = set(liste_avec_duplicatas)\n",
    "print(ensemble_sans_duplicatas)  # Output: {1, 2, 3, 4, 5}\n",
    "```"
   ]
  },
  {
   "cell_type": "markdown",
   "id": "5ddaed29",
   "metadata": {},
   "source": [
    "##### Exemple 2 : Utilisation des Ensembles pour Trouver des Éléments Communs\n",
    "\n",
    "```python\n",
    "liste_a = [1, 2, 3, 4]\n",
    "liste_b = [3, 4, 5, 6]\n",
    "ensemble_a = set(liste_a)\n",
    "ensemble_b = set(liste_b)\n",
    "communs = ensemble_a & ensemble_b\n",
    "print(communs)  # Output: {3, 4}\n",
    "```"
   ]
  },
  {
   "cell_type": "markdown",
   "id": "0014844e",
   "metadata": {},
   "source": [
    "### Exercice Pratique sur les Ensembles\n",
    "\n",
    "**Exercice :** Vous êtes chargé de créer un programme qui gère des collections de livres dans deux bibliothèques différentes. Chaque bibliothèque est représentée par un ensemble de titres de livres.\n",
    "\n",
    "1. Créez deux ensembles représentant les collections de livres des deux bibliothèques.\n",
    "2. Trouvez et affichez les livres disponibles dans les deux bibliothèques (intersection).\n",
    "3. Trouvez et affichez les livres disponibles uniquement dans la première bibliothèque (différence).\n",
    "4. Trouvez et affichez les livres disponibles dans l'une ou l'autre des bibliothèques, mais pas dans les deux (différence symétrique).\n",
    "5. Ajoutez un nouveau livre à l'une des bibliothèques et affichez la collection mise à jour.\n"
   ]
  },
  {
   "cell_type": "code",
   "execution_count": 13,
   "id": "f0640869",
   "metadata": {},
   "outputs": [],
   "source": [
    "ensemble_livre1 = {\"chevre de ma mère\", \"candid\", \"voltaire\"}\n",
    "ensemble_livre2 = {\"le soleil des indépendances\", \"L'enfant noir\", \"chevre de ma mère\"}"
   ]
  },
  {
   "cell_type": "code",
   "execution_count": 14,
   "id": "3a288ede",
   "metadata": {},
   "outputs": [
    {
     "data": {
      "text/plain": [
       "{'chevre de ma mère'}"
      ]
     },
     "execution_count": 14,
     "metadata": {},
     "output_type": "execute_result"
    }
   ],
   "source": [
    "intersection = ensemble_livre1 & ensemble_livre2\n",
    "intersection"
   ]
  },
  {
   "cell_type": "code",
   "execution_count": 15,
   "id": "f2ec6426",
   "metadata": {},
   "outputs": [
    {
     "data": {
      "text/plain": [
       "{'candid', 'voltaire'}"
      ]
     },
     "execution_count": 15,
     "metadata": {},
     "output_type": "execute_result"
    }
   ],
   "source": [
    "difference = ensemble_livre1 - ensemble_livre2\n",
    "difference"
   ]
  },
  {
   "cell_type": "markdown",
   "id": "06f2af9c",
   "metadata": {},
   "source": [
    "### Cours sur les Dictionnaires en Python\n",
    "\n",
    "#### Introduction aux Dictionnaires\n",
    "\n",
    "En Python, un dictionnaire est une structure de données mutable et associative qui permet de stocker des paires clé-valeur. Chaque clé est unique et associée à une valeur spécifique. Les dictionnaires sont très flexibles et peuvent contenir différents types de données comme des entiers, des chaînes de caractères, des listes, voire même d'autres dictionnaires.\n",
    "\n",
    "<img src=\"image/dict.png\" alt=\"Comparaison entre une liste et un dictionnaire\"  />"
   ]
  },
  {
   "cell_type": "markdown",
   "id": "4fc3de11",
   "metadata": {},
   "source": [
    "#### Création d'un Dictionnaire\n",
    "\n",
    "Pour créer un dictionnaire en Python, vous utilisez des accolades `{}` et séparez chaque paire clé-valeur par une virgule. La syntaxe est la suivante :\n",
    "\n",
    "```python\n",
    "# Syntaxe de base pour créer un dictionnaire vide\n",
    "mon_dict = {}\n",
    "# Dictionnaire avec quelques paires clé-valeur\n",
    "mon_dict = {\"clé1\": valeur1, \"clé2\": valeur2, \"clé3\": valeur3}\n",
    "```\n",
    "\n",
    "Exemple :\n",
    "\n",
    "```python\n",
    "# Création d'un dictionnaire représentant un étudiant\n",
    "etudiant = {\n",
    "    \"nom\": \"Alice\",\n",
    "    \"age\": 20,\n",
    "    \"cours\": [\"Mathématiques\", \"Physique\"],\n",
    "    \"notes\": {\"Mathématiques\": 85, \"Physique\": 90}\n",
    "}\n",
    "```\n",
    "\n",
    "Dans cet exemple, `etudiant` est un dictionnaire avec quatre paires clé-valeur : `\"nom\"`, `\"age\"`, `\"cours\"` et `\"notes\"`."
   ]
  },
  {
   "cell_type": "code",
   "execution_count": 19,
   "id": "c3baa8bb",
   "metadata": {},
   "outputs": [],
   "source": [
    "etudiant = {\n",
    "    \"nom\": \"Sondo\",\n",
    "    \"age\": 21,\n",
    "    \"cours\": [\"Python\", \"Machine learing\"],\n",
    "    \"notes\": {\"Mathématiques\": 15, \"Physique\": 17}\n",
    "}"
   ]
  },
  {
   "cell_type": "markdown",
   "id": "8899fa12",
   "metadata": {},
   "source": [
    "#### Accéder aux Éléments d'un Dictionnaire\n",
    "\n",
    "Pour accéder aux valeurs d'un dictionnaire, utilisez la clé correspondante entre crochets `[ ]` :\n",
    "\n",
    "```python\n",
    "print(etudiant[\"nom\"])  # Output: Alice\n",
    "print(etudiant[\"cours\"])  # Output: ['Mathématiques', 'Physique']\n",
    "print(etudiant[\"notes\"][\"Mathématiques\"])  # Output: 85\n",
    "```\n",
    "\n",
    "Si la clé spécifiée n'existe pas dans le dictionnaire, une erreur `KeyError` sera levée. Pour éviter cette erreur, vous pouvez utiliser la méthode `get()` qui retourne `None` si la clé n'existe pas :\n",
    "\n",
    "```python\n",
    "print(etudiant.get(\"age\"))  # Output: 20\n",
    "print(etudiant.get(\"ville\"))  # Output: None\n",
    "```\n"
   ]
  },
  {
   "cell_type": "code",
   "execution_count": 20,
   "id": "4b52ed79",
   "metadata": {},
   "outputs": [
    {
     "data": {
      "text/plain": [
       "'Sondo'"
      ]
     },
     "execution_count": 20,
     "metadata": {},
     "output_type": "execute_result"
    }
   ],
   "source": [
    "# récupérer le nom de l'étudiant\n",
    "etudiant[\"nom\"]"
   ]
  },
  {
   "cell_type": "code",
   "execution_count": 21,
   "id": "3dce117d",
   "metadata": {},
   "outputs": [
    {
     "data": {
      "text/plain": [
       "17"
      ]
     },
     "execution_count": 21,
     "metadata": {},
     "output_type": "execute_result"
    }
   ],
   "source": [
    "etudiant[\"notes\"][\"Physique\"]"
   ]
  },
  {
   "cell_type": "code",
   "execution_count": 22,
   "id": "31544840",
   "metadata": {},
   "outputs": [
    {
     "data": {
      "text/plain": [
       "'Sondo'"
      ]
     },
     "execution_count": 22,
     "metadata": {},
     "output_type": "execute_result"
    }
   ],
   "source": [
    "etudiant.get(\"nom\")"
   ]
  },
  {
   "cell_type": "markdown",
   "id": "a3099bf5",
   "metadata": {},
   "source": [
    "#### Modification et Ajout d'Éléments\n",
    "\n",
    "Pour modifier une valeur dans un dictionnaire, accédez à l'élément par sa clé et affectez-lui une nouvelle valeur :\n",
    "\n",
    "```python\n",
    "etudiant[\"age\"] = 21\n",
    "print(etudiant[\"age\"])  # Output: 21\n",
    "```\n",
    "\n",
    "Pour ajouter une nouvelle paire clé-valeur à un dictionnaire, spécifiez simplement une nouvelle clé avec sa valeur :\n",
    "\n",
    "```python\n",
    "etudiant[\"ville\"] = \"Paris\"\n",
    "print(etudiant[\"ville\"])  # Output: Paris\n",
    "```"
   ]
  },
  {
   "cell_type": "code",
   "execution_count": 23,
   "id": "cf449e16",
   "metadata": {},
   "outputs": [],
   "source": [
    "etudiant[\"nom\"] = \"Alexis\""
   ]
  },
  {
   "cell_type": "code",
   "execution_count": 24,
   "id": "b0951432",
   "metadata": {},
   "outputs": [
    {
     "data": {
      "text/plain": [
       "'Alexis'"
      ]
     },
     "execution_count": 24,
     "metadata": {},
     "output_type": "execute_result"
    }
   ],
   "source": [
    "etudiant[\"nom\"]"
   ]
  },
  {
   "cell_type": "code",
   "execution_count": 25,
   "id": "13e8b9df",
   "metadata": {},
   "outputs": [],
   "source": [
    "etudiant[\"prenom\"] = \"rigag\""
   ]
  },
  {
   "cell_type": "code",
   "execution_count": 26,
   "id": "850e9b1f",
   "metadata": {},
   "outputs": [
    {
     "data": {
      "text/plain": [
       "'rigag'"
      ]
     },
     "execution_count": 26,
     "metadata": {},
     "output_type": "execute_result"
    }
   ],
   "source": [
    "etudiant[\"prenom\"]"
   ]
  },
  {
   "cell_type": "markdown",
   "id": "3801b1ea",
   "metadata": {},
   "source": [
    "#### Suppression d'Éléments\n",
    "\n",
    "Pour supprimer une paire clé-valeur d'un dictionnaire, utilisez l'instruction `del` ou la méthode `pop()` :\n",
    "\n",
    "```python\n",
    "del etudiant[\"notes\"]\n",
    "print(etudiant)  # Output: {'nom': 'Alice', 'age': 21, 'cours': ['Mathématiques', 'Physique'], 'ville': 'Paris'}\n",
    "\n",
    "valeur_supprimee = etudiant.pop(\"age\")\n",
    "print(valeur_supprimee)  # Output: 21\n",
    "print(etudiant)  # Output: {'nom': 'Alice', 'cours': ['Mathématiques', 'Physique'], 'ville': 'Paris'}\n",
    "```"
   ]
  },
  {
   "cell_type": "markdown",
   "id": "7d0a4153",
   "metadata": {},
   "source": [
    "#### Parcourir un Dictionnaire\n",
    "\n",
    "Vous pouvez parcourir un dictionnaire en utilisant une boucle `for` pour accéder à ses clés, ses valeurs ou les deux simultanément :\n",
    "\n",
    "```python\n",
    "for cle in etudiant:\n",
    "    print(cle)  # Output: nom, cours, ville\n",
    "\n",
    "for cle, valeur in etudiant.items():\n",
    "    print(f\"{cle}: {valeur}\")\n",
    "    \"\"\"\n",
    "    Output:\n",
    "    nom: Alice\n",
    "    cours: ['Mathématiques', 'Physique']\n",
    "    ville: Paris\n",
    "    \"\"\"\n",
    "```\n"
   ]
  },
  {
   "cell_type": "code",
   "execution_count": 27,
   "id": "21898869",
   "metadata": {},
   "outputs": [
    {
     "name": "stdout",
     "output_type": "stream",
     "text": [
      "nom\n",
      "age\n",
      "cours\n",
      "notes\n",
      "prenom\n"
     ]
    }
   ],
   "source": [
    "for key in etudiant:\n",
    "    print(key)"
   ]
  },
  {
   "cell_type": "code",
   "execution_count": 29,
   "id": "5ad9c3d8",
   "metadata": {},
   "outputs": [
    {
     "name": "stdout",
     "output_type": "stream",
     "text": [
      "nom : = Alexis\n",
      "age : = 21\n",
      "cours : = ['Python', 'Machine learing']\n",
      "notes : = {'Mathématiques': 15, 'Physique': 17}\n",
      "prenom : = rigag\n"
     ]
    }
   ],
   "source": [
    "for key, value in etudiant.items():\n",
    "    print(f\"{key} : = {value}\")"
   ]
  },
  {
   "cell_type": "markdown",
   "id": "4da44f01",
   "metadata": {},
   "source": [
    "#### Méthodes Utiles pour les Dictionnaires\n",
    "\n",
    "- `len(dict)`: Retourne le nombre de paires clé-valeur dans le dictionnaire.\n",
    "- `dict.keys()`: Retourne une vue des clés du dictionnaire.\n",
    "- `dict.values()`: Retourne une vue des valeurs du dictionnaire.\n",
    "- `dict.items()`: Retourne une vue des paires clé-valeur du dictionnaire.\n"
   ]
  },
  {
   "cell_type": "markdown",
   "id": "83810d7f",
   "metadata": {},
   "source": [
    "#### Exemples d'Utilisation des Dictionnaires\n",
    "\n",
    "##### Exemple 1 : Gestion des Contacts\n",
    "\n",
    "```python\n",
    "contacts = {\n",
    "    \"Alice\": \"alice@email.com\",\n",
    "    \"Bob\": \"bob@email.com\",\n",
    "    \"Charlie\": \"charlie@email.com\"\n",
    "}\n",
    "\n",
    "# Ajouter un nouveau contact\n",
    "contacts[\"David\"] = \"david@email.com\"\n",
    "\n",
    "# Supprimer un contact\n",
    "del contacts[\"Bob\"]\n",
    "\n",
    "# Afficher tous les contacts\n",
    "for nom, email in contacts.items():\n",
    "    print(f\"{nom}: {email}\")\n",
    "\n",
    "\"\"\"\n",
    "Output:\n",
    "Alice: alice@email.com\n",
    "Charlie: charlie@email.com\n",
    "David: david@email.com\n",
    "\"\"\"\n",
    "```"
   ]
  },
  {
   "cell_type": "markdown",
   "id": "c0df12c7",
   "metadata": {},
   "source": [
    "##### Exemple 2 : Gestion des Produits\n",
    "\n",
    "```python\n",
    "produit = {\n",
    "    \"nom\": \"Ordinateur portable\",\n",
    "    \"prix\": 1200.00,\n",
    "    \"stock\": 50,\n",
    "    \"codes_promo\": [\"SUMMER10\", \"BACKTOSCHOOL\"]\n",
    "}\n",
    "\n",
    "# Modifier le prix du produit\n",
    "produit[\"prix\"] = 1100.00\n",
    "\n",
    "# Ajouter un nouveau code promo\n",
    "produit[\"codes_promo\"].append(\"WINTER20\")\n",
    "\n",
    "# Afficher les détails du produit\n",
    "print(f\"Nom: {produit['nom']}\")\n",
    "print(f\"Prix: ${produit['prix']:.2f}\")\n",
    "print(f\"Stock: {produit['stock']} unités\")\n",
    "print(\"Codes promo:\", \", \".join(produit[\"codes_promo\"]))\n",
    "\n",
    "\"\"\"\n",
    "Output:\n",
    "Nom: Ordinateur portable\n",
    "Prix: $1100.00\n",
    "Stock: 50 unités\n",
    "Codes promo: SUMMER10, BACKTOSCHOOL, WINTER20\n",
    "\"\"\"\n",
    "```"
   ]
  },
  {
   "cell_type": "code",
   "execution_count": null,
   "id": "900db532",
   "metadata": {},
   "outputs": [],
   "source": []
  },
  {
   "cell_type": "code",
   "execution_count": null,
   "id": "f1b26c8a",
   "metadata": {},
   "outputs": [],
   "source": []
  },
  {
   "cell_type": "code",
   "execution_count": null,
   "id": "ce349910",
   "metadata": {},
   "outputs": [],
   "source": []
  },
  {
   "cell_type": "markdown",
   "id": "1b09052f",
   "metadata": {},
   "source": [
    "### Exercice Pratique sur les Dictionnaires\n",
    "\n",
    "**Exercice :** Vous êtes chargé de créer un programme qui gère les stocks de différents produits dans un entrepôt. Chaque produit est représenté par un dictionnaire avec les clés `\"nom\"`, `\"prix\"`, `\"stock\"`, et `\"code\"`. Voici les tâches à accomplir :\n",
    "\n",
    "1. Créez un dictionnaire pour représenter quatre produits différents avec leurs détails.\n",
    "2. Affichez les détails de chaque produit.\n",
    "3. Modifiez le stock d'un produit spécifique.\n",
    "4. Ajoutez un nouveau produit à l'entrepôt.\n",
    "5. Calculez la valeur totale du stock en multipliant le prix par le stock pour chaque produit et en ajoutant les résultats."
   ]
  },
  {
   "cell_type": "code",
   "execution_count": null,
   "id": "9cdc0c5c",
   "metadata": {},
   "outputs": [],
   "source": []
  },
  {
   "cell_type": "code",
   "execution_count": null,
   "id": "03ced04f",
   "metadata": {},
   "outputs": [],
   "source": []
  },
  {
   "cell_type": "markdown",
   "id": "86facf0b",
   "metadata": {},
   "source": [
    "### Exercices Avancés sur les Ensembles et les Dictionnaires en Python\n",
    "\n",
    "#### Exercice 1 : Gestion des Membres d'un Club\n",
    "\n",
    "Vous êtes responsable de la gestion des membres d'un club. Utilisez des ensembles et des dictionnaires pour accomplir les tâches suivantes :\n",
    "\n",
    "1. **Création des Données** :\n",
    "   - Créez un ensemble `membres_actuels` avec les noms des membres actuels du club.\n",
    "   - Créez un dictionnaire `membres_infos` où chaque clé est le nom d'un membre et la valeur est un autre dictionnaire contenant des informations supplémentaires comme l'âge et l'email.\n",
    "\n",
    "2. **Ajout de Nouveaux Membres** :\n",
    "   - Ajoutez deux nouveaux membres à l'ensemble `membres_actuels`.\n",
    "   - Ajoutez leurs informations au dictionnaire `membres_infos`.\n",
    "\n",
    "3. **Vérification de la Présence d'un Membre** :\n",
    "   - Demandez à l'utilisateur d'entrer un nom pour vérifier s'il est membre du club (en utilisant un message adapté).\n",
    "   - Affichez un message approprié en fonction de la présence ou de l'absence du membre dans l'ensemble.\n",
    "\n",
    "4. **Suppression d'un Membre** :\n",
    "   - Supprimez un membre existant de l'ensemble `membres_actuels` et du dictionnaire `membres_infos`.\n",
    "\n",
    "5. **Affichage de Tous les Membres** :\n",
    "   - Affichez tous les membres actuels avec leurs informations à partir du dictionnaire `membres_infos`."
   ]
  },
  {
   "cell_type": "markdown",
   "id": "e80562c5",
   "metadata": {},
   "source": [
    "### Exercice : Analyseur de Données d'Employés\n",
    "\n",
    "#### Description\n",
    "\n",
    "Vous allez créer un analyseur de données d'employés qui prend en entrée une liste de dictionnaires, chaque dictionnaire représentant un employé avec les clés `name`, `age`, et `salary`. Vous réaliserez plusieurs tâches :\n",
    "\n",
    "1. **Trouver l'employé avec le salaire le plus élevé**.\n",
    "2. **Calculer l'âge moyen des employés**.\n",
    "3. **Lister les employés dont le nom commence par une lettre spécifique**.\n",
    "4. **Augmenter le salaire des employés de plus de 10% si leur salaire est inférieur à une certaine valeur**.\n",
    "5. **Créer un résumé des données des employés**.\n",
    "\n",
    "#### Instructions\n",
    "\n",
    "1. **Trouver l'employé avec le salaire le plus élevé :**\n",
    "   - Écrire une fonction `highest_salary_employee(employees)` qui prend une liste de dictionnaires `employees` et retourne le dictionnaire représentant l'employé avec le salaire le plus élevé.\n",
    "\n",
    "2. **Calculer l'âge moyen des employés :**\n",
    "   - Écrire une fonction `average_age(employees)` qui prend une liste de dictionnaires `employees` et retourne l'âge moyen des employés.\n",
    "\n",
    "3. **Lister les employés dont le nom commence par une lettre spécifique :**\n",
    "   - Écrire une fonction `employees_by_letter(employees, letter)` qui prend une liste de dictionnaires `employees` et une lettre `letter`, et retourne une liste de dictionnaires représentant les employés dont le nom commence par cette lettre.\n",
    "\n",
    "4. **Augmenter le salaire des employés :**\n",
    "   - Écrire une fonction `increase_salary(employees, threshold, increase_percentage)` qui prend une liste de dictionnaires `employees`, un seuil `threshold` et un pourcentage d'augmentation `increase_percentage`. Cette fonction doit augmenter le salaire des employés dont le salaire est inférieur au seuil de `increase_percentage`.\n",
    "\n",
    "5. **Créer un résumé des données des employés :**\n",
    "   - Écrire une fonction `employee_summary(employees)` qui prend une liste de dictionnaires `employees` et retourne une chaîne de caractères résumant les données des employés (nombre total d'employés, âge moyen, salaire moyen).\n",
    "\n",
    "#### Exemple\n",
    "\n",
    "```python\n",
    "employees = [\n",
    "    {\"name\": \"Alice\", \"age\": 30, \"salary\": 50000},\n",
    "    {\"name\": \"Bob\", \"age\": 24, \"salary\": 45000},\n",
    "    {\"name\": \"Charlie\", \"age\": 35, \"salary\": 70000},\n",
    "    {\"name\": \"David\", \"age\": 28, \"salary\": 48000},\n",
    "    {\"name\": \"Eve\", \"age\": 40, \"salary\": 52000}\n",
    "]\n",
    "\n",
    "# Trouver l'employé avec le salaire le plus élevé\n",
    "print(highest_salary_employee(employees))  # {\"name\": \"Charlie\", \"age\": 35, \"salary\": 70000}\n",
    "\n",
    "# Calculer l'âge moyen des employés\n",
    "print(average_age(employees))  # 31.4\n",
    "\n",
    "# Lister les employés dont le nom commence par 'A'\n",
    "print(employees_by_letter(employees, 'A'))  # [{\"name\": \"Alice\", \"age\": 30, \"salary\": 50000}]\n",
    "\n",
    "# Augmenter le salaire des employés\n",
    "increase_salary(employees, 50000, 10)\n",
    "print(employees)\n",
    "# [\n",
    "#     {\"name\": \"Alice\", \"age\": 30, \"salary\": 50000},\n",
    "#     {\"name\": \"Bob\", \"age\": 24, \"salary\": 49500},\n",
    "#     {\"name\": \"Charlie\", \"age\": 35, \"salary\": 70000},\n",
    "#     {\"name\": \"David\", \"age\": 28, \"salary\": 52800},\n",
    "#     {\"name\": \"Eve\", \"age\": 40, \"salary\": 52000}\n",
    "# ]\n",
    "\n",
    "# Créer un résumé des données des employés\n",
    "print(employee_summary(employees))\n",
    "# \"Nombre total d'employés : 5, Âge moyen : 31.4, Salaire moyen : 54860.0\"\n",
    "```"
   ]
  },
  {
   "cell_type": "code",
   "execution_count": null,
   "id": "94673fca",
   "metadata": {},
   "outputs": [],
   "source": []
  }
 ],
 "metadata": {
  "kernelspec": {
   "display_name": "Python 3 (ipykernel)",
   "language": "python",
   "name": "python3"
  },
  "language_info": {
   "codemirror_mode": {
    "name": "ipython",
    "version": 3
   },
   "file_extension": ".py",
   "mimetype": "text/x-python",
   "name": "python",
   "nbconvert_exporter": "python",
   "pygments_lexer": "ipython3",
   "version": "3.10.9"
  }
 },
 "nbformat": 4,
 "nbformat_minor": 5
}
