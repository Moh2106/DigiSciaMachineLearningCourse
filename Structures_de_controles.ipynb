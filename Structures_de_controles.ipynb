{
 "cells": [
  {
   "cell_type": "markdown",
   "id": "ddbe6a27",
   "metadata": {},
   "source": [
    "## Les structures de controles\n",
    "\n",
    "Les structures de contrôle sont des éléments fondamentaux de la programmation qui permettent de gérer le flux d'exécution du programme. En Python, les principales structures de contrôle sont les instructions conditionnelles, les boucles et les structures de contrôle de flux comme les instructions break, continue et pass.\n",
    "\n",
    "- ### 1. Les Instructions Conditionnelles\n",
    "Les instructions conditionnelles permettent d'exécuter différentes parties du code en fonction de certaines conditions.\n",
    "\n",
    "    - #### 1.1. if Statement : \n",
    "             L'instruction if permet d'exécuter un bloc de code si une condition est vraie."
   ]
  },
  {
   "cell_type": "code",
   "execution_count": 1,
   "id": "05017322",
   "metadata": {},
   "outputs": [
    {
     "name": "stdout",
     "output_type": "stream",
     "text": [
      "x est plus grand que 5\n"
     ]
    }
   ],
   "source": [
    "x = 10\n",
    "if x > 5:\n",
    "    print(\"x est plus grand que 5\")"
   ]
  },
  {
   "cell_type": "code",
   "execution_count": 2,
   "id": "4cd9eb85",
   "metadata": {},
   "outputs": [
    {
     "name": "stdout",
     "output_type": "stream",
     "text": [
      "C'est bien python\n"
     ]
    }
   ],
   "source": [
    "name = \"Python\"\n",
    "\n",
    "if name == 'Python':\n",
    "    print(\"C'est bien python\")"
   ]
  },
  {
   "cell_type": "markdown",
   "id": "889e28c7",
   "metadata": {},
   "source": [
    "- #### 1.2. if-else Statement :\n",
    "L'instruction if-else permet d'exécuter un bloc de code si une condition est vraie, et un autre bloc de code si la condition est fausse."
   ]
  },
  {
   "cell_type": "code",
   "execution_count": 3,
   "id": "6274e956",
   "metadata": {},
   "outputs": [
    {
     "name": "stdout",
     "output_type": "stream",
     "text": [
      "x est plus grand que 5\n"
     ]
    }
   ],
   "source": [
    "x = 7\n",
    "if x > 5:\n",
    "    print(\"x est plus grand que 5\")\n",
    "else:\n",
    "    print(\"x est moins ou égal à 5\")\n"
   ]
  },
  {
   "cell_type": "markdown",
   "id": "4c8de3c9",
   "metadata": {},
   "source": [
    "- #### 1.3. if-elif-else Statement : \n",
    "L'instruction if-elif-else permet de tester plusieurs conditions."
   ]
  },
  {
   "cell_type": "code",
   "execution_count": 5,
   "id": "8ccb3da1",
   "metadata": {},
   "outputs": [
    {
     "name": "stdout",
     "output_type": "stream",
     "text": [
      "x est plus grand que 10\n"
     ]
    }
   ],
   "source": [
    "x = 12\n",
    "\n",
    "if x > 10:\n",
    "    print(\"x est plus grand que 10\")\n",
    "elif x > 5:\n",
    "    print(\"x est entre 6 et 10\")\n",
    "else:\n",
    "    print(\"x est moins ou égal à 5\")"
   ]
  },
  {
   "cell_type": "markdown",
   "id": "10178580",
   "metadata": {},
   "source": [
    "- ### 2. Les Boucles\n",
    "Les boucles permettent de répéter l'exécution d'un bloc de code plusieurs fois.\n",
    "\n",
    "    - #### 2.1. while Loop\n",
    "        La boucle while répète l'exécution d'un bloc de code tant qu'une condition est vraie."
   ]
  },
  {
   "cell_type": "code",
   "execution_count": 5,
   "id": "773500fa",
   "metadata": {},
   "outputs": [
    {
     "name": "stdout",
     "output_type": "stream",
     "text": [
      "1\n",
      "2\n",
      "3\n",
      "4\n",
      "5\n"
     ]
    }
   ],
   "source": [
    "i = 1\n",
    "\n",
    "while i <= 5:\n",
    "    print(i)\n",
    "    i += 1"
   ]
  },
  {
   "cell_type": "code",
   "execution_count": null,
   "id": "ffd8adab",
   "metadata": {},
   "outputs": [],
   "source": []
  },
  {
   "cell_type": "markdown",
   "id": "82974724",
   "metadata": {},
   "source": [
    "- #### 2.2. for Loop\n",
    "La boucle for itère sur une séquence (comme une liste, un tuple ou une chaîne)."
   ]
  },
  {
   "cell_type": "code",
   "execution_count": null,
   "id": "91f7ff26",
   "metadata": {},
   "outputs": [],
   "source": [
    "for(int i=1; i<6; i++) ### Langage C"
   ]
  },
  {
   "cell_type": "code",
   "execution_count": 6,
   "id": "6fcbb0f1",
   "metadata": {},
   "outputs": [
    {
     "name": "stdout",
     "output_type": "stream",
     "text": [
      "1\n",
      "2\n",
      "3\n",
      "4\n",
      "5\n",
      "6\n",
      "7\n",
      "8\n"
     ]
    }
   ],
   "source": [
    "for i in range(1, 9):\n",
    "    print(i)"
   ]
  },
  {
   "cell_type": "markdown",
   "id": "fb78b13e",
   "metadata": {},
   "source": [
    "Vous pouvez également itérer sur les éléments d'une liste, d'un tuple ou d'un dictionnaire :"
   ]
  },
  {
   "cell_type": "code",
   "execution_count": 8,
   "id": "ee4f1d52",
   "metadata": {},
   "outputs": [
    {
     "name": "stdout",
     "output_type": "stream",
     "text": [
      "pomme\n",
      "banane\n",
      "cerise\n"
     ]
    }
   ],
   "source": [
    "fruits = [\"pomme\", \"banane\", \"cerise\"]\n",
    "for fruit in fruits:\n",
    "    print(fruit)"
   ]
  },
  {
   "cell_type": "markdown",
   "id": "773b2c28",
   "metadata": {},
   "source": [
    "- ### 3. Structures de Contrôle de Flux\n",
    "    - #### 3.1. break\n",
    "        L'instruction break permet de sortir d'une boucle immédiatement."
   ]
  },
  {
   "cell_type": "code",
   "execution_count": 9,
   "id": "f26da73c",
   "metadata": {},
   "outputs": [
    {
     "name": "stdout",
     "output_type": "stream",
     "text": [
      "1\n",
      "2\n",
      "3\n",
      "4\n"
     ]
    }
   ],
   "source": [
    "for i in range(1, 10):\n",
    "    if i == 5:\n",
    "        break\n",
    "    print(i)"
   ]
  },
  {
   "cell_type": "markdown",
   "id": "9d1a7929",
   "metadata": {},
   "source": [
    "- #### 3.2. continue\n",
    "    L'instruction continue permet de sauter l'itération courante et de passer à la suivante."
   ]
  },
  {
   "cell_type": "code",
   "execution_count": 10,
   "id": "6eea31cf",
   "metadata": {},
   "outputs": [
    {
     "name": "stdout",
     "output_type": "stream",
     "text": [
      "1\n",
      "2\n",
      "3\n",
      "4\n",
      "6\n",
      "7\n",
      "8\n",
      "9\n"
     ]
    }
   ],
   "source": [
    "for i in range(1, 10):\n",
    "    if i == 5:\n",
    "        continue\n",
    "    print(i)"
   ]
  },
  {
   "cell_type": "markdown",
   "id": "6cf8d910",
   "metadata": {},
   "source": [
    "- #### 3.3. pass\n",
    "    L'instruction pass ne fait rien. Elle est souvent utilisée comme espace réservé pour des futures sections de code."
   ]
  },
  {
   "cell_type": "code",
   "execution_count": 11,
   "id": "9699dad3",
   "metadata": {},
   "outputs": [
    {
     "name": "stdout",
     "output_type": "stream",
     "text": [
      "1\n",
      "2\n",
      "3\n",
      "4\n",
      "5\n",
      "6\n",
      "7\n",
      "8\n",
      "9\n"
     ]
    }
   ],
   "source": [
    "for i in range(1, 10):\n",
    "    if i == 5:\n",
    "        pass\n",
    "    print(i)"
   ]
  },
  {
   "cell_type": "markdown",
   "id": "e7d01841",
   "metadata": {},
   "source": [
    "- ### 4- Options avancées\n",
    "    - #### 4.1. Boucle avec Conditions Complexes\n",
    "        Vous pouvez combiner des boucles et des conditions pour créer des flux de contrôle plus complexes."
   ]
  },
  {
   "cell_type": "code",
   "execution_count": 12,
   "id": "0db2f30c",
   "metadata": {},
   "outputs": [
    {
     "name": "stdout",
     "output_type": "stream",
     "text": [
      "2 est pair\n",
      "4 est pair\n",
      "6 est pair\n",
      "8 est pair\n",
      "10 est pair\n"
     ]
    }
   ],
   "source": [
    "numbers = [1, 2, 3, 4, 5, 6, 7, 8, 9, 10]\n",
    "\n",
    "# Imprimez les nombres pairs\n",
    "for number in numbers:\n",
    "    if number % 2 == 0:\n",
    "        print(f\"{number} est pair\")"
   ]
  },
  {
   "cell_type": "markdown",
   "id": "d89fe168",
   "metadata": {},
   "source": [
    "- #### 4.2. Imbrication de Boucles\n",
    "    Vous pouvez imbriquer des boucles pour itérer sur des structures de données plus complexes.\n",
    "\n",
    "\n"
   ]
  },
  {
   "cell_type": "code",
   "execution_count": 15,
   "id": "6f50264c",
   "metadata": {},
   "outputs": [
    {
     "name": "stdout",
     "output_type": "stream",
     "text": [
      "1 2 3 \n",
      "4 5 6 \n",
      "7 8 9 \n"
     ]
    }
   ],
   "source": [
    "matrix = [\n",
    "    [1, 2, 3],\n",
    "    [4, 5, 6],\n",
    "    [7, 8, 9]\n",
    "]\n",
    "\n",
    "for row in matrix:\n",
    "    for element in row:\n",
    "        print(element, end=\" \")\n",
    "    print()"
   ]
  },
  {
   "cell_type": "markdown",
   "id": "0de00f65",
   "metadata": {},
   "source": [
    "- #### 4.3. Utilisation de else avec des Boucles\n",
    "    Les boucles for et while peuvent également avoir une clause else qui s'exécute lorsque la boucle se termine normalement (c'est-à-dire sans être interrompue par un break).\n"
   ]
  },
  {
   "cell_type": "code",
   "execution_count": 19,
   "id": "4ef669bd",
   "metadata": {},
   "outputs": [
    {
     "name": "stdout",
     "output_type": "stream",
     "text": [
      "Trouvé un nombre supérieur à 10!\n"
     ]
    }
   ],
   "source": [
    "for number in numbers:\n",
    "    if number > 10:\n",
    "        print(\"Trouvé un nombre supérieur à 10!\")\n",
    "        break\n",
    "else:\n",
    "    print(\"Aucun nombre supérieur à 10 trouvé.\")"
   ]
  },
  {
   "cell_type": "markdown",
   "id": "685749f3",
   "metadata": {},
   "source": [
    "#### Exercice Pratique\n",
    "##### Exercice 1: \n",
    "- 1. Declarer une variable nommé alphabet de type string qui contient tous les lettres de l'alphabet.\n",
    "- 2. Parcourer cette variable jusqu'à ce que vous tomber sur la lettre h\n",
    "- 3. Une fois sur la lettre h afficher la position de la lettre h.\n",
    "\n",
    "\n"
   ]
  },
  {
   "cell_type": "code",
   "execution_count": 13,
   "id": "4d2df218",
   "metadata": {},
   "outputs": [],
   "source": [
    "alphabet = \"abcdefgijklmnopqrstuvwhxyz\"\n",
    "\n"
   ]
  },
  {
   "cell_type": "code",
   "execution_count": 14,
   "id": "4d254401",
   "metadata": {},
   "outputs": [
    {
     "name": "stdout",
     "output_type": "stream",
     "text": [
      "22\n"
     ]
    }
   ],
   "source": [
    "index = 0\n",
    "\n",
    "for lettre in alphabet:\n",
    "    if lettre == \"h\":\n",
    "        print(alphabet.index(lettre))\n",
    "        #print(index)\n",
    "        break\n",
    "    index += 1"
   ]
  },
  {
   "cell_type": "code",
   "execution_count": null,
   "id": "190ee6bd",
   "metadata": {},
   "outputs": [],
   "source": []
  },
  {
   "cell_type": "markdown",
   "id": "8e38f51f",
   "metadata": {},
   "source": [
    "#### Exercice 2 : Calculatrice d'Opérations Séquentielles\n",
    "\n",
    "#### Description\n",
    "\n",
    "Vous allez créer une calculatrice qui effectue des opérations mathématiques de manière séquentielle en fonction des entrées de l'utilisateur. La calculatrice doit permettre d'additionner, soustraire, multiplier et diviser des nombres, ainsi que de réinitialiser le calcul.\n",
    "\n",
    "#### Instructions\n",
    "\n",
    "1. **Initialiser la calculatrice :**\n",
    "   - Commencez avec une valeur initiale de 0.\n",
    "  \n",
    "2. **Afficher le menu :**\n",
    "   - Afficher les options disponibles pour l'utilisateur :\n",
    "     - Additionner un nombre\n",
    "     - Soustraire un nombre\n",
    "     - Multiplier par un nombre\n",
    "     - Diviser par un nombre\n",
    "     - Réinitialiser le calcul\n",
    "     - Quitter\n",
    "\n",
    "3. **Effectuer les opérations :**\n",
    "   - En fonction du choix de l'utilisateur, effectuer l'opération correspondante sur la valeur actuelle.\n",
    "\n",
    "4. **Conditions spéciales :**\n",
    "   - Lors de la division, vérifier si le dénominateur est 0 pour éviter une division par zéro.\n",
    "\n",
    "5. **Boucle principale :**\n",
    "   - Continuer à demander des opérations à l'utilisateur jusqu'à ce qu'il choisisse de quitter.\n",
    "\n",
    "#### Exemple\n",
    "\n",
    "```plaintext\n",
    "Valeur actuelle : 0\n",
    "Options :\n",
    "1. Additionner un nombre\n",
    "2. Soustraire un nombre\n",
    "3. Multiplier par un nombre\n",
    "4. Diviser par un nombre\n",
    "5. Réinitialiser le calcul\n",
    "6. Quitter\n",
    "\n",
    "Choisissez une option (1-6) : 1\n",
    "Entrez un nombre : 10\n",
    "Valeur actuelle : 10\n",
    "Options :\n",
    "1. Additionner un nombre\n",
    "2. Soustraire un nombre\n",
    "3. Multiplier par un nombre\n",
    "4. Diviser par un nombre\n",
    "5. Réinitialiser le calcul\n",
    "6. Quitter\n",
    "...\n",
    "```"
   ]
  },
  {
   "cell_type": "code",
   "execution_count": null,
   "id": "cbe753df",
   "metadata": {},
   "outputs": [],
   "source": []
  },
  {
   "cell_type": "code",
   "execution_count": null,
   "id": "e5926f90",
   "metadata": {},
   "outputs": [],
   "source": []
  },
  {
   "cell_type": "code",
   "execution_count": null,
   "id": "c6c7c2ea",
   "metadata": {},
   "outputs": [],
   "source": []
  },
  {
   "cell_type": "markdown",
   "id": "be89543a",
   "metadata": {},
   "source": [
    "##### Exercice 3: \n",
    "Écrire un programme qui demande à l'utilisateur de deviner un nombre secret compris entre 1 et 100. Le programme doit indiquer si le nombre deviné est trop grand ou trop petit, et continuer à demander des devinettes jusqu'à ce que l'utilisateur devine correctement. Utilisez des boucles et des structures de contrôle pour gérer ce comportement."
   ]
  },
  {
   "cell_type": "markdown",
   "id": "4e516816",
   "metadata": {},
   "source": [
    "##### Exercice 4\n",
    "Un semestre contient 6 modules. \n",
    "- Demander à l'utilisateur d'entrer les notes de ses modules. Veuillez à ce que les notes ne dépassent pas 20.\n",
    "- Une fois les notes remplis vous calculer la moyenne générale du semestre.\n",
    "- Vous afficherez ensuite la mention de l'utilisation\n",
    "    - <10 => Insuffissant\n",
    "    - 10<moyenne<12 => Passable\n",
    "    - 12<moyenne<14 => Assez-bien\n",
    "    - 14<moyenne<16 => Bien\n",
    "    - 16<moyenne<18 => Très bien\n",
    "    - moyenne>18 => Excellent"
   ]
  },
  {
   "cell_type": "code",
   "execution_count": null,
   "id": "66f30f32",
   "metadata": {},
   "outputs": [],
   "source": []
  },
  {
   "cell_type": "code",
   "execution_count": null,
   "id": "6d06b3ca",
   "metadata": {},
   "outputs": [],
   "source": []
  },
  {
   "cell_type": "code",
   "execution_count": null,
   "id": "3ff909e6",
   "metadata": {},
   "outputs": [],
   "source": []
  },
  {
   "cell_type": "code",
   "execution_count": null,
   "id": "e3c242bd",
   "metadata": {},
   "outputs": [],
   "source": []
  }
 ],
 "metadata": {
  "kernelspec": {
   "display_name": "Python 3 (ipykernel)",
   "language": "python",
   "name": "python3"
  },
  "language_info": {
   "codemirror_mode": {
    "name": "ipython",
    "version": 3
   },
   "file_extension": ".py",
   "mimetype": "text/x-python",
   "name": "python",
   "nbconvert_exporter": "python",
   "pygments_lexer": "ipython3",
   "version": "3.10.9"
  }
 },
 "nbformat": 4,
 "nbformat_minor": 5
}
