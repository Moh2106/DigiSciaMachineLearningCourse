{
 "cells": [
  {
   "cell_type": "markdown",
   "id": "162ebd88",
   "metadata": {},
   "source": [
    "# Atelier NumPy : Introduction et Applications Pratiques\n",
    "\n",
    "## Introduction à NumPy\n",
    "\n",
    "### Présentation de NumPy\n",
    "#### Qu'est-ce que NumPy ?\n",
    "- NumPy est une bibliothèque pour le langage Python, utilisée pour les calculs scientifiques.\n",
    "- Elle permet de manipuler des tableaux de grandes dimensions de manière efficace.\n",
    "\n",
    "#### Pourquoi utiliser NumPy ?\n",
    "- NumPy est beaucoup plus rapide que les listes Python pour les opérations sur des grandes quantités de données.\n",
    "- Il fournit une grande variété de fonctions pour des opérations mathématiques, logiques, de manipulation de formes, de tri, de sélection, d'entrées/sorties, et bien plus.\n",
    "\n",
    "#### Installation de NumPy\n",
    "```bash\n",
    "pip install numpy\n",
    "```"
   ]
  },
  {
   "cell_type": "markdown",
   "id": "707a8bfb",
   "metadata": {},
   "source": [
    "### Importation de NumPy\n",
    "```Python\n",
    "import numpy as np\n",
    "```"
   ]
  },
  {
   "cell_type": "markdown",
   "id": "e3014e7d",
   "metadata": {},
   "source": [
    "### Création de Tableaux NumPy\n",
    "\n",
    "#### À partir de listes Python\n",
    "``` Python\n",
    "a = np.array([1, 2, 3, 4, 5])\n",
    "print(\"Tableau 1D:\", a)\n",
    "\n",
    "b = np.array([[1, 2, 3], [4, 5, 6]])\n",
    "print(\"Tableau 2D:\\n\", b)\n",
    "```\n"
   ]
  },
  {
   "cell_type": "code",
   "execution_count": 2,
   "id": "bd503391",
   "metadata": {},
   "outputs": [],
   "source": [
    "import numpy as np"
   ]
  },
  {
   "cell_type": "code",
   "execution_count": 3,
   "id": "c4e5d2f0",
   "metadata": {},
   "outputs": [
    {
     "data": {
      "text/plain": [
       "(5,)"
      ]
     },
     "execution_count": 3,
     "metadata": {},
     "output_type": "execute_result"
    }
   ],
   "source": [
    "a = np.array([1,2,3,4,5])\n",
    "a.shape"
   ]
  },
  {
   "cell_type": "code",
   "execution_count": 4,
   "id": "72140043",
   "metadata": {},
   "outputs": [],
   "source": [
    "b = np.array([\n",
    "    [1,2,3],\n",
    "    [4,5,6]\n",
    "])"
   ]
  },
  {
   "cell_type": "code",
   "execution_count": 5,
   "id": "f0576297",
   "metadata": {},
   "outputs": [
    {
     "data": {
      "text/plain": [
       "(2, 3)"
      ]
     },
     "execution_count": 5,
     "metadata": {},
     "output_type": "execute_result"
    }
   ],
   "source": [
    "b.shape"
   ]
  },
  {
   "cell_type": "markdown",
   "id": "a2b51c77",
   "metadata": {},
   "source": [
    "### Utilisation de fonctions NumPy\n",
    "#### Création d'un tableau de zéros\n",
    "```Python\n",
    "zeros = np.zeros((3, 4))\n",
    "print(\"Tableau de zéros:\\n\", zeros)\n",
    "```"
   ]
  },
  {
   "cell_type": "code",
   "execution_count": 6,
   "id": "866980f1",
   "metadata": {},
   "outputs": [],
   "source": [
    "# Initialisation d'une tableau de zeros\n",
    "zeros = np.zeros((3,4))"
   ]
  },
  {
   "cell_type": "code",
   "execution_count": 7,
   "id": "88dadf2a",
   "metadata": {},
   "outputs": [
    {
     "data": {
      "text/plain": [
       "array([[0., 0., 0., 0.],\n",
       "       [0., 0., 0., 0.],\n",
       "       [0., 0., 0., 0.]])"
      ]
     },
     "execution_count": 7,
     "metadata": {},
     "output_type": "execute_result"
    }
   ],
   "source": [
    "zeros"
   ]
  },
  {
   "cell_type": "markdown",
   "id": "016bc5aa",
   "metadata": {},
   "source": [
    "### Création d'un tableau de uns\n",
    "```Python\n",
    "ones = np.ones((2, 3))\n",
    "print(\"Tableau de uns:\\n\", ones)\n",
    "```"
   ]
  },
  {
   "cell_type": "code",
   "execution_count": 8,
   "id": "60c690d7",
   "metadata": {},
   "outputs": [],
   "source": [
    "ones = np.ones((2,3))"
   ]
  },
  {
   "cell_type": "code",
   "execution_count": 9,
   "id": "729b0f02",
   "metadata": {},
   "outputs": [
    {
     "data": {
      "text/plain": [
       "array([[1., 1., 1.],\n",
       "       [1., 1., 1.]])"
      ]
     },
     "execution_count": 9,
     "metadata": {},
     "output_type": "execute_result"
    }
   ],
   "source": [
    "ones"
   ]
  },
  {
   "cell_type": "code",
   "execution_count": 11,
   "id": "4a042292",
   "metadata": {},
   "outputs": [
    {
     "data": {
      "text/plain": [
       "(2, 3)"
      ]
     },
     "execution_count": 11,
     "metadata": {},
     "output_type": "execute_result"
    }
   ],
   "source": [
    "ones.shape"
   ]
  },
  {
   "cell_type": "markdown",
   "id": "ab7c951c",
   "metadata": {},
   "source": [
    "### Création d'un tableau avec une séquence d'entiers\n",
    "```Python\n",
    "arange = np.arange(10, 20)\n",
    "print(\"Tableau avec arange:\\n\", arange)\n",
    "```"
   ]
  },
  {
   "cell_type": "code",
   "execution_count": 12,
   "id": "485dc362",
   "metadata": {},
   "outputs": [],
   "source": [
    "arange = np.arange(10, 20)"
   ]
  },
  {
   "cell_type": "code",
   "execution_count": 13,
   "id": "7d90c1be",
   "metadata": {},
   "outputs": [
    {
     "data": {
      "text/plain": [
       "array([10, 11, 12, 13, 14, 15, 16, 17, 18, 19])"
      ]
     },
     "execution_count": 13,
     "metadata": {},
     "output_type": "execute_result"
    }
   ],
   "source": [
    "arange"
   ]
  },
  {
   "cell_type": "markdown",
   "id": "049deb88",
   "metadata": {},
   "source": [
    "### Création d'un tableau avec des valeurs réparties uniformément\n",
    "```Python\n",
    "linspace = np.linspace(0, 1, 5)\n",
    "print(\"Tableau avec linspace:\\n\", linspace)\n",
    "```"
   ]
  },
  {
   "cell_type": "code",
   "execution_count": 14,
   "id": "b9ed47e4",
   "metadata": {},
   "outputs": [],
   "source": [
    "linspace = np.linspace(0, 1, 5)"
   ]
  },
  {
   "cell_type": "code",
   "execution_count": 15,
   "id": "23e4405e",
   "metadata": {},
   "outputs": [
    {
     "data": {
      "text/plain": [
       "array([0.  , 0.25, 0.5 , 0.75, 1.  ])"
      ]
     },
     "execution_count": 15,
     "metadata": {},
     "output_type": "execute_result"
    }
   ],
   "source": [
    "linspace"
   ]
  },
  {
   "cell_type": "markdown",
   "id": "1b3c90df",
   "metadata": {},
   "source": [
    "### Indexation et Slicing\n",
    "\n",
    "#### Accès aux éléments\n",
    "\n",
    "```Python\n",
    "print(\"Élément à l'indice 2 de a:\", a[2])\n",
    "print(\"Élément à la position (1, 2) de b:\", b[1, 2])\n",
    "```\n",
    "\n"
   ]
  },
  {
   "cell_type": "code",
   "execution_count": 17,
   "id": "adb999dc",
   "metadata": {},
   "outputs": [
    {
     "data": {
      "text/plain": [
       "array([3, 4])"
      ]
     },
     "execution_count": 17,
     "metadata": {},
     "output_type": "execute_result"
    }
   ],
   "source": [
    "a[2:4]"
   ]
  },
  {
   "cell_type": "markdown",
   "id": "e4348a00",
   "metadata": {},
   "source": [
    "#### Slicing\n",
    "```Python\n",
    "print(\"Slicing de a (du 2e au 4e élément):\", a[1:4])\n",
    "print(\"Slicing de b (toutes les lignes, 2e colonne):\", b[:, 1])\n",
    "```"
   ]
  },
  {
   "cell_type": "markdown",
   "id": "eedef6b9",
   "metadata": {},
   "source": [
    "\n",
    "### Modification des Tableaux\n",
    "\n",
    "#### Modification d'éléments\n",
    "\n",
    "```Python\n",
    "a[2] = 10\n",
    "print(\"a après modification:\", a)\n",
    "\n",
    "b[0, 1] = 7\n",
    "print(\"b après modification:\\n\", b)\n",
    "```\n"
   ]
  },
  {
   "cell_type": "markdown",
   "id": "0731fd3e",
   "metadata": {},
   "source": [
    "#### Reshape et resize\n",
    "```Python\n",
    "c = np.arange(8)\n",
    "print(\"Tableau original:\\n\", c)\n",
    "c_reshaped = c.reshape((2, 4))\n",
    "print(\"Tableau après reshape:\\n\", c_reshaped)\n",
    "```\n"
   ]
  },
  {
   "cell_type": "code",
   "execution_count": 18,
   "id": "2c49f253",
   "metadata": {},
   "outputs": [],
   "source": [
    "c = np.arange(8)"
   ]
  },
  {
   "cell_type": "code",
   "execution_count": 19,
   "id": "8e9c9389",
   "metadata": {},
   "outputs": [
    {
     "data": {
      "text/plain": [
       "array([0, 1, 2, 3, 4, 5, 6, 7])"
      ]
     },
     "execution_count": 19,
     "metadata": {},
     "output_type": "execute_result"
    }
   ],
   "source": [
    "c"
   ]
  },
  {
   "cell_type": "code",
   "execution_count": 20,
   "id": "fc4c0bc2",
   "metadata": {},
   "outputs": [
    {
     "data": {
      "text/plain": [
       "(8,)"
      ]
     },
     "execution_count": 20,
     "metadata": {},
     "output_type": "execute_result"
    }
   ],
   "source": [
    "c.shape"
   ]
  },
  {
   "cell_type": "code",
   "execution_count": 21,
   "id": "a5b21a26",
   "metadata": {},
   "outputs": [],
   "source": [
    "c_reshape = c.reshape((2,4))"
   ]
  },
  {
   "cell_type": "code",
   "execution_count": 22,
   "id": "0338f2f0",
   "metadata": {},
   "outputs": [
    {
     "data": {
      "text/plain": [
       "array([[0, 1, 2, 3],\n",
       "       [4, 5, 6, 7]])"
      ]
     },
     "execution_count": 22,
     "metadata": {},
     "output_type": "execute_result"
    }
   ],
   "source": [
    "c_reshape"
   ]
  },
  {
   "cell_type": "markdown",
   "id": "520f1ff6",
   "metadata": {},
   "source": [
    "### Ajout et suppression d'éléments\n",
    "\n",
    "```Python\n",
    "c_appended = np.append(c, [10, 11])\n",
    "print(\"Tableau après ajout d'éléments:\\n\", c_appended)\n",
    "\n",
    "c_deleted = np.delete(c, [1, 3])\n",
    "print(\"Tableau après suppression d'éléments:\\n\", c_deleted)\n",
    "```\n",
    "\n"
   ]
  },
  {
   "cell_type": "markdown",
   "id": "77af2725",
   "metadata": {},
   "source": [
    "### Opérations sur les Tableaux NumPy\n",
    "\n",
    "#### Opérations Mathématiques\n",
    "\n",
    "```Python\n",
    "d = np.array([1, 2, 3, 4])\n",
    "e = np.array([5, 6, 7, 8])\n",
    "\n",
    "print(\"Addition de d et e:\", d + e)\n",
    "print(\"Multiplication de d et e:\", d * e)\n",
    "```"
   ]
  },
  {
   "cell_type": "code",
   "execution_count": 23,
   "id": "951e4f0f",
   "metadata": {},
   "outputs": [],
   "source": [
    "d = np.array([1, 2, 3, 4])\n",
    "e = np.array([5, 6, 7, 8])"
   ]
  },
  {
   "cell_type": "code",
   "execution_count": 24,
   "id": "1e2a38b4",
   "metadata": {},
   "outputs": [
    {
     "data": {
      "text/plain": [
       "array([ 6,  8, 10, 12])"
      ]
     },
     "execution_count": 24,
     "metadata": {},
     "output_type": "execute_result"
    }
   ],
   "source": [
    "f = d + e\n",
    "f"
   ]
  },
  {
   "cell_type": "code",
   "execution_count": 26,
   "id": "aa49c8f5",
   "metadata": {},
   "outputs": [
    {
     "data": {
      "text/plain": [
       "array([10, 24, 42, 64])"
      ]
     },
     "execution_count": 26,
     "metadata": {},
     "output_type": "execute_result"
    }
   ],
   "source": [
    "multiplication = 2 * d * e\n",
    "\n",
    "multiplication"
   ]
  },
  {
   "cell_type": "code",
   "execution_count": 27,
   "id": "42dff3bd",
   "metadata": {},
   "outputs": [],
   "source": [
    "secondTableau = np.array([2])"
   ]
  },
  {
   "cell_type": "code",
   "execution_count": 28,
   "id": "6bc1e4f4",
   "metadata": {},
   "outputs": [
    {
     "data": {
      "text/plain": [
       "array([2, 4, 6, 8])"
      ]
     },
     "execution_count": 28,
     "metadata": {},
     "output_type": "execute_result"
    }
   ],
   "source": [
    "mul = d * secondTableau\n",
    "mul"
   ]
  },
  {
   "cell_type": "markdown",
   "id": "0da2b2de",
   "metadata": {},
   "source": [
    "### Fonctions universelles (ufuncs)\n",
    "```Python\n",
    "print(\"Racine carrée de d:\", np.sqrt(d))\n",
    "print(\"Exponentielle de d:\", np.exp(d))\n",
    "\n",
    "```"
   ]
  },
  {
   "cell_type": "code",
   "execution_count": 29,
   "id": "3bf3de1c",
   "metadata": {},
   "outputs": [
    {
     "data": {
      "text/plain": [
       "array([1.        , 1.41421356, 1.73205081, 2.        ])"
      ]
     },
     "execution_count": 29,
     "metadata": {},
     "output_type": "execute_result"
    }
   ],
   "source": [
    "exp = np.sqrt(d)\n",
    "exp"
   ]
  },
  {
   "cell_type": "markdown",
   "id": "3acb37bf",
   "metadata": {},
   "source": [
    "### Statistiques de Base\n",
    "\n",
    "```Python\n",
    "print(\"Moyenne de d:\", np.mean(d))\n",
    "print(\"Médiane de d:\", np.median(d))\n",
    "print(\"Écart-type de d:\", np.std(d))\n",
    "```"
   ]
  },
  {
   "cell_type": "markdown",
   "id": "edb18481",
   "metadata": {},
   "source": [
    "### Opérations Logiques\n",
    "```Python\n",
    "print(\"d égal à e:\", np.equal(d, e))\n",
    "print(\"d plus grand que 2:\", np.greater(d, 2))\n",
    "\n",
    "print(\"Opération logique AND:\", np.logical_and(d > 2, e > 6))\n",
    "print(\"Opération logique OR:\", np.logical_or(d > 2, e > 6))\n",
    "```"
   ]
  },
  {
   "cell_type": "markdown",
   "id": "9f9b2115",
   "metadata": {},
   "source": [
    "### Simulation de Données\n",
    "#### Génération de données aléatoires\n",
    "\n",
    "```Python\n",
    "random_data = np.random.rand(5, 5)\n",
    "print(\"Données aléatoires:\\n\", random_data)\n",
    "\n",
    "# Simulations simples\n",
    "# Simulation de lancer de dés\n",
    "dice_rolls = np.random.randint(1, 7, size=10)\n",
    "print(\"Lancer de dés:\\n\", dice_rolls)\n",
    "```"
   ]
  },
  {
   "cell_type": "code",
   "execution_count": 30,
   "id": "65ef81c6",
   "metadata": {},
   "outputs": [
    {
     "data": {
      "text/plain": [
       "array([[0.53591359, 0.37105164, 0.74896271, 0.10879086, 0.3312349 ],\n",
       "       [0.76817386, 0.98272318, 0.7725832 , 0.53620427, 0.06998915],\n",
       "       [0.1337974 , 0.61041002, 0.06418361, 0.63037428, 0.08676137],\n",
       "       [0.57687387, 0.90498332, 0.14068897, 0.20255582, 0.23947887],\n",
       "       [0.53555421, 0.23994066, 0.56376904, 0.68723399, 0.66215637]])"
      ]
     },
     "execution_count": 30,
     "metadata": {},
     "output_type": "execute_result"
    }
   ],
   "source": [
    "random_data = np.random.rand(5, 5)\n",
    "random_data"
   ]
  },
  {
   "cell_type": "markdown",
   "id": "d692493e",
   "metadata": {},
   "source": [
    "### Exercice NumPy : Analyse des Données de Vente\n",
    "\n",
    "#### Contexte\n",
    "Vous travaillez pour une entreprise qui vend des produits en ligne. Vous avez des données de vente mensuelles pour une période de six mois. Les données comprennent le nombre de produits vendus et les revenus générés chaque mois. Vous allez utiliser NumPy pour analyser ces données et extraire des informations utiles.\n",
    "\n",
    "#### Données de Vente\n",
    "Les données sont sous forme de tableaux NumPy :\n",
    "- `produits_vendus` : Un tableau 1D contenant le nombre de produits vendus chaque mois.\n",
    "- `revenus` : Un tableau 1D contenant les revenus générés chaque mois.\n",
    "\n",
    "Voici les données pour les six mois :\n",
    "- Produits vendus : `[150, 200, 180, 220, 210, 190]`\n",
    "- Revenus en milliers de dollars : `[75, 100, 90, 110, 105, 95]`\n",
    "\n",
    "#### Objectifs\n",
    "1. Créer et afficher les tableaux `produits_vendus` et `revenus`.\n",
    "2. Calculer et afficher le total des produits vendus et des revenus pour les six mois.\n",
    "3. Calculer et afficher le nombre moyen de produits vendus par mois et le revenu moyen par mois.\n",
    "4. Identifier le mois avec le plus grand nombre de produits vendus et celui avec le revenu le plus élevé.\n",
    "5. Visualiser les données de vente sous forme de graphique.\n",
    "\n",
    "### Instructions\n",
    "\n",
    "#### Étape 1 : Créer et Afficher les Tableaux\n",
    "Créez les tableaux `produits_vendus` et `revenus` à partir des données fournies et affichez-les.\n",
    "\n",
    "#### Étape 2 : Calculer le Total des Produits Vendus et des Revenus\n",
    "Utilisez les fonctions NumPy pour calculer le total des produits vendus et des revenus pour les six mois.\n",
    "\n",
    "#### Étape 3 : Calculer les Moyennes Mensuelles\n",
    "Calculez le nombre moyen de produits vendus par mois et le revenu moyen par mois.\n",
    "\n",
    "#### Étape 4 : Identifier les Mois avec les Ventes et les Revenus les Plus Élevés\n",
    "Utilisez les fonctions NumPy pour identifier le mois avec le plus grand nombre de produits vendus et celui avec le revenu le plus élevé.\n",
    "\n",
    "#### Étape 5 : Visualiser les Données\n",
    "Utilisez Matplotlib pour créer un graphique montrant les produits vendus et les revenus pour chaque mois.\n"
   ]
  },
  {
   "cell_type": "markdown",
   "id": "c87cff2a",
   "metadata": {},
   "source": [
    "### Exercice NumPy : Analyse des Données Météorologiques\n",
    "\n",
    "#### Contexte\n",
    "Vous travaillez pour un service météorologique et vous devez analyser les données de température quotidienne enregistrées sur une période de 30 jours dans une ville. Vous utiliserez NumPy pour analyser ces données et extraire des informations utiles.\n",
    "\n",
    "#### Données Météorologiques\n",
    "Les données de température (en degrés Celsius) pour les 30 jours sont les suivantes :\n",
    "```\n",
    "[22.1, 23.3, 21.7, 22.5, 24.0, 25.1, 23.8, 24.5, 23.0, 22.9, 21.4, 20.8, 22.3, 24.1, 25.6,\n",
    " 24.3, 23.7, 22.8, 21.9, 22.4, 23.2, 22.7, 21.6, 20.9, 21.5, 22.6, 23.9, 24.2, 25.0, 24.7]\n",
    "```\n",
    "\n",
    "#### Objectifs\n",
    "1. Créer et afficher le tableau des températures.\n",
    "2. Calculer et afficher la température moyenne sur les 30 jours.\n",
    "3. Trouver et afficher les jours avec la température maximale et minimale.\n",
    "4. Calculer et afficher la variance et l'écart-type des températures.\n",
    "5. Créer un graphique de la température quotidienne.\n",
    "\n",
    "### Instructions\n",
    "\n",
    "#### Étape 1 : Créer et Afficher le Tableau des Températures\n",
    "Créez le tableau `temperatures` à partir des données fournies et affichez-le.\n",
    "\n",
    "#### Étape 2 : Calculer la Température Moyenne\n",
    "Utilisez NumPy pour calculer la température moyenne sur les 30 jours.\n",
    "\n",
    "#### Étape 3 : Trouver les Jours avec les Températures Maximale et Minimale\n",
    "Utilisez NumPy pour trouver les jours avec les températures maximale et minimale.\n",
    "\n",
    "#### Étape 4 : Calculer la Variance et l'Écart-type\n",
    "Utilisez NumPy pour calculer la variance et l'écart-type des températures.\n",
    "\n",
    "#### Étape 5 : Créer un Graphique de la Température Quotidienne\n",
    "Utilisez Matplotlib pour créer un graphique de la température quotidienne."
   ]
  },
  {
   "cell_type": "code",
   "execution_count": null,
   "id": "8e54b7cb",
   "metadata": {},
   "outputs": [],
   "source": []
  }
 ],
 "metadata": {
  "kernelspec": {
   "display_name": "Python 3 (ipykernel)",
   "language": "python",
   "name": "python3"
  },
  "language_info": {
   "codemirror_mode": {
    "name": "ipython",
    "version": 3
   },
   "file_extension": ".py",
   "mimetype": "text/x-python",
   "name": "python",
   "nbconvert_exporter": "python",
   "pygments_lexer": "ipython3",
   "version": "3.10.9"
  }
 },
 "nbformat": 4,
 "nbformat_minor": 5
}
